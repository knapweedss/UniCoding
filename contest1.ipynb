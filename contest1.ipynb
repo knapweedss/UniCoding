{
 "cells": [
  {
   "cell_type": "markdown",
   "id": "ba330dc9",
   "metadata": {},
   "source": [
    "### Простые числа в интервале от n до m"
   ]
  },
  {
   "cell_type": "code",
   "execution_count": 2,
   "id": "aba10b12",
   "metadata": {},
   "outputs": [
    {
     "name": "stdout",
     "output_type": "stream",
     "text": [
      "2 80\n",
      "2 3 5 7 11 13 17 19 23 29 31 37 41 43 47 53 59 61 67 71 73 79\n"
     ]
    }
   ],
   "source": [
    "def eratosthenes(m):\n",
    "    sieve = [1 for i in range(m + 1)]\n",
    "    sieve[0] = 0\n",
    "    sieve[1] = 0\n",
    "    i = 2\n",
    "    while i**2 <= m+1:\n",
    "        if sieve[i]:\n",
    "            for j in range(i**2, m+1, i):\n",
    "                sieve[j] = 0\n",
    "        i += 1\n",
    "    return sieve\n",
    "\n",
    "def primes_in_interval(n, sieve):\n",
    "    return str([i for i in range(n, len(sieve)) if sieve[i]]).replace('[', '').replace(']', '').replace(',', '')\n",
    "\n",
    "def check(n, m):\n",
    "    if n >= 2 and m <= 10 ** 7 and 0 <= m - n <= 10 ** 6:\n",
    "        sieve = eratosthenes(m)\n",
    "        print(primes_in_interval(n, sieve))\n",
    "    else:\n",
    "        pass\n",
    "\n",
    "n, m = map(int, input().split())\n",
    "check(n, m)"
   ]
  },
  {
   "cell_type": "markdown",
   "id": "e3764310",
   "metadata": {},
   "source": [
    "### Маша и Маша"
   ]
  },
  {
   "cell_type": "code",
   "execution_count": 3,
   "id": "ed232e20",
   "metadata": {},
   "outputs": [
    {
     "name": "stdout",
     "output_type": "stream",
     "text": [
      "1 2 9\n",
      "5\n"
     ]
    }
   ],
   "source": [
    "import math\n",
    "\n",
    "\n",
    "def shops_count(a, b, n):\n",
    "\n",
    "    if a >= 1 and b >= 1 and n <= 10 ** 9:\n",
    "        gcd = math.gcd(a, b)\n",
    "        return (n - n // (a * b // gcd))\n",
    "\n",
    "    else:\n",
    "        print('ValueError')\n",
    "\n",
    "a, b, n = map(int, input().split())\n",
    "print(shops_count(a, b, n))"
   ]
  },
  {
   "cell_type": "markdown",
   "id": "010d8890",
   "metadata": {},
   "source": [
    "Два различных натуральных числа называются дружественными, если первое из них равно сумме делителей второго числа, а второе равно сумме делителей первого числа. При подсчете делителей числа учитываются все делители, кроме самого числа. Проверьте на дружественность числа n и m"
   ]
  },
  {
   "cell_type": "code",
   "execution_count": 30,
   "id": "928d9f26",
   "metadata": {},
   "outputs": [
    {
     "name": "stdout",
     "output_type": "stream",
     "text": [
      "2 3\n",
      "NO\n"
     ]
    }
   ],
   "source": [
    "def dividers(n, m):\n",
    "    n_sum = sum([i for i in range(1, n - 1) if n % i == 0])\n",
    "    m_sum = sum([j for j in range(1, m - 1) if m % j == 0])\n",
    "\n",
    "    if n == m_sum and m == n_sum:\n",
    "        print('YES')\n",
    "    else:\n",
    "        print('NO')\n",
    "\n",
    "def check(n, m):\n",
    "    if n <= 10**6 and m <= 10 ** 6:\n",
    "        dividers(n, m)\n",
    "    else:\n",
    "        pass\n",
    "\n",
    "n, m = map(int, input().split())\n",
    "check(n, m)"
   ]
  },
  {
   "cell_type": "markdown",
   "id": "585ee4d3",
   "metadata": {},
   "source": [
    "### Принадлежность точки отрезку "
   ]
  },
  {
   "cell_type": "code",
   "execution_count": 143,
   "id": "4e653cce",
   "metadata": {},
   "outputs": [
    {
     "name": "stdout",
     "output_type": "stream",
     "text": [
      "1 1 2 3 5 7\n",
      "NO\n"
     ]
    }
   ],
   "source": [
    "class Point:\n",
    "\n",
    "    def __init__(self, x, y):\n",
    "        self.x = x\n",
    "        self.y = y\n",
    "\n",
    "    def distance(self, another):\n",
    "        return math.hypot(self.x - another.x, self.y - another.y)\n",
    "\n",
    "\n",
    "class Vector:\n",
    "\n",
    "    def __init__(self, a, b):\n",
    "        if isinstance(a, int) and isinstance(b, int):\n",
    "            self.x = a\n",
    "            self.y = b\n",
    "        elif isinstance(a, Point) and isinstance(b, Point):\n",
    "            self.x = a.x - b.x\n",
    "            self.y = a.y - b.y\n",
    "\n",
    "    def __repr__(self):\n",
    "        return f\"Vector({self.x}, {self.y})\"\n",
    "\n",
    "    def __mul__(self, another):\n",
    "        return self.x * another.x + self.y * another.y\n",
    "\n",
    "    def __mod__(self, another):\n",
    "        return self.x * another.y - self.y * another.x\n",
    "\n",
    "    def __sub__(self, another):\n",
    "        return Vector(self.x - another.x, self.y - another.y)\n",
    "\n",
    "\n",
    "\n",
    "def condition(vec1, vec2, vec3, vec4):\n",
    "    if vec1 % vec2 == 0 and vec3 * vec4 <= 0:\n",
    "        print('YES')\n",
    "    else:\n",
    "        print('NO')\n",
    "\n",
    "\n",
    "def check(vvod):\n",
    "    p1 = Vector(*list(map(int, vvod.split()[0:2])))\n",
    "    v2 = Vector(*list(map(int, vvod.split()[2:4])))\n",
    "    v3 = Vector(*list(map(int, vvod.split()[4:6])))\n",
    "\n",
    "    vec1 = v3 - v2\n",
    "    vec2 = p1 - v2\n",
    "    vec3 = v3 - p1\n",
    "    vec4 = v2 - p1\n",
    "\n",
    "\n",
    "    condition(vec1, vec2, vec3, vec4)\n",
    "\n",
    "vvod = input()\n",
    "check(vvod)"
   ]
  },
  {
   "cell_type": "markdown",
   "id": "f07f7fc7",
   "metadata": {},
   "source": [
    "### Общие вершины"
   ]
  },
  {
   "cell_type": "markdown",
   "id": "6a5822e4",
   "metadata": {},
   "source": [
    "В окружность вписаны \n",
    "N-угольник и M-угольник. Известно, что многоугольники правильные и имеют как минимум одну общую вершину. Вам необходимо подсчитать, сколько всего общих вершин имеют эти два многоугольника"
   ]
  },
  {
   "cell_type": "code",
   "execution_count": 5,
   "id": "9428d067",
   "metadata": {},
   "outputs": [],
   "source": [
    "def vertex(a, b):\n",
    "    while b:  \n",
    "        a, b = b, a%b\n",
    "    return a"
   ]
  },
  {
   "cell_type": "code",
   "execution_count": 7,
   "id": "8d057e81",
   "metadata": {},
   "outputs": [
    {
     "name": "stdout",
     "output_type": "stream",
     "text": [
      "2\n"
     ]
    }
   ],
   "source": [
    "print(vertex(4, 6))"
   ]
  },
  {
   "cell_type": "markdown",
   "id": "73c11722",
   "metadata": {},
   "source": [
    "### Слажал - отжался"
   ]
  },
  {
   "cell_type": "markdown",
   "id": "17a961a2",
   "metadata": {},
   "source": [
    "В примере школьники с ростом 1 и 2 поменяются местами и каждый отожмётся по разу, затем школьники 1 и 3 (каждый отжимается 2 раза, суммарно плюс 4 отжимания), и последними школьники 2 и 3 (плюс 2 отжимания)."
   ]
  },
  {
   "cell_type": "code",
   "execution_count": 42,
   "id": "9b9c46db",
   "metadata": {},
   "outputs": [
    {
     "name": "stdout",
     "output_type": "stream",
     "text": [
      "3\n",
      "1 2 3 4 5 5 \n",
      "8\n"
     ]
    }
   ],
   "source": [
    "def pushups(a, b):\n",
    "    i = 0\n",
    "    push = 0\n",
    "    while a > i:\n",
    "        if b[i - 1] >= b[i] or i == 0:\n",
    "            i += 1\n",
    "        else:\n",
    "            b[i - 1], b[i] = b[i], b[i - 1]\n",
    "            push += (b[i-1] - b[i]) * 2\n",
    "            i -= 1\n",
    "    return push\n",
    "a = int(input())\n",
    "b = list(map(int, input().split()))\n",
    "print(pushups(a, b))"
   ]
  },
  {
   "cell_type": "markdown",
   "id": "a8e6f560",
   "metadata": {},
   "source": [
    "### Имперский марш"
   ]
  },
  {
   "cell_type": "code",
   "execution_count": 50,
   "id": "254c6d73",
   "metadata": {},
   "outputs": [
    {
     "name": "stdout",
     "output_type": "stream",
     "text": [
      "6\n",
      "12 12 14 12 1 1\n",
      "Counter({12: 3, 1: 2, 14: 1})\n"
     ]
    }
   ],
   "source": [
    "def split_sort(first, second):\n",
    "\n",
    "    if len(first) == 0:\n",
    "        return first\n",
    "\n",
    "    if len(second) == 0:\n",
    "        return second\n",
    "\n",
    "    final = []\n",
    "    i, j = 0, 0\n",
    "\n",
    "    while len(first) > 0 and len(second) > 0:\n",
    "        if first[i] <= second[j]:\n",
    "            final.append(first[i])\n",
    "            i += 1\n",
    "        else:\n",
    "            final.append(second[j])\n",
    "            j += 1\n",
    "\n",
    "\n",
    "        if len(first) == i:\n",
    "            final += second[j:]\n",
    "            break\n",
    "        elif len(second) == j:\n",
    "            final += first[i:]\n",
    "            break\n",
    "        else:\n",
    "            pass\n",
    "\n",
    "    return final\n",
    "\n",
    "def merged(b):\n",
    "\n",
    "    if len(b) < 2:\n",
    "        return b\n",
    "\n",
    "    half = len(b) // 2\n",
    "    first = merged(b[:half])\n",
    "    second = merged(b[half:])\n",
    "    return split_sort(first, second)\n",
    "\n",
    "a = int(input())\n",
    "b = list(map(int, input().split()))\n",
    "print(*merged(b))"
   ]
  },
  {
   "cell_type": "markdown",
   "id": "c07c93e9",
   "metadata": {},
   "source": [
    "### Сортировка оценок"
   ]
  },
  {
   "cell_type": "code",
   "execution_count": 1,
   "id": "048c158b",
   "metadata": {},
   "outputs": [
    {
     "name": "stdout",
     "output_type": "stream",
     "text": [
      "2 4 2 2\n",
      "2 2 2 4 \n"
     ]
    }
   ],
   "source": [
    "def grade(b):\n",
    "    result = ''\n",
    "    pseudo = [0] * 137\n",
    "    for i in b:\n",
    "        pseudo[i] += 1\n",
    "\n",
    "    for j in range(len(pseudo)):\n",
    "        for i in range(pseudo[j]):\n",
    "            result += str(j) + ' '\n",
    "    return result\n",
    "\n",
    "\n",
    "b = list(map(int, input().split()))\n",
    "print(grade(b))"
   ]
  },
  {
   "cell_type": "markdown",
   "id": "7f9dd28c",
   "metadata": {},
   "source": [
    "### Самописный мерджжжж"
   ]
  },
  {
   "cell_type": "code",
   "execution_count": 2,
   "id": "2b2118e3",
   "metadata": {},
   "outputs": [
    {
     "name": "stdout",
     "output_type": "stream",
     "text": [
      "4 53 5\n",
      "[4, 5, 53]\n"
     ]
    }
   ],
   "source": [
    "import random\n",
    "def biggest(a):\n",
    "\n",
    "    if len(a) > 1:\n",
    "        r = random.choice(a)\n",
    "        left, middle, right = [], [], []\n",
    "        for i in a:\n",
    "            if i < r:\n",
    "                left.append(i)\n",
    "            elif i > r:\n",
    "                right.append(i)\n",
    "            else:\n",
    "                middle.append(i)\n",
    "\n",
    "        return biggest(left) + middle + biggest(right)\n",
    "\n",
    "    else:\n",
    "        return a\n",
    "\n",
    "d = list(map(int, input().split()))\n",
    "distances = biggest(d)\n",
    "print(list(distances))"
   ]
  },
  {
   "cell_type": "markdown",
   "id": "2dcac726",
   "metadata": {},
   "source": [
    "## Такси "
   ]
  },
  {
   "cell_type": "code",
   "execution_count": 3,
   "id": "56ffb75c",
   "metadata": {},
   "outputs": [
    {
     "name": "stdout",
     "output_type": "stream",
     "text": [
      "4\n",
      "1 2 1 50\n",
      "100 3 2 7\n",
      "1 2 4 3\n"
     ]
    }
   ],
   "source": [
    "import random\n",
    "def split_sort(first, second):\n",
    "\n",
    "    if len(first) == 0:\n",
    "        return first\n",
    "\n",
    "    if len(second) == 0:\n",
    "        return second\n",
    "\n",
    "    final = []\n",
    "    i, j = 0, 0\n",
    "\n",
    "    while len(first) > 0 and len(second) > 0:\n",
    "        if first[i] <= second[j]:\n",
    "            final.append(first[i])\n",
    "            i += 1\n",
    "        else:\n",
    "            final.append(second[j])\n",
    "            j += 1\n",
    "\n",
    "\n",
    "        if len(first) == i:\n",
    "            final += second[j:]\n",
    "            break\n",
    "        elif len(second) == j:\n",
    "            final += first[i:]\n",
    "            break\n",
    "        else:\n",
    "            pass\n",
    "\n",
    "    return final\n",
    "\n",
    "def merged(b):\n",
    "\n",
    "    if len(b) < 2:\n",
    "        return b\n",
    "\n",
    "    half = len(b) // 2\n",
    "    first = merged(b[:half])\n",
    "    second = merged(b[half:])\n",
    "    return split_sort(first, second)\n",
    "\n",
    "def biggest(a):\n",
    "\n",
    "    if len(a) >= 1:\n",
    "        r = random.choice(a)\n",
    "        left, middle, right = [], [], []\n",
    "        for i in a:\n",
    "            if i < r:\n",
    "                left.append(i)\n",
    "            elif i > r:\n",
    "                right.append(i)\n",
    "            else:\n",
    "                middle.append(i)\n",
    "        return biggest(right) + middle + biggest(left)\n",
    "    else:\n",
    "        return a\n",
    "\n",
    "people = int(input())\n",
    "dist = list(map(int, input().split()))\n",
    "cost = list(map(int, input().split()))\n",
    "\n",
    "distan = ([(dist[i], i) for i in range(len(dist))])\n",
    "\n",
    "costan = ([(cost[i], i) for i in range(len(cost))]) # то же самое, что сверху\n",
    "pepl = merged(distan) # расстояния от min к max\n",
    "price = biggest(costan) # цены от max к min\n",
    "\n",
    "ans = [-1] * people\n",
    "for d, c in zip(pepl, price):\n",
    "    ans[d[1]] = c[1] + 1\n",
    "\n",
    "print(*ans)"
   ]
  },
  {
   "cell_type": "markdown",
   "id": "c4de9a5b",
   "metadata": {},
   "source": [
    "## Число"
   ]
  },
  {
   "cell_type": "code",
   "execution_count": null,
   "id": "9d4cba18",
   "metadata": {},
   "outputs": [],
   "source": [
    "def split_sort(first, second):\n",
    "\n",
    "    if len(first) == 0:\n",
    "        return first\n",
    "\n",
    "    if len(second) == 0:\n",
    "        return second\n",
    "\n",
    "    final = []\n",
    "    i, j = 0, 0\n",
    "\n",
    "    while len(first) > 0 and len(second) > 0:\n",
    "\n",
    "        if first[i] + second[j] > second[j] + first[i]:\n",
    "            final.append(first[i])\n",
    "            i += 1\n",
    "        else:\n",
    "            final.append(second[j])\n",
    "            j += 1\n",
    "\n",
    "\n",
    "        if len(first) == i:\n",
    "            final += second[j:]\n",
    "            break\n",
    "        elif len(second) == j:\n",
    "            final += first[i:]\n",
    "            break\n",
    "        else:\n",
    "            pass\n",
    "\n",
    "\n",
    "    return final\n",
    "\n",
    "def merged(b):\n",
    "\n",
    "    if len(b) < 2:\n",
    "        return b\n",
    "\n",
    "    half = len(b) // 2\n",
    "    first = merged(b[:half])\n",
    "    second = merged(b[half:])\n",
    "    return split_sort(first, second)\n",
    "\n",
    "with open('number.in', 'r') as file:\n",
    "    b = file.read()\n",
    "a = b.split('\\n')\n",
    "\n",
    "print(''.join(merged(a)))"
   ]
  },
  {
   "cell_type": "markdown",
   "id": "1a96191b",
   "metadata": {},
   "source": [
    "## Расстояние между отрезками"
   ]
  },
  {
   "cell_type": "code",
   "execution_count": 238,
   "id": "0209c6ac",
   "metadata": {},
   "outputs": [
    {
     "name": "stdout",
     "output_type": "stream",
     "text": [
      "1 2 2 4\n",
      "3 2 14 5\n",
      "1.7888543819998317\n"
     ]
    }
   ],
   "source": [
    "import math\n",
    "\n",
    "def check(px1, py1, px2, py2, px3, py3):\n",
    "\n",
    "    if px1 == px2:\n",
    "        px1, py1 = py1, px1\n",
    "        px2, py2 = py2, px2\n",
    "        px3, py3 = py3, px3\n",
    "\n",
    "    k = (py1 - py2) / (px1 - px2)\n",
    "    d = py1 - k * px1\n",
    "    Z1 = px3 * px2 - px3 * px1 + py2 * py3 - py1 * py3 + py1 * d - py2 * d\n",
    "    Z2 = k * py2 - k * py1 + px2 - px1\n",
    "    Z = Z1 / Z2\n",
    "    l=-1\n",
    "    if (Z <= px2 and Z >= px1) or (Z <= px1 and Z >= px2):\n",
    "        l = math.sqrt((px3 - Z)**2 + (py3 - Z * k - d)**2)\n",
    "    return l\n",
    "\n",
    "def sqr(p1x, p1y, p2x, p2y):\n",
    "    return math.sqrt((p1x - p2x)**2 + (p1y - p2y)**2)\n",
    "\n",
    "def slv(px1, py1, px2, py2, px3, py3, px4, py4):\n",
    "\n",
    "    first = (px2 - px1) * (py3 - py4) - (py2 - py1) * (px3 - px4)\n",
    "    second = (px2 - px1) * (py3 - py1) - (py2 - py1) * (px3 - px1)\n",
    "    third = (py3 - py4) * (px3 - px1) - (px3 - px4) * (py3 - py1)\n",
    "\n",
    "    if first != 0:\n",
    "        i = second/first\n",
    "        j = third/first\n",
    "\n",
    "    if (i >= 0 and j >= 0) and (i <= 1 and j <= 1):\n",
    "        min = 0\n",
    "    else:\n",
    "\n",
    "        len_one = check(px1, py1, px2, py2, px3, py3)\n",
    "        min = len_one\n",
    "\n",
    "        len_two = check(px1, py1, px2, py2, px4, py4)\n",
    "        if len_two < min and len_two != -1 or min == -1:\n",
    "            min = len_two\n",
    "\n",
    "        len_thr = check(px3, py3, px4, py4, px1, py1)\n",
    "        if len_thr < min and len_thr != -1 or min == -1:\n",
    "            min = len_thr\n",
    "        len_f = check(px3, py3, px4, py4, px2, py2)\n",
    "        if len_f < min and len_f != -1 or min == -1:\n",
    "            min = len_f\n",
    "\n",
    "        if min == -1:\n",
    "            len_one = sqr(px1, py1, px3, py3)\n",
    "            min = len_one\n",
    "\n",
    "            len_two = sqr(px2, py2, px4, py4)\n",
    "            if len_two < min:\n",
    "                min = len_two\n",
    "\n",
    "            len_thr = sqr(px2, py2, px3, py3)\n",
    "            if len_thr < min:\n",
    "                min = len_thr\n",
    "\n",
    "            len_f = sqr(px1, py1, px4, py4)\n",
    "            if len_f < min:\n",
    "                min = len_f\n",
    "    return min\n",
    "\n",
    "px1, py1, px2, py2 = [int(j) for j in input().split()]\n",
    "px3, py3, px4, py4 = [int(j) for j in input().split()]\n",
    "\n",
    "print(slv(px1, py1, px2, py2, px3, py3, px4, py4))"
   ]
  },
  {
   "cell_type": "code",
   "execution_count": null,
   "id": "5d96a9c1",
   "metadata": {},
   "outputs": [],
   "source": []
  }
 ],
 "metadata": {
  "kernelspec": {
   "display_name": "Python 3 (ipykernel)",
   "language": "python",
   "name": "python3"
  },
  "language_info": {
   "codemirror_mode": {
    "name": "ipython",
    "version": 3
   },
   "file_extension": ".py",
   "mimetype": "text/x-python",
   "name": "python",
   "nbconvert_exporter": "python",
   "pygments_lexer": "ipython3",
   "version": "3.7.1"
  }
 },
 "nbformat": 4,
 "nbformat_minor": 5
}

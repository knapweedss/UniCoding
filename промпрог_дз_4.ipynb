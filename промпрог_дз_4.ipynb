{
 "cells": [
  {
   "cell_type": "markdown",
   "id": "f2949c84",
   "metadata": {},
   "source": [
    "# класс Vehicle"
   ]
  },
  {
   "cell_type": "markdown",
   "id": "ccf9063b",
   "metadata": {},
   "source": [
    "Вам нужно создать абстрактный класс Vehicle у которого должны быть следующие свойства\n",
    "- конструктор __init__, принимающий строковый аргумент model - название модели транспорта, значение по умолчанию - ’unknown’, создает атрибут model с переданным значением;\n",
    "- абстрактный метод move, принимающий аргумент distance - неотрицательное число (int или ﬂoat);\n",
    "- Также нужно создать унаследованные от Vehicle классы Car и Boat c переопределенным методом move. \n",
    "- Он должен печатать ’Лодка проплыла distance километров’ у Boat и ’Автомобиль проехал distance километров’ у Car. Если что-то не так с аргументом distance, пусть метод не делает ничего."
   ]
  },
  {
   "cell_type": "code",
   "execution_count": 81,
   "id": "33796d1c",
   "metadata": {},
   "outputs": [],
   "source": [
    "from abc import ABC, abstractmethod\n",
    "\n",
    "\n",
    "class Vehicle(ABC):\n",
    "\n",
    "    def __init__(self, model: str = \"unknown\"):\n",
    "        self.model = model\n",
    "\n",
    "    @abstractmethod\n",
    "    def move(self, distance: (int, float)) -> str:\n",
    "        pass\n",
    "\n",
    "class Car(Vehicle):\n",
    "\n",
    "    def move(self, distance: (int, float)) -> str:\n",
    "        if isinstance(distance, (int, float)) and distance > 0:\n",
    "            print(f\"Автомобиль проехал {distance} километров\")\n",
    "            \n",
    "class Boat(Vehicle):\n",
    "\n",
    "    def move(self, distance: (int, float)) -> str:\n",
    "        if isinstance(distance, (int, float)) and distance > 0:\n",
    "            print(f\"Лодка проплыла {distance} километров\")"
   ]
  },
  {
   "cell_type": "markdown",
   "id": "37b923e1",
   "metadata": {},
   "source": [
    "# класс Rectangle"
   ]
  },
  {
   "cell_type": "markdown",
   "id": "b879a09b",
   "metadata": {},
   "source": [
    "Создайте датакласс Rectangle, описывающий прямоугольник.\n",
    "При инициализации он должен получать параметры width и height, оба являются int, оба по умолчанию равны 1.\n",
    "Также сразу после инициализации (без вызова пользователем дополнительных методов - см. пример) у экземпляра должны появиться атрибуты area - площадь и perimeter - периметр, вычисляемые автоматически из переданных значений width и height.\n",
    "Не переопределяйте __init__!\n",
    "Погуглите, как этого добиться, есть простой способ."
   ]
  },
  {
   "cell_type": "code",
   "execution_count": 96,
   "id": "45e64555",
   "metadata": {},
   "outputs": [],
   "source": [
    "from dataclasses import dataclass\n",
    "@dataclass\n",
    "class Rectangle:  \n",
    "    width: int = 1\n",
    "    height:  int = 1\n",
    "    @property\n",
    "    def perimeter(self):\n",
    "        return (self.width + self.height) * 2\n",
    " \n",
    "    @property\n",
    "    def area(self):\n",
    "        return (self.width * self.height)"
   ]
  },
  {
   "cell_type": "code",
   "execution_count": 97,
   "id": "815f6a7e",
   "metadata": {},
   "outputs": [],
   "source": [
    "r = Rectangle(width=2, height=5) "
   ]
  },
  {
   "cell_type": "code",
   "execution_count": 98,
   "id": "3fb3ba48",
   "metadata": {},
   "outputs": [
    {
     "data": {
      "text/plain": [
       "2"
      ]
     },
     "execution_count": 98,
     "metadata": {},
     "output_type": "execute_result"
    }
   ],
   "source": [
    "r.width  "
   ]
  },
  {
   "cell_type": "code",
   "execution_count": 99,
   "id": "3ed0d093",
   "metadata": {},
   "outputs": [
    {
     "data": {
      "text/plain": [
       "10"
      ]
     },
     "execution_count": 99,
     "metadata": {},
     "output_type": "execute_result"
    }
   ],
   "source": [
    "r.area "
   ]
  },
  {
   "cell_type": "code",
   "execution_count": 100,
   "id": "8f02b37a",
   "metadata": {},
   "outputs": [
    {
     "data": {
      "text/plain": [
       "14"
      ]
     },
     "execution_count": 100,
     "metadata": {},
     "output_type": "execute_result"
    }
   ],
   "source": [
    "r.perimeter "
   ]
  },
  {
   "cell_type": "markdown",
   "id": "6c467e7c",
   "metadata": {},
   "source": [
    "# метакласс UniqueNameMeta"
   ]
  },
  {
   "cell_type": "markdown",
   "id": "16bb18e9",
   "metadata": {},
   "source": [
    "Напишите метакласс UniqueNameMeta, который проверяет, что созданный класс - экземпляр данного метакласса, не повторяет имя одного из предыдущих. Если вдруг повторяет, то поднимаем ValueError с сообщением \"Class named NAME already exists\""
   ]
  },
  {
   "cell_type": "code",
   "execution_count": 115,
   "id": "29294e73",
   "metadata": {},
   "outputs": [],
   "source": [
    "class UniqueNameMeta(type):\n",
    "    \n",
    "    names = set() \n",
    "    def __new__(cls, name, bases, attrs): \n",
    "        if name in cls.names:\n",
    "            raise ValueError(f\"class named {name} already exists\")\n",
    "        cls.names.add(name)\n",
    "        print(cls, name, bases, attrs)"
   ]
  },
  {
   "cell_type": "code",
   "execution_count": 116,
   "id": "e6e47e1f",
   "metadata": {},
   "outputs": [
    {
     "name": "stdout",
     "output_type": "stream",
     "text": [
      "<class '__main__.UniqueNameMeta'> MyClass () {'__module__': '__main__', '__qualname__': 'MyClass'}\n"
     ]
    }
   ],
   "source": [
    "class MyClass(metaclass=UniqueNameMeta):  \n",
    "        pass  \n",
    " "
   ]
  },
  {
   "cell_type": "code",
   "execution_count": 119,
   "id": "357fbd58",
   "metadata": {
    "scrolled": true
   },
   "outputs": [],
   "source": [
    "#class MyClass(metaclass=UniqueNameMeta):  \n",
    "    #pass \n",
    "    \n",
    "#--> ValueError: class named MyClass already exists"
   ]
  },
  {
   "cell_type": "markdown",
   "id": "64b17eb9",
   "metadata": {},
   "source": [
    "# LoggingMeta"
   ]
  },
  {
   "cell_type": "markdown",
   "id": "6830a4c1",
   "metadata": {},
   "source": [
    "Напишите метакласс LoggingMeta, который при создании класса печатает все не служебные атрибуты и методы класса в следующем формате:\n",
    "Class name: <имя класса>  \n",
    "Attributes: <атрибут1=значение,атрибут2=значение,атрибут3=значение> # без пробелов  \n",
    "Methods: <метод1,метод2,метод3> # без пробелов\n",
    "Если не служебных атрибутов и/или методов нет, не печатайте соответствующую строку. Ниже пример когда нет ни атрибутов, ни методов:\n",
    "Class name: <имя класса>"
   ]
  },
  {
   "cell_type": "code",
   "execution_count": 29,
   "id": "14f4c763",
   "metadata": {},
   "outputs": [],
   "source": [
    "class LoggingMeta(type):\n",
    "    \n",
    "    def __new__(cls, name, bases, attrs):\n",
    "        \n",
    "        print(f\"Class name: {name}\")\n",
    "\n",
    "        atr_list = []\n",
    "        method_list = []\n",
    "        for x in attrs:\n",
    "            if (not x.startswith(\"__\")):\n",
    "                if (not callable(attrs[x])):\n",
    "                    atr_list.append(f'{x}={attrs[x]}')\n",
    "                else:\n",
    "                    method_list.append(x)\n",
    "        \n",
    "        if atr_list:\n",
    "            print(f\"Attributes: {','.join(atr_list)}\")        \n",
    "        \n",
    "        if method_list:\n",
    "            print(f\"Methods: {','.join(method_list)}\")\n",
    "        \n",
    "        return super().__new__(cls, name, bases, attrs)"
   ]
  },
  {
   "cell_type": "code",
   "execution_count": 30,
   "id": "a94bca2e",
   "metadata": {},
   "outputs": [
    {
     "name": "stdout",
     "output_type": "stream",
     "text": [
      "Class name: Logg\n",
      "Attributes: a=2\n"
     ]
    }
   ],
   "source": [
    "class Logg(metaclass=LoggingMeta):\n",
    "    a = 2\n",
    "    pass"
   ]
  }
 ],
 "metadata": {
  "kernelspec": {
   "display_name": "Python 3 (ipykernel)",
   "language": "python",
   "name": "python3"
  },
  "language_info": {
   "codemirror_mode": {
    "name": "ipython",
    "version": 3
   },
   "file_extension": ".py",
   "mimetype": "text/x-python",
   "name": "python",
   "nbconvert_exporter": "python",
   "pygments_lexer": "ipython3",
   "version": "3.7.1"
  }
 },
 "nbformat": 4,
 "nbformat_minor": 5
}

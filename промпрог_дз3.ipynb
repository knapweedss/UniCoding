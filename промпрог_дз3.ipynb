{
 "cells": [
  {
   "cell_type": "markdown",
   "id": "0cf905ca",
   "metadata": {},
   "source": [
    "# Итерируемый int"
   ]
  },
  {
   "cell_type": "markdown",
   "id": "19ee5455",
   "metadata": {},
   "source": [
    "**1 способ**"
   ]
  },
  {
   "cell_type": "code",
   "execution_count": 1,
   "id": "bc2a19bf",
   "metadata": {},
   "outputs": [],
   "source": [
    "class IterableInteger(int):\n",
    "    def __init__(self, value):\n",
    "        self.value = int(value)\n",
    "        \n",
    "    def __iter__(self):\n",
    "        result = ''\n",
    "        while self.value > 0:\n",
    "            result+= str(self.value % 10)\n",
    "            self.value //= 10\n",
    "        return iter([IterableInteger(i) for i in result[::-1]])"
   ]
  },
  {
   "cell_type": "code",
   "execution_count": 2,
   "id": "9d3cfc6a",
   "metadata": {},
   "outputs": [
    {
     "name": "stdout",
     "output_type": "stream",
     "text": [
      "1\n",
      "<class '__main__.IterableInteger'>\n",
      "4\n",
      "<class '__main__.IterableInteger'>\n",
      "8\n",
      "<class '__main__.IterableInteger'>\n",
      "7\n",
      "<class '__main__.IterableInteger'>\n",
      "4\n",
      "<class '__main__.IterableInteger'>\n",
      "6\n",
      "<class '__main__.IterableInteger'>\n"
     ]
    }
   ],
   "source": [
    "it_int = IterableInteger(148746)  \n",
    "for digit in it_int:  \n",
    "    print(digit)  \n",
    "    print(type(digit)) "
   ]
  },
  {
   "cell_type": "markdown",
   "id": "7b9227cd",
   "metadata": {},
   "source": [
    "**2 способ** без перезаписывания списка"
   ]
  },
  {
   "cell_type": "code",
   "execution_count": 3,
   "id": "26f3968c",
   "metadata": {},
   "outputs": [],
   "source": [
    "class IterableInteger(int):\n",
    "    def __init__(self, value):\n",
    "        self.value = int(value)\n",
    "    def __iter__(self):\n",
    "        if self.value // 10 != 0:\n",
    "            return iter([IterableInteger(int(i)) for i in str(self.value)])"
   ]
  },
  {
   "cell_type": "code",
   "execution_count": 4,
   "id": "5c1926b6",
   "metadata": {},
   "outputs": [
    {
     "name": "stdout",
     "output_type": "stream",
     "text": [
      "1\n",
      "<class '__main__.IterableInteger'>\n",
      "3\n",
      "<class '__main__.IterableInteger'>\n",
      "4\n",
      "<class '__main__.IterableInteger'>\n",
      "5\n",
      "<class '__main__.IterableInteger'>\n",
      "6\n",
      "<class '__main__.IterableInteger'>\n"
     ]
    }
   ],
   "source": [
    "it_int = IterableInteger(13456)  \n",
    "for digit in it_int:  \n",
    "    print(digit)  \n",
    "    print(type(digit)) "
   ]
  },
  {
   "cell_type": "markdown",
   "id": "f6e603c6",
   "metadata": {},
   "source": [
    "# класс Coin"
   ]
  },
  {
   "cell_type": "markdown",
   "id": "479216a8",
   "metadata": {},
   "source": [
    "Вам нужно создать класс Coin у которого должны быть следующие свойства\n",
    "* конструктор, который принимает на вход аргумент value (целое неотрицательное число) - номинал монеты и обновляет общую сумму монет. В случае, если значение value неправильное, делаем его равным 0\n",
    "* метод класса total_sum, который возвращает общую сумму номиналов всех созданных монет\n",
    "* деструктор, который обновляет общую сумму монет при удалении объекта\n"
   ]
  },
  {
   "cell_type": "code",
   "execution_count": 5,
   "id": "5e39f14a",
   "metadata": {},
   "outputs": [],
   "source": [
    "class Coin:\n",
    "    \n",
    "    base_count = 0  \n",
    "    def __init__(self, value):       \n",
    "        if value > 0 and value %1 == 0:\n",
    "            self.value = value\n",
    "            Coin.base_count += self.value\n",
    "        else: \n",
    "            self.value = 0\n",
    "                 \n",
    "    def total_sum(): \n",
    "        return Coin.base_count\n",
    "    \n",
    "    def __del__(self):     \n",
    "        Coin.base_count -= self.value"
   ]
  },
  {
   "cell_type": "code",
   "execution_count": 6,
   "id": "5cbdf68e",
   "metadata": {},
   "outputs": [
    {
     "name": "stdout",
     "output_type": "stream",
     "text": [
      "0\n",
      "6\n",
      "5\n",
      "0\n"
     ]
    }
   ],
   "source": [
    "print(Coin.total_sum())  # 0  \n",
    "one = Coin(1)\n",
    "five = Coin(5)\n",
    "print(Coin.total_sum())  # 6  \n",
    "del one   \n",
    "print(Coin.total_sum())  # 5  \n",
    "del five  \n",
    "print(Coin.total_sum())  # 0"
   ]
  },
  {
   "cell_type": "markdown",
   "id": "183ee40e",
   "metadata": {},
   "source": [
    "# Класс GoodItn"
   ]
  },
  {
   "cell_type": "markdown",
   "id": "a83bbd33",
   "metadata": {},
   "source": [
    "Вам нужно создать класс GoodInt, который ведет себя так же, как и обычный int, за искючением того, что при создании объекта из ﬂoat или строки с дробным числом не отрезает дробную часть (как int), а округляет число до ближайшего целого (подойдет встроенный round)."
   ]
  },
  {
   "cell_type": "code",
   "execution_count": 8,
   "id": "d4b06e11",
   "metadata": {},
   "outputs": [],
   "source": [
    "class GoodInt(int):\n",
    "    def __new__(self, number):\n",
    "        return super().__new__(self, round(float(number)))"
   ]
  },
  {
   "cell_type": "code",
   "execution_count": 9,
   "id": "e48ca8c0",
   "metadata": {},
   "outputs": [
    {
     "name": "stdout",
     "output_type": "stream",
     "text": [
      "6\n",
      "6\n",
      "5\n",
      "5\n",
      "6\n",
      "12\n"
     ]
    }
   ],
   "source": [
    "print(GoodInt(5.5))  # 6  \n",
    "print(GoodInt(5.6))  # 6  \n",
    "print(GoodInt(5.4))  # 5  \n",
    "print(GoodInt(5))  # 5  \n",
    "print(GoodInt('5.5'))  # 6  \n",
    "print(GoodInt(5.6) + GoodInt('5.5'))  # 12"
   ]
  },
  {
   "cell_type": "markdown",
   "id": "4b99a7b9",
   "metadata": {},
   "source": [
    "# Опять деньги"
   ]
  },
  {
   "cell_type": "markdown",
   "id": "a7bdca0f",
   "metadata": {},
   "source": [
    "Вам нужно создать класс Money у которого должны быть следующие свойства\n",
    "конструктор __init__, принимающий 2 аргумента: dollars, cents. \n",
    "* По входным аргументам вам необходимо создать атрибут экземпляра total_cents.\n",
    "* свойство геттер dollars, которое возвращает количество имеющихся долларов;\n",
    "* свойство сеттер dollars, которое принимает целое неотрицательное число - количество долларов и устанавливает при помощи него новое значение в атрибут экземпляра total_cents, при этом значение центов должно сохранятся. В случае, если в сеттер передано число, не удовлетворяющее условию, нужно печатать на экран сообщение \"Error dollars\";\n",
    "* свойство геттер cents, которое возвращает количество имеющихся центов;\n",
    "* свойство сеттер cents, которое принимает целое неотрицательное число меньшее 100 - количество центов и устанавливает при помощи него новое значение в атрибут экземпляра total_cents, при этом значение долларов должно сохранятся. В случае, если в сеттер передано число, не удовлетворяющее условию, нужно печатать на экран сообщение \"Error cents\";\n",
    "* метод __str__ , который возвращает строку вида \"Ваше состояние составляет dollars долларов cents центов\". Для нахождения долларов и центов в методе __str__ пользуйтесь свойствами (запариваться с правильным согласованием слов с числами не нужно)\n",
    "* В экземпляр класса кроме атрибута total_cents сохранять ничего не нужно!"
   ]
  },
  {
   "cell_type": "code",
   "execution_count": 21,
   "id": "ae909e62",
   "metadata": {},
   "outputs": [],
   "source": [
    "\n",
    "class Money:\n",
    "    \n",
    "    def __init__(self, dollars:int, cents:int): \n",
    "        self.total_cents = dollars *100 + cents\n",
    "        \n",
    "    @property\n",
    "    def dollars(self):\n",
    "        return self.total_cents // 100\n",
    "    \n",
    "    @property\n",
    "    def cents(self):\n",
    "        return self.total_cents % 100\n",
    "    \n",
    "    @dollars.setter\n",
    "    def dollars(self, new_value_dollars):\n",
    "        if isinstance(new_value_dollars, (int)) and new_value_dollars > 0:\n",
    "            self.total_cents -= self.dollars * 100\n",
    "            self.total_cents += new_value_dollars * 100\n",
    "        else: \n",
    "            print(\"Error dollars\")\n",
    "    \n",
    "    @cents.setter\n",
    "    def cents(self, new_value_cents):\n",
    "        if isinstance(new_value_cents, (int)) and 0 < new_value_cents < 100:\n",
    "            self.total_cents -= self.cents\n",
    "            self.total_cents += new_value_cents         \n",
    "        else: \n",
    "            print(\"Error cents\")\n",
    "            \n",
    "    def __str__(self):\n",
    "        return (f\"Ваше состояние составляет {self.total_cents // 100}\"\n",
    "                f\" долларов {self.total_cents % 100} центов\")\n",
    "        \n",
    "    "
   ]
  },
  {
   "cell_type": "code",
   "execution_count": 22,
   "id": "713b9e2a",
   "metadata": {},
   "outputs": [
    {
     "name": "stdout",
     "output_type": "stream",
     "text": [
      "Ваше состояние составляет 101 долларов 99 центов\n",
      "101 99\n",
      "Ваше состояние составляет 666 долларов 99 центов\n",
      "Ваше состояние составляет 666 долларов 12 центов\n",
      "666 12\n"
     ]
    }
   ],
   "source": [
    "Bill = Money(101, 99)  \n",
    "print(Bill)  # Ваше состояние составляет 101 долларов 99 центов  \n",
    "print(Bill.dollars, Bill.cents)  # 101 99  \n",
    "Bill.dollars = 666\n",
    "print(Bill)  # Ваше состояние составляет 666 долларов 99 центов  \n",
    "Bill.cents = 12  \n",
    "print(Bill)\n",
    "print(Bill.dollars, Bill.cents)"
   ]
  }
 ],
 "metadata": {
  "kernelspec": {
   "display_name": "Python 3 (ipykernel)",
   "language": "python",
   "name": "python3"
  },
  "language_info": {
   "codemirror_mode": {
    "name": "ipython",
    "version": 3
   },
   "file_extension": ".py",
   "mimetype": "text/x-python",
   "name": "python",
   "nbconvert_exporter": "python",
   "pygments_lexer": "ipython3",
   "version": "3.7.1"
  }
 },
 "nbformat": 4,
 "nbformat_minor": 5
}

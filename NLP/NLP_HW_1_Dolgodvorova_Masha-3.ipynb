{
 "cells": [
  {
   "cell_type": "markdown",
   "metadata": {},
   "source": [
    "# Часть 1"
   ]
  },
  {
   "cell_type": "markdown",
   "metadata": {},
   "source": [
    "### Шаг 1"
   ]
  },
  {
   "cell_type": "markdown",
   "metadata": {},
   "source": [
    "Скачаем положительные отзывы (posts_good)\n"
   ]
  },
  {
   "cell_type": "code",
   "execution_count": 379,
   "metadata": {},
   "outputs": [],
   "source": [
    "# импорт\n",
    "import requests\n",
    "import re\n",
    "from bs4 import BeautifulSoup\n",
    "url = 'https://www.kinopoisk.ru/reviews/type/comment/status/good/period/month/page/2/#list'\n",
    "resp = requests.get('https://www.kinopoisk.ru/reviews/type/comment/status/good/period/month/page/2/#list')\n",
    "page_number = 'https://www.kinopoisk.ru/reviews/type/comment/status/good/period/month/page/'\n",
    "n = range(2,20)  # для итерации по страницам\n",
    "html = resp.text"
   ]
  },
  {
   "cell_type": "code",
   "execution_count": 380,
   "metadata": {},
   "outputs": [],
   "source": [
    "s = []\n",
    "for i in n:\n",
    "    s.append(page_number + str(i) + '/#list')  # склеим и получим страницы "
   ]
  },
  {
   "cell_type": "code",
   "execution_count": 381,
   "metadata": {},
   "outputs": [],
   "source": [
    "posts_good = []\n",
    "\n",
    "for i in s:\n",
    "    resp = requests.get(i)\n",
    "    my_html = resp.text  \n",
    "    soup = BeautifulSoup(my_html,'html.parser')  # инициализируем суп\n",
    "    #while len(posts_good) < 40:\n",
    "    for post in soup.find_all('span', {'class': \"_reachbanner_\"}):\n",
    "        posts_good.append(post.get_text())"
   ]
  },
  {
   "cell_type": "code",
   "execution_count": 382,
   "metadata": {},
   "outputs": [
    {
     "data": {
      "text/plain": [
       "180"
      ]
     },
     "execution_count": 382,
     "metadata": {},
     "output_type": "execute_result"
    }
   ],
   "source": [
    "\n",
    "len(posts_good)"
   ]
  },
  {
   "cell_type": "markdown",
   "metadata": {},
   "source": [
    "### Шаг 2"
   ]
  },
  {
   "cell_type": "markdown",
   "metadata": {},
   "source": [
    "Скачаем отрицательные отзывы (posts_bad)"
   ]
  },
  {
   "cell_type": "code",
   "execution_count": 383,
   "metadata": {},
   "outputs": [],
   "source": [
    "url = 'https://www.kinopoisk.ru/reviews/type/comment/status/bad/period/month/page/2/#list'\n",
    "resp = requests.get('https://www.kinopoisk.ru/reviews/type/comment/status/bad/period/month/page/2/#list')\n",
    "page_number = 'https://www.kinopoisk.ru/reviews/type/comment/status/bad/period/month/page/'\n",
    "n = range(2,20)  # для итерации по страницам\n",
    "html = resp.text"
   ]
  },
  {
   "cell_type": "code",
   "execution_count": 384,
   "metadata": {},
   "outputs": [],
   "source": [
    "s = []\n",
    "for i in n:\n",
    "    s.append(page_number + str(i) + '/#list')  # склеим и получим страницы "
   ]
  },
  {
   "cell_type": "code",
   "execution_count": 385,
   "metadata": {},
   "outputs": [],
   "source": [
    "posts_bad = []\n",
    "\n",
    "for i in s:\n",
    "    resp = requests.get(i)\n",
    "    my_html = resp.text  \n",
    "    soup = BeautifulSoup(my_html,'html.parser')  # инициализируем суп\n",
    "    for post in soup.find_all('span', {'class': \"_reachbanner_\"}):\n",
    "        posts_bad.append(post.get_text())"
   ]
  },
  {
   "cell_type": "code",
   "execution_count": 386,
   "metadata": {},
   "outputs": [
    {
     "data": {
      "text/plain": [
       "180"
      ]
     },
     "execution_count": 386,
     "metadata": {},
     "output_type": "execute_result"
    }
   ],
   "source": [
    "\n",
    "len(posts_bad)"
   ]
  },
  {
   "cell_type": "markdown",
   "metadata": {},
   "source": [
    "### Шаг 3"
   ]
  },
  {
   "cell_type": "markdown",
   "metadata": {},
   "source": [
    "Соберем отзывы для оценки качества"
   ]
  },
  {
   "cell_type": "code",
   "execution_count": 387,
   "metadata": {},
   "outputs": [],
   "source": [
    "# положительные для оценки качества \n",
    "\n",
    "url = 'https://www.kinopoisk.ru/reviews/type/comment/status/good/period/month/page/27/#list'\n",
    "resp = requests.get('https://www.kinopoisk.ru/reviews/type/comment/status/good/period/month/page/27/#list')\n",
    "html = resp.text"
   ]
  },
  {
   "cell_type": "code",
   "execution_count": 388,
   "metadata": {},
   "outputs": [],
   "source": [
    "check = []\n",
    "\n",
    "my_html = resp.text  \n",
    "soup = BeautifulSoup(my_html,'html.parser')  # инициализируем суп\n",
    "while len(check) < 5:\n",
    "    for p in soup.find_all('span', {'class': \"_reachbanner_\"}):\n",
    "        check.append(p.get_text())"
   ]
  },
  {
   "cell_type": "code",
   "execution_count": 389,
   "metadata": {},
   "outputs": [],
   "source": [
    "# добавим отрицательные отзывы для оценки качества \n",
    "\n",
    "url = 'https://www.kinopoisk.ru/reviews/type/comment/status/bad/period/month/page/27/#list'\n",
    "resp = requests.get('https://www.kinopoisk.ru/reviews/type/comment/status/bad/period/month/page/27/#list')\n",
    "html = resp.text"
   ]
  },
  {
   "cell_type": "code",
   "execution_count": 390,
   "metadata": {},
   "outputs": [],
   "source": [
    "my_html = resp.text  \n",
    "soup = BeautifulSoup(my_html,'html.parser')  # инициализируем суп\n",
    "while len(check) < 5:\n",
    "    for p in soup.find_all('span', {'class': \"_reachbanner_\"}):\n",
    "        check.append(p.get_text())"
   ]
  },
  {
   "cell_type": "code",
   "execution_count": 391,
   "metadata": {},
   "outputs": [
    {
     "data": {
      "text/plain": [
       "10"
      ]
     },
     "execution_count": 391,
     "metadata": {},
     "output_type": "execute_result"
    }
   ],
   "source": [
    "len(check)  # собрали 10 отзывов"
   ]
  },
  {
   "cell_type": "markdown",
   "metadata": {},
   "source": [
    "### Шаг 4"
   ]
  },
  {
   "cell_type": "markdown",
   "metadata": {},
   "source": [
    "Очистим положительные, отрицательные отзывы от лишних знаков"
   ]
  },
  {
   "cell_type": "code",
   "execution_count": 392,
   "metadata": {},
   "outputs": [
    {
     "name": "stdout",
     "output_type": "stream",
     "text": [
      "['У каждого свое кино  Данный альманах был выпущен в честь юбилейного 60-го Каннского кинофестиваля,\n"
     ]
    }
   ],
   "source": [
    "final_good = str(posts_good).replace('\\\\n', ' ').replace('\\\\xa0', ' ').replace('\\\\r ', ' ')\n",
    "print(final_good[0:100])"
   ]
  },
  {
   "cell_type": "code",
   "execution_count": 393,
   "metadata": {},
   "outputs": [
    {
     "name": "stdout",
     "output_type": "stream",
     "text": [
      "['Очевидно, сложно (читай, невозможно) снять хорошее кино, если первоисточник во всех отношениях ниж\n"
     ]
    }
   ],
   "source": [
    "final_bad = str(posts_bad).replace('\\\\n', ' ').replace('\\\\xa0', ' ').replace('\\\\r ', ' ')\n",
    "print(final_bad[0:100])"
   ]
  },
  {
   "cell_type": "markdown",
   "metadata": {},
   "source": [
    "# Часть 2"
   ]
  },
  {
   "cell_type": "markdown",
   "metadata": {},
   "source": [
    "### Шаг 1"
   ]
  },
  {
   "cell_type": "markdown",
   "metadata": {},
   "source": [
    "Токенизация"
   ]
  },
  {
   "cell_type": "code",
   "execution_count": 394,
   "metadata": {},
   "outputs": [],
   "source": [
    "import nltk\n",
    "import string"
   ]
  },
  {
   "cell_type": "markdown",
   "metadata": {},
   "source": [
    "Токенизация положительных отзывов (получаем tokens_good)"
   ]
  },
  {
   "cell_type": "code",
   "execution_count": 395,
   "metadata": {},
   "outputs": [],
   "source": [
    "tokens_good = nltk.word_tokenize(final_good)\n",
    "# удалим лишние знаки пунктуации\n",
    "tokens_good = [i for i in tokens_good if ( i not in string.punctuation )] \n",
    "tokens_good = [i.replace(\"«\", \"\").replace(\"»\", \"\") for i in tokens_good]"
   ]
  },
  {
   "cell_type": "code",
   "execution_count": 396,
   "metadata": {},
   "outputs": [
    {
     "data": {
      "text/plain": [
       "['У', 'каждого', 'свое', 'кино', 'Данный', 'альманах', 'был']"
      ]
     },
     "execution_count": 396,
     "metadata": {},
     "output_type": "execute_result"
    }
   ],
   "source": [
    "tokens_good[0:7]"
   ]
  },
  {
   "cell_type": "markdown",
   "metadata": {},
   "source": [
    "Токенизация отрицательных отзывов (получаем tokens_bad)"
   ]
  },
  {
   "cell_type": "code",
   "execution_count": 397,
   "metadata": {},
   "outputs": [],
   "source": [
    "tokens_bad = nltk.word_tokenize(final_bad)\n",
    "# удалим лишние знаки пунктуации\n",
    "tokens_bad = [i for i in tokens_bad if ( i not in string.punctuation )] \n",
    "tokens_bad = [i.replace(\"«\", \"\").replace(\"»\", \"\") for i in tokens_bad]"
   ]
  },
  {
   "cell_type": "markdown",
   "metadata": {},
   "source": [
    "### Шаг 2"
   ]
  },
  {
   "cell_type": "markdown",
   "metadata": {},
   "source": [
    "Лемматизация"
   ]
  },
  {
   "cell_type": "code",
   "execution_count": 398,
   "metadata": {},
   "outputs": [],
   "source": [
    "import pymorphy2\n",
    "morph = pymorphy2.MorphAnalyzer()"
   ]
  },
  {
   "cell_type": "markdown",
   "metadata": {},
   "source": [
    "Лемматизация положительных отзывов (получаем words_good)"
   ]
  },
  {
   "cell_type": "code",
   "execution_count": 399,
   "metadata": {},
   "outputs": [],
   "source": [
    "words_good = []\n",
    "for word in tokens_good:\n",
    "    p = morph.parse(word)[0]  # делаем разбор\n",
    "    words_good.append(p.normal_form)"
   ]
  },
  {
   "cell_type": "code",
   "execution_count": 400,
   "metadata": {},
   "outputs": [
    {
     "data": {
      "text/plain": [
       "['у', 'каждый', 'свой', 'кино', 'данный', 'альманах', 'быть']"
      ]
     },
     "execution_count": 400,
     "metadata": {},
     "output_type": "execute_result"
    }
   ],
   "source": [
    "words_good[0:7]"
   ]
  },
  {
   "cell_type": "markdown",
   "metadata": {},
   "source": [
    "Лемматизация отрицательных отзывов (получаем words_bad)"
   ]
  },
  {
   "cell_type": "code",
   "execution_count": 401,
   "metadata": {},
   "outputs": [],
   "source": [
    "words_bad = []\n",
    "for word in tokens_bad:\n",
    "    p = morph.parse(word)[0]  # делаем разбор\n",
    "    words_bad.append(p.normal_form)"
   ]
  },
  {
   "cell_type": "code",
   "execution_count": 402,
   "metadata": {},
   "outputs": [
    {
     "data": {
      "text/plain": [
       "[\"'очевидный\", 'сложно', 'читать', 'невозможно', 'снять', 'хороший', 'кино']"
      ]
     },
     "execution_count": 402,
     "metadata": {},
     "output_type": "execute_result"
    }
   ],
   "source": [
    "words_bad[0:7]"
   ]
  },
  {
   "cell_type": "markdown",
   "metadata": {},
   "source": [
    "# Часть 3"
   ]
  },
  {
   "cell_type": "markdown",
   "metadata": {},
   "source": [
    "### Шаг 1"
   ]
  },
  {
   "cell_type": "markdown",
   "metadata": {},
   "source": [
    "Очистим от стоп-слов"
   ]
  },
  {
   "cell_type": "code",
   "execution_count": 403,
   "metadata": {},
   "outputs": [],
   "source": [
    "from nltk.corpus import stopwords\n",
    "stop_words = stopwords.words('russian')\n",
    "stop_words.extend(['что', 'это', 'так', 'вот', 'быть', 'как', 'в', '—', 'к', 'на'])\n",
    "negative = [i for i in words_bad if ( i not in stop_words )]"
   ]
  },
  {
   "cell_type": "code",
   "execution_count": 404,
   "metadata": {},
   "outputs": [],
   "source": [
    "positive = [i for i in words_good if ( i not in stop_words )]"
   ]
  },
  {
   "cell_type": "markdown",
   "metadata": {},
   "source": [
    "### Шаг 2"
   ]
  },
  {
   "cell_type": "markdown",
   "metadata": {},
   "source": [
    "Оставим только те слова, которые встречаются в отзывах больше 4 раз, остальное будем считать за шум + не будем включать цифры"
   ]
  },
  {
   "cell_type": "code",
   "execution_count": 409,
   "metadata": {},
   "outputs": [],
   "source": [
    "frequency = {}  # частотный словарь\n",
    "freq_pos  = []  # слова, встречающиеся в положительных отзывах больше 4 раз\n",
    "for word in positive:\n",
    "    count = frequency.get(word,0)\n",
    "    frequency[word] = count + 1\n",
    "for i in positive:\n",
    "    if int(frequency[i]) > 4:  # встречается больше 4 раз\n",
    "        if i.isalpha() is True:  # не включаем цифры\n",
    "            freq_pos.append(i)"
   ]
  },
  {
   "cell_type": "code",
   "execution_count": 410,
   "metadata": {},
   "outputs": [],
   "source": [
    "frequency = {}  # частотный словарь\n",
    "freq_neg  = []  # слова, встречающиеся в отрицательных отзывах больше 4 раз\n",
    "for word in negative:\n",
    "    count = frequency.get(word,0)\n",
    "    frequency[word] = count + 1\n",
    "for i in negative:\n",
    "    if int(frequency[i]) > 4:  # встречается больше 4 раз\n",
    "        if i.isalpha() is True:  # не включаем цифры\n",
    "            freq_neg.append(i)"
   ]
  },
  {
   "cell_type": "markdown",
   "metadata": {},
   "source": [
    "Найдем слова, которые есть в положительных, но не отрицательных отзывах"
   ]
  },
  {
   "cell_type": "code",
   "execution_count": 411,
   "metadata": {},
   "outputs": [],
   "source": [
    "positive_unique = []  # слова только из положительных отзывов\n",
    "for i in freq_pos:\n",
    "    if i not in negative:\n",
    "        positive_unique.append(i)\n",
    "    else:\n",
    "        pass"
   ]
  },
  {
   "cell_type": "code",
   "execution_count": 412,
   "metadata": {},
   "outputs": [
    {
     "data": {
      "text/plain": [
       "Counter({'воздушный': 8,\n",
       "         'фотография': 6,\n",
       "         'бабушка': 5,\n",
       "         'грустно': 6,\n",
       "         'полански': 7,\n",
       "         'встретиться': 6,\n",
       "         'шикарно': 5,\n",
       "         'неоднократно': 5,\n",
       "         'сверху': 5,\n",
       "         'пересматривать': 12,\n",
       "         'мелочь': 14,\n",
       "         'ммкф': 8,\n",
       "         'знакомиться': 13,\n",
       "         'коррупция': 5,\n",
       "         'пожить': 5,\n",
       "         'заплатить': 5,\n",
       "         'переносить': 8,\n",
       "         'просмотреть': 7,\n",
       "         'капитан': 11,\n",
       "         'качественно': 7,\n",
       "         'сосед': 6,\n",
       "         'кухня': 8,\n",
       "         'определить': 5,\n",
       "         'портер': 8,\n",
       "         'пират': 5,\n",
       "         'неповторимый': 5,\n",
       "         'дамини': 9,\n",
       "         'аамир': 7,\n",
       "         'шекхара': 6,\n",
       "         'санни': 6,\n",
       "         'защищать': 7,\n",
       "         'премия': 6,\n",
       "         'выступление': 6,\n",
       "         'обаятельный': 5,\n",
       "         'побывать': 5,\n",
       "         'мурашка': 5,\n",
       "         'шпионский': 6,\n",
       "         'брэд': 8,\n",
       "         'питта': 12,\n",
       "         'редфорд': 6,\n",
       "         'сохранить': 8,\n",
       "         'шкура': 5,\n",
       "         'лассо': 10,\n",
       "         'бёрдо': 11,\n",
       "         'развлекательный': 8,\n",
       "         'пост': 6,\n",
       "         'дуэт': 7,\n",
       "         'воспоминание': 8,\n",
       "         'потребность': 7,\n",
       "         'забота': 5,\n",
       "         'принадлежность': 5,\n",
       "         'позитив': 5,\n",
       "         'нередко': 5,\n",
       "         'перемена': 9,\n",
       "         'ценить': 6,\n",
       "         'ограбление': 6,\n",
       "         'запасть': 5,\n",
       "         'портрет': 5,\n",
       "         'параллель': 5,\n",
       "         'энтузиазм': 5,\n",
       "         'артур': 6,\n",
       "         'цветовой': 5,\n",
       "         'обсуждение': 5,\n",
       "         'рейд': 20,\n",
       "         'ву': 5,\n",
       "         'брюс': 5,\n",
       "         'каскадёр': 5,\n",
       "         'священник': 7,\n",
       "         'открывать': 8,\n",
       "         'beatles': 6,\n",
       "         'стюарт': 6,\n",
       "         'сатклифф': 8,\n",
       "         'софтлить': 8,\n",
       "         'осознавать': 6,\n",
       "         'колледж': 9,\n",
       "         'тайлера': 5,\n",
       "         'чарли': 6,\n",
       "         'рот': 8,\n",
       "         'ночное': 6,\n",
       "         'пропасть': 5,\n",
       "         'катя': 5,\n",
       "         'монахиня': 5,\n",
       "         'хроно': 7,\n",
       "         'крестовый': 5,\n",
       "         'награда': 6,\n",
       "         'разряд': 7,\n",
       "         'уютный': 6,\n",
       "         'английский': 8,\n",
       "         'похищение': 5,\n",
       "         'комната': 7,\n",
       "         'бальтазар': 7,\n",
       "         'брессон': 10,\n",
       "         'достоевский': 5,\n",
       "         'литература': 5,\n",
       "         'ослик': 7,\n",
       "         'входить': 7,\n",
       "         'изысканный': 5,\n",
       "         'дьявол': 8,\n",
       "         'театральный': 5,\n",
       "         'естественный': 6,\n",
       "         'беседа': 6,\n",
       "         'рукопашный': 6,\n",
       "         'леди': 10,\n",
       "         'частичка': 6,\n",
       "         'блэк': 6,\n",
       "         'классный': 8,\n",
       "         'сталлоно': 8,\n",
       "         'рохала': 8,\n",
       "         'зорик': 7,\n",
       "         'проклятие': 5,\n",
       "         'поллак': 5,\n",
       "         'бонний': 6,\n",
       "         'кирстен': 7,\n",
       "         'джонсон': 15,\n",
       "         'дик': 16,\n",
       "         'рейдер': 5,\n",
       "         'кейный': 6,\n",
       "         'лундгрена': 5,\n",
       "         'санджу': 5,\n",
       "         'амир': 5,\n",
       "         'сингха': 5,\n",
       "         'экзорцизм': 5,\n",
       "         'слэгнуть': 5,\n",
       "         'роуз': 10,\n",
       "         'конний': 8,\n",
       "         'лимонадный': 13,\n",
       "         'кощей': 5,\n",
       "         'фрейзер': 7,\n",
       "         'номь': 5,\n",
       "         'уэйл': 7,\n",
       "         'вилла': 5,\n",
       "         'миронов': 6,\n",
       "         'претендент': 6,\n",
       "         'лурить': 5,\n",
       "         'охотник': 5,\n",
       "         'вправду': 6,\n",
       "         'внимательный': 5,\n",
       "         'мэтт': 5})"
      ]
     },
     "execution_count": 412,
     "metadata": {},
     "output_type": "execute_result"
    }
   ],
   "source": [
    "from collections import Counter\n",
    "Counter(positive_unique)"
   ]
  },
  {
   "cell_type": "markdown",
   "metadata": {},
   "source": [
    "### Шаг 2"
   ]
  },
  {
   "cell_type": "markdown",
   "metadata": {},
   "source": [
    "Найдем слова, которые есть в отрицательных, но не положительных отзывах"
   ]
  },
  {
   "cell_type": "code",
   "execution_count": 413,
   "metadata": {},
   "outputs": [],
   "source": [
    "negative_unique = []  # слова только из отрицательных отзывов\n",
    "for i in freq_neg:\n",
    "    if i not in positive:\n",
    "        negative_unique.append(i)\n",
    "    else:\n",
    "        pass"
   ]
  },
  {
   "cell_type": "code",
   "execution_count": 414,
   "metadata": {},
   "outputs": [
    {
     "data": {
      "text/plain": [
       "Counter({'нина': 6,\n",
       "         'рваный': 6,\n",
       "         'магический': 7,\n",
       "         'шаблонный': 5,\n",
       "         'мат': 12,\n",
       "         'репутация': 7,\n",
       "         'темнокожий': 12,\n",
       "         'древний': 5,\n",
       "         'стереть': 5,\n",
       "         'артефакт': 5,\n",
       "         'робот': 7,\n",
       "         'бак': 13,\n",
       "         'ларсон': 9,\n",
       "         'родить': 6,\n",
       "         'свардсон': 6,\n",
       "         'логично': 7,\n",
       "         'неудачник': 5,\n",
       "         'поделка': 10,\n",
       "         'адский': 5,\n",
       "         'скатываться': 5,\n",
       "         'тупость': 7,\n",
       "         'раздражение': 6,\n",
       "         'джаз': 9,\n",
       "         'майлз': 9,\n",
       "         'чидло': 5,\n",
       "         'трубач': 5,\n",
       "         'зависимость': 6,\n",
       "         'неумело': 5,\n",
       "         'величие': 5,\n",
       "         'аиу': 5,\n",
       "         'тим': 6,\n",
       "         'халльстрёма': 8,\n",
       "         'спилберг': 7,\n",
       "         'обойтись': 5,\n",
       "         'совпадение': 5,\n",
       "         'безумие': 7,\n",
       "         'бессмысленный': 6,\n",
       "         'мутный': 5,\n",
       "         'белиберда': 5,\n",
       "         'мания': 13,\n",
       "         'стрельцов': 45,\n",
       "         'стрелец': 27,\n",
       "         'эдуард': 22,\n",
       "         'ссср': 7,\n",
       "         'матч': 14,\n",
       "         'всякая': 5,\n",
       "         'сатанинский': 6,\n",
       "         'аменобар': 6,\n",
       "         'реакция': 6,\n",
       "         'вишенка': 5,\n",
       "         'торт': 6,\n",
       "         'хардин': 9,\n",
       "         'тессать': 9,\n",
       "         'антебеллум': 9,\n",
       "         'чернокожий': 12,\n",
       "         'вероника': 6,\n",
       "         'расовый': 6,\n",
       "         'расизм': 7,\n",
       "         'рабство': 9,\n",
       "         'копировать': 7,\n",
       "         'проявлять': 5,\n",
       "         'проходная': 6,\n",
       "         'призрачный': 5,\n",
       "         'вымышленный': 6,\n",
       "         'ведьма': 5,\n",
       "         'родригес': 6,\n",
       "         'квакуша': 5,\n",
       "         'элита': 6,\n",
       "         'шок': 5,\n",
       "         'эксперимент': 14,\n",
       "         'мощный': 6,\n",
       "         'схема': 7,\n",
       "         'пусан': 18,\n",
       "         'полуостров': 15,\n",
       "         'вирус': 5,\n",
       "         'кэмерон': 9,\n",
       "         'впихнуть': 5,\n",
       "         'фаул': 6,\n",
       "         'симмонс': 5,\n",
       "         'искусственно': 5,\n",
       "         'отморозок': 5,\n",
       "         'педофил': 7,\n",
       "         'маяковский': 12,\n",
       "         'отсутствовать': 7,\n",
       "         'картонный': 6,\n",
       "         'олигарх': 7,\n",
       "         'мулан': 15,\n",
       "         'рипнуть': 5,\n",
       "         'зубастик': 11,\n",
       "         'лео': 6,\n",
       "         'квеста': 5,\n",
       "         'акула': 11,\n",
       "         'дэниел': 7,\n",
       "         'касса': 5,\n",
       "         'грудь': 5,\n",
       "         'партийный': 5,\n",
       "         'панфиловец': 5,\n",
       "         'гренландия': 7,\n",
       "         'трешак': 5,\n",
       "         'фигура': 5,\n",
       "         'эдик': 5,\n",
       "         'гибсон': 7,\n",
       "         'mad': 6,\n",
       "         'отчасти': 6,\n",
       "         'неужели': 5,\n",
       "         'лукас': 7,\n",
       "         'ен': 6,\n",
       "         'плена': 5,\n",
       "         'дизель': 6,\n",
       "         'бладшота': 6,\n",
       "         'академия': 8,\n",
       "         'асайлум': 6,\n",
       "         'мокбастер': 5,\n",
       "         'бугимен': 6,\n",
       "         'кайло': 5,\n",
       "         'иден': 5})"
      ]
     },
     "execution_count": 414,
     "metadata": {},
     "output_type": "execute_result"
    }
   ],
   "source": [
    "Counter(negative_unique)"
   ]
  },
  {
   "cell_type": "markdown",
   "metadata": {},
   "source": [
    "# Часть 4"
   ]
  },
  {
   "cell_type": "markdown",
   "metadata": {},
   "source": [
    "### Шаг 1"
   ]
  },
  {
   "cell_type": "markdown",
   "metadata": {},
   "source": [
    "Функция simple_review_predict принимает на вход наши отзывы, которые мы собирали для проверки работы программы. Затем (после предобработки отзывов) считает, есть ли в отзыве слово из положительных отзывов или отрицательных. Отзыв считается положительным, если встретилось больше слов из положительных отзывов и аналогично для отрицательных. Если счетчики neg и pos равны или по нулям, то программа выводит \"не знаю\", поскольку тогда на основе имеющихся данных невозможно определить тональность отзыва"
   ]
  },
  {
   "cell_type": "code",
   "execution_count": 465,
   "metadata": {},
   "outputs": [],
   "source": [
    "def simple_review_predict(check):\n",
    "    \n",
    "    review_predict = []  # то, что определит прога\n",
    "    \n",
    "    for text in check:\n",
    "        final_check = str(text).replace('\\\\n', ' ').replace('\\\\xa0', ' ').replace('\\\\r ', ' ')\n",
    "        tokens_check = nltk.word_tokenize(final_check)\n",
    "  \n",
    "        # удалим лишние знаки пунктуации\n",
    "        tokens_check = [i for i in tokens_check if ( i not in string.punctuation )] \n",
    "        tokens_check = [i.replace(\"«\", \"\").replace(\"»\", \"\") for i in tokens_check]\n",
    "    \n",
    "        norm = []\n",
    "        for w in tokens_check:\n",
    "            p = morph.parse(w)[0]  # делаем разбор\n",
    "            norm.append(p.normal_form)\n",
    "    \n",
    "        pos = 0  # счетчик положительных\n",
    "        neg = 0  # счетчик отрицательных\n",
    "        for tok in norm:\n",
    "    \n",
    "            if tok in positive_unique :\n",
    "                pos +=1 \n",
    "            elif tok in negative_unique :\n",
    "                neg +=1\n",
    "            else: \n",
    "                pass\n",
    "        if pos > neg:\n",
    "            review_predict.append('Положительный отзыв')\n",
    "\n",
    "        elif neg > pos:\n",
    "            review_predict.append('Отрицательный отзыв')\n",
    "\n",
    "        else:\n",
    "            review_predict.append('Не знаю')\n",
    "    return(review_predict)"
   ]
  },
  {
   "cell_type": "code",
   "execution_count": 466,
   "metadata": {},
   "outputs": [
    {
     "data": {
      "text/plain": [
       "['Положительный отзыв',\n",
       " 'Положительный отзыв',\n",
       " 'Не знаю',\n",
       " 'Положительный отзыв',\n",
       " 'Положительный отзыв',\n",
       " 'Положительный отзыв',\n",
       " 'Отрицательный отзыв',\n",
       " 'Отрицательный отзыв',\n",
       " 'Положительный отзыв',\n",
       " 'Положительный отзыв']"
      ]
     },
     "execution_count": 466,
     "metadata": {},
     "output_type": "execute_result"
    }
   ],
   "source": [
    "review_predict = simple_review_predict(check)\n",
    "review_predict"
   ]
  },
  {
   "cell_type": "markdown",
   "metadata": {},
   "source": [
    "В действительности первые пять отзывов у нас положительные, а последние пять отрицательные"
   ]
  },
  {
   "cell_type": "code",
   "execution_count": 461,
   "metadata": {},
   "outputs": [],
   "source": [
    "gold = ['Положительный отзыв'] *5 + ['Отрицательный отзыв'] * 5"
   ]
  },
  {
   "cell_type": "code",
   "execution_count": 462,
   "metadata": {},
   "outputs": [
    {
     "data": {
      "text/plain": [
       "['Положительный отзыв',\n",
       " 'Положительный отзыв',\n",
       " 'Положительный отзыв',\n",
       " 'Положительный отзыв',\n",
       " 'Положительный отзыв',\n",
       " 'Отрицательный отзыв',\n",
       " 'Отрицательный отзыв',\n",
       " 'Отрицательный отзыв',\n",
       " 'Отрицательный отзыв',\n",
       " 'Отрицательный отзыв']"
      ]
     },
     "execution_count": 462,
     "metadata": {},
     "output_type": "execute_result"
    }
   ],
   "source": [
    "gold"
   ]
  },
  {
   "cell_type": "markdown",
   "metadata": {},
   "source": [
    "### Шаг 2"
   ]
  },
  {
   "cell_type": "markdown",
   "metadata": {},
   "source": [
    "Оценка качества"
   ]
  },
  {
   "cell_type": "code",
   "execution_count": 463,
   "metadata": {},
   "outputs": [],
   "source": [
    "from sklearn.metrics import accuracy_score"
   ]
  },
  {
   "cell_type": "code",
   "execution_count": 464,
   "metadata": {},
   "outputs": [
    {
     "name": "stdout",
     "output_type": "stream",
     "text": [
      "Accuracy: 0.6000\n"
     ]
    }
   ],
   "source": [
    "print(\"Accuracy: %.4f\" % accuracy_score(review_predict, gold))"
   ]
  },
  {
   "cell_type": "markdown",
   "metadata": {},
   "source": [
    "# Часть 5"
   ]
  },
  {
   "cell_type": "markdown",
   "metadata": {},
   "source": [
    "Способы улучшить программу"
   ]
  },
  {
   "cell_type": "markdown",
   "metadata": {},
   "source": [
    "### Способ 1"
   ]
  },
  {
   "cell_type": "markdown",
   "metadata": {},
   "source": [
    "Добавить word2vec. Например, если не нашлось слова из положительного отзыва но нашлось семантически близкое ему, то будем считать, что это + в положительный счетчик (pos)"
   ]
  },
  {
   "cell_type": "markdown",
   "metadata": {},
   "source": [
    "### Способ 2"
   ]
  },
  {
   "cell_type": "markdown",
   "metadata": {},
   "source": [
    "Использовать символьные N-граммы, что поможет улучшить работу алгоритма при наличии опечаток в тексте"
   ]
  },
  {
   "cell_type": "markdown",
   "metadata": {},
   "source": [
    "### Способ 3"
   ]
  },
  {
   "cell_type": "markdown",
   "metadata": {},
   "source": [
    "Использовать машинное обучение с учителем, а не подход, основанный на правилах. Так, у нас есть выборка из 40 положительных и 40 отрицательных отзывах, их можно представить как вектора и использовать scikit learn"
   ]
  },
  {
   "cell_type": "markdown",
   "metadata": {},
   "source": [
    "### Способ 4"
   ]
  },
  {
   "cell_type": "markdown",
   "metadata": {},
   "source": [
    "Брать не отдельные слова, а словосочетания"
   ]
  }
 ],
 "metadata": {
  "kernelspec": {
   "display_name": "Python 3",
   "language": "python",
   "name": "python3"
  },
  "language_info": {
   "codemirror_mode": {
    "name": "ipython",
    "version": 3
   },
   "file_extension": ".py",
   "mimetype": "text/x-python",
   "name": "python",
   "nbconvert_exporter": "python",
   "pygments_lexer": "ipython3",
   "version": "3.6.9"
  }
 },
 "nbformat": 4,
 "nbformat_minor": 2
}

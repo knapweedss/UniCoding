{
 "cells": [
  {
   "cell_type": "code",
   "execution_count": 1,
   "metadata": {
    "id": "CUYb8T1aDvhX"
   },
   "outputs": [
    {
     "ename": "ModuleNotFoundError",
     "evalue": "No module named 'flair'",
     "output_type": "error",
     "traceback": [
      "\u001b[0;31m---------------------------------------------------------------------------\u001b[0m",
      "\u001b[0;31mModuleNotFoundError\u001b[0m                       Traceback (most recent call last)",
      "\u001b[0;32m<ipython-input-1-d1eefd3aaae8>\u001b[0m in \u001b[0;36m<module>\u001b[0;34m\u001b[0m\n\u001b[1;32m     15\u001b[0m \u001b[0mmystem\u001b[0m \u001b[0;34m=\u001b[0m \u001b[0mMystem\u001b[0m\u001b[0;34m(\u001b[0m\u001b[0;34m)\u001b[0m\u001b[0;34m\u001b[0m\u001b[0;34m\u001b[0m\u001b[0m\n\u001b[1;32m     16\u001b[0m \u001b[0;32mimport\u001b[0m \u001b[0mspacy\u001b[0m\u001b[0;34m\u001b[0m\u001b[0;34m\u001b[0m\u001b[0m\n\u001b[0;32m---> 17\u001b[0;31m \u001b[0;32mimport\u001b[0m \u001b[0mflair\u001b[0m\u001b[0;34m\u001b[0m\u001b[0;34m\u001b[0m\u001b[0m\n\u001b[0m\u001b[1;32m     18\u001b[0m \u001b[0;32mimport\u001b[0m \u001b[0mnltk\u001b[0m\u001b[0;34m\u001b[0m\u001b[0;34m\u001b[0m\u001b[0m\n\u001b[1;32m     19\u001b[0m \u001b[0;32mfrom\u001b[0m \u001b[0mstring\u001b[0m \u001b[0;32mimport\u001b[0m \u001b[0mpunctuation\u001b[0m\u001b[0;34m\u001b[0m\u001b[0;34m\u001b[0m\u001b[0m\n",
      "\u001b[0;31mModuleNotFoundError\u001b[0m: No module named 'flair'"
     ]
    }
   ],
   "source": [
    "from natasha import (\n",
    "    Segmenter,\n",
    "    MorphVocab,\n",
    "    NewsEmbedding,\n",
    "    NewsMorphTagger,\n",
    "    NewsSyntaxParser,\n",
    "    NewsNERTagger,\n",
    "    PER,\n",
    "    NamesExtractor,\n",
    "    Doc\n",
    ")\n",
    "from pymorphy2 import MorphAnalyzer\n",
    "m = MorphAnalyzer()\n",
    "from pymystem3 import Mystem\n",
    "mystem = Mystem()\n",
    "import spacy\n",
    "import flair\n",
    "import nltk\n",
    "from string import punctuation\n",
    "punctuation = punctuation + '—–“”«»'\n",
    "from sklearn.metrics import accuracy_score\n",
    "import re\n",
    "from flair.models import SequenceTagger"
   ]
  },
  {
   "cell_type": "code",
   "execution_count": 7,
   "metadata": {
    "colab": {
     "base_uri": "https://localhost:8080/",
     "height": 322
    },
    "id": "d4Q3eWaL2ZBG",
    "outputId": "9f7d0df4-b819-4385-d221-2ce32e2cd743"
   },
   "outputs": [
    {
     "name": "stdout",
     "output_type": "stream",
     "text": [
      "--2020-10-14 20:41:10--  http://download.cdn.yandex.net/mystem/mystem-3.0-linux3.1-64bit.tar.gz\n",
      "Resolving download.cdn.yandex.net (download.cdn.yandex.net)... 5.45.205.243, 5.45.205.245, 5.45.205.241, ...\n",
      "Connecting to download.cdn.yandex.net (download.cdn.yandex.net)|5.45.205.243|:80... connected.\n",
      "HTTP request sent, awaiting response... 302 Found\n",
      "Location: http://cache-mskm904.cdn.yandex.net/download.cdn.yandex.net/mystem/mystem-3.0-linux3.1-64bit.tar.gz [following]\n",
      "--2020-10-14 20:41:11--  http://cache-mskm904.cdn.yandex.net/download.cdn.yandex.net/mystem/mystem-3.0-linux3.1-64bit.tar.gz\n",
      "Resolving cache-mskm904.cdn.yandex.net (cache-mskm904.cdn.yandex.net)... 5.45.220.14, 2a02:6b8:0:2002::15\n",
      "Connecting to cache-mskm904.cdn.yandex.net (cache-mskm904.cdn.yandex.net)|5.45.220.14|:80... connected.\n",
      "HTTP request sent, awaiting response... 200 OK\n",
      "Length: 16457938 (16M) [application/octet-stream]\n",
      "Saving to: ‘mystem-3.0-linux3.1-64bit.tar.gz’\n",
      "\n",
      "mystem-3.0-linux3.1 100%[===================>]  15.70M  8.75MB/s    in 1.8s    \n",
      "\n",
      "2020-10-14 20:41:13 (8.75 MB/s) - ‘mystem-3.0-linux3.1-64bit.tar.gz’ saved [16457938/16457938]\n",
      "\n",
      "mystem\n"
     ]
    }
   ],
   "source": [
    "!wget http://download.cdn.yandex.net/mystem/mystem-3.0-linux3.1-64bit.tar.gz\n",
    "!tar -xvf mystem-3.0-linux3.1-64bit.tar.gz\n",
    "!cp mystem /root/.local/bin/mystem"
   ]
  },
  {
   "cell_type": "code",
   "execution_count": 8,
   "metadata": {
    "id": "E0OmUEBxZu4a"
   },
   "outputs": [],
   "source": [
    "#причастие - VERB\n",
    "#аббревиатура - NOUN\n",
    "#местоимение - PRON"
   ]
  },
  {
   "cell_type": "code",
   "execution_count": 9,
   "metadata": {
    "id": "3gwW8xJOD4Lg"
   },
   "outputs": [],
   "source": [
    "rus_texts = ['НКРЯ - мой самый любимый корпус.', 'Собака, пробегавшая мимо, зачем-то начала яростно гавкать.', 'Мой друг Петр говорит по-русски очень плохо.', \n",
    "             'Я люблю готовить, слушая музыку.', 'Вчера в Сан-Франциско шел ливень.', 'Я был там две недели назад и видел ели.', 'У нее темно-синее платье.', \n",
    "             'Я набрал семьдесят четыре балла по матеше.', 'Я купил пурпурную портативную зарядку.', 'Из-за него мы опоздали на концерт.', 'Я люблю есть люля-кебаб.',\n",
    "             'Выпив чай, я отправился на прогулку и убрал айпад.', 'А расширение границ прямо противоречит международным договорам, соглашениям, документам ООН.', \n",
    "             'Перед сном из блокнота всё переписал набело.', 'Вчера мой отец завел новый фотосправочник.', 'Это всё из-за моего бывшего.', 'Чем бы дитя не тешилось, лишь бы не плакало.', \n",
    "             'Марианна была ультраженственной в этот вечер.', 'Вася, смотри как я висю на ветке!', 'Несомненно, это была тюрбо.', 'Он написал этот текст ручками с грезитвой.']\n",
    "rus_tags = ['NOUN PRON PRON ADJ NOUN', 'NOUN VERB ADV ADV VERB ADV VERB', 'PRON NOUN NOUN VERB ADV ADV ADV',\n",
    "            'PRON VERB VERB VERB NOUN', 'ADV PREP NOUN VERB NOUN', 'PRON VERB PRON NUM NOUN ADV CONJ VERB NOUN', 'PREP PRON ADJ NOUN',\n",
    "            'PRON VERB NUM NUM NOUN PREP NOUN', 'PRON VERB ADJ ADJ NOUN', 'PREP PRON PRON VERB PREP NOUN', 'PRON VERB VERB NOUN',\n",
    "            'VERB NOUN PRON VERB PREP NOUN CONJ VERB NOUN', 'CONJ NOUN NOUN ADV VERB ADJ NOUN NOUN NOUN NOUN', \n",
    "            'PREP NOUN PREP NOUN PRON VERB ADV', 'ADV PRON NOUN VERB ADJ NOUN', 'PRON PRON PREP PRON ADJ', 'CONJ PART NOUN PART VERB PART PART PART VERB',\n",
    "            'NOUN VERB ADJ PREP PRON NOUN', 'NOUN VERB CONJ PRON VERB PREP NOUN', 'ADV PRON VERB NOUN', 'PRON VERB PRON NOUN NOUN CONJ NOUN']"
   ]
  },
  {
   "cell_type": "code",
   "execution_count": 27,
   "metadata": {
    "id": "JNF0zrfBK4tr"
   },
   "outputs": [],
   "source": [
    "eng_texts = ['I have a lot of gold.', 'His abduction and imprisonment of Pamela, his over-riding jealousy of Mr. Williams and later of the child Pamela is about to bear him.',\n",
    "             'Every morning Mary goes for a run.', 'Paul enjoys a drink.', 'It is mine!', 'Yesterday I bought three oranges, it was the best decision of the day.',\n",
    "             'I buy green very often, it is good for my health.', 'She was beautiful, that tall, skinny, twenty-year-old girl.', 'I goed to the cinema with Mark yesterday.', \n",
    "             'Mr Lacayo said UNO would receive two million dollars of the US aid.', \n",
    "             'Thereza Imanishi-Kari, who was then an immunologist at the Massachusetts Institute of Technology (MIT).', 'Felix who will live in the centre with Bro.']\n",
    "eng_tags = ['NOUN VERB ART ADV PREP NOUN', 'PRON NOUN CONJ NOUN PREP NOUN PRON ADJ NOUN PREP NOUN NOUN CONJ NOUN PREP ART NOUN NOUN VERB ADV PREP VERB PRON',\n",
    "            'ADJ NOUN NOUN VERB PREP ART NOUN', 'NOUN VERB ART NOUN', 'PRON VERB PRON', 'ADV PRON VERB NUM NOUN PRON VERB ART ADJ NOUN PREP ART NOUN',\n",
    "            'PRON VERB NOUN ADV ADV PRON VERB ADV PREP PRON NOUN', 'PRON VERB ADJ PRON ADJ ADJ ADJ NOUN', 'PRON VERB PREP ART NOUN CONJ NOUN ADV',\n",
    "            'NOUN NOUN VERB NOUN VERB VERB NUM NUM NOUN PREP ART ADJ NOUN', \n",
    "            'NOUN NOUN PRON VERB PRON ART NOUN PREP ART NOUN NOUN PREP NOUN NOUN', 'NOUN PRON VERB VERB PREP ART NOUN CONJ NOUN']"
   ]
  },
  {
   "cell_type": "code",
   "execution_count": 11,
   "metadata": {
    "id": "SgooTu2fQyJE"
   },
   "outputs": [],
   "source": [
    "def clean(texts_list, tags_list):\n",
    "  clean_list = []\n",
    "  new_tags_list = []\n",
    "  for i in texts_list:\n",
    "    i = i.lower()\n",
    "    for p in punctuation:\n",
    "      if p in i:\n",
    "        i = i.replace(p, '')\n",
    "        i = i.replace('  ', ' ')\n",
    "    i = i.split(' ')\n",
    "    for n in i:\n",
    "      clean_list.append(n)\n",
    "    new_tags_list = []\n",
    "  for tag in tags_list:\n",
    "    tag = tag.split(' ')\n",
    "    for t in tag:\n",
    "      new_tags_list.append(t)\n",
    "  return clean_list, new_tags_list"
   ]
  },
  {
   "cell_type": "code",
   "execution_count": 12,
   "metadata": {
    "id": "81Ur8TktjfJK"
   },
   "outputs": [],
   "source": [
    "good = clean(rus_texts, rus_tags)"
   ]
  },
  {
   "cell_type": "code",
   "execution_count": 28,
   "metadata": {
    "id": "wOZ-Y2RsRR7w"
   },
   "outputs": [],
   "source": [
    "good_eng = clean(eng_texts, eng_tags)"
   ]
  },
  {
   "cell_type": "markdown",
   "metadata": {
    "id": "JFySxf6p241q"
   },
   "source": [
    "## **PYMORPHY2**"
   ]
  },
  {
   "cell_type": "code",
   "execution_count": 13,
   "metadata": {
    "id": "71K9pwQdjk4O"
   },
   "outputs": [],
   "source": [
    "pymorphy_tags = []\n",
    "for i in good[0]:\n",
    "  parse = m.parse(i)[0].tag.POS\n",
    "  pymorphy_tags.append(parse)"
   ]
  },
  {
   "cell_type": "code",
   "execution_count": 14,
   "metadata": {
    "id": "ZpSZnvQKm5ah"
   },
   "outputs": [],
   "source": [
    "new_pymorphy_tags = []\n",
    "for p in pymorphy_tags:\n",
    "  p = p.replace('PRCL', 'PART')\n",
    "  p = p.replace('ADJF', 'ADJ')\n",
    "  p = p.replace('ADJS', 'ADJ')\n",
    "  p = p.replace('ADVB', 'ADV')\n",
    "  p = p.replace('COMP', 'ADJ')\n",
    "  p = p.replace('GRND', 'VERB')\n",
    "  p = p.replace('INFN', 'VERB')\n",
    "  p = p.replace('PRTF', 'VERB')\n",
    "  p = p.replace('PRTS', 'VERB')\n",
    "  p = p.replace('NPRO', 'PRON')\n",
    "  p = p.replace('NUMR', 'NUM')\n",
    "  p = p.replace('PRED', 'ADV')\n",
    "  new_pymorphy_tags.append(p)"
   ]
  },
  {
   "cell_type": "code",
   "execution_count": null,
   "metadata": {},
   "outputs": [],
   "source": []
  },
  {
   "cell_type": "code",
   "execution_count": 15,
   "metadata": {
    "colab": {
     "base_uri": "https://localhost:8080/",
     "height": 34
    },
    "id": "WPqUPRCjqVOz",
    "outputId": "a5871228-d9b5-4d46-b3c4-0d143085ac8e"
   },
   "outputs": [
    {
     "data": {
      "text/plain": [
       "0.835820895522388"
      ]
     },
     "execution_count": 15,
     "metadata": {
      "tags": []
     },
     "output_type": "execute_result"
    }
   ],
   "source": [
    "accuracy_score(good[1], new_pymorphy_tags)"
   ]
  },
  {
   "cell_type": "markdown",
   "metadata": {
    "id": "LdJ3R3wR2uO_"
   },
   "source": [
    "## **NATASHA**"
   ]
  },
  {
   "cell_type": "code",
   "execution_count": 16,
   "metadata": {
    "id": "T1b06EUatVO_"
   },
   "outputs": [],
   "source": [
    "segmenter = Segmenter()\n",
    "emb = NewsEmbedding()\n",
    "morph_tagger = NewsMorphTagger(emb)\n",
    "syntax_parser = NewsSyntaxParser(emb)\n",
    "ner_tagger = NewsNERTagger(emb)"
   ]
  },
  {
   "cell_type": "code",
   "execution_count": 17,
   "metadata": {
    "id": "9kXqFqMgvUUt"
   },
   "outputs": [],
   "source": [
    "natasha_tags = []\n",
    "n = ''\n",
    "for i in good[0]:\n",
    "  n += i + ' '\n",
    "doc = Doc(n)\n",
    "doc.segment(segmenter)\n",
    "doc.tag_morph(morph_tagger)\n",
    "for d in doc.tokens:\n",
    "  natasha_tags.append(d.pos)"
   ]
  },
  {
   "cell_type": "code",
   "execution_count": 25,
   "metadata": {
    "id": "JdzqCEbRwHdY"
   },
   "outputs": [],
   "source": [
    "new_natasha_tags = []\n",
    "for n in natasha_tags:\n",
    "  n = re.sub('^AUX$', 'VERB', n)\n",
    "  n = re.sub('^SCONJ$', 'CONJ', n)\n",
    "  n = re.sub('^ADP$', 'PREP', n)\n",
    "  n = re.sub('^CCONJ$', 'CONJ', n)\n",
    "  new_natasha_tags.append(n)"
   ]
  },
  {
   "cell_type": "code",
   "execution_count": 26,
   "metadata": {
    "colab": {
     "base_uri": "https://localhost:8080/",
     "height": 34
    },
    "id": "Ur9ktXE3_NIO",
    "outputId": "86af7535-fb9a-4fa7-d998-a79598aa7836"
   },
   "outputs": [
    {
     "data": {
      "text/plain": [
       "0.835820895522388"
      ]
     },
     "execution_count": 26,
     "metadata": {
      "tags": []
     },
     "output_type": "execute_result"
    }
   ],
   "source": [
    "accuracy_score(good[1], new_natasha_tags)"
   ]
  },
  {
   "cell_type": "markdown",
   "metadata": {
    "id": "DBrmGzaD3ljw"
   },
   "source": [
    "## **PYMYSTEM3**"
   ]
  },
  {
   "cell_type": "code",
   "execution_count": 18,
   "metadata": {
    "id": "FkTGssIZzjAy"
   },
   "outputs": [],
   "source": [
    "mystem_tags = []\n",
    "for i in good[0]:\n",
    "  m = mystem.analyze(i)\n",
    "  gr = m[0]['analysis'][0]['gr']\n",
    "  pos = gr.split('=')[0].split(',')[0]\n",
    "  mystem_tags.append(pos)"
   ]
  },
  {
   "cell_type": "code",
   "execution_count": 19,
   "metadata": {
    "id": "ro8nOMh-1PST"
   },
   "outputs": [],
   "source": [
    "new_mystem_tags = []\n",
    "for mt in mystem_tags:\n",
    "  mt = re.sub('^ADVPRO$', 'ADV', mt)\n",
    "  mt = re.sub('^ANUM$', 'NUM', mt)\n",
    "  mt = re.sub('^APRO$', 'PRON', mt)\n",
    "  mt = re.sub('^SPRO$', 'PRON', mt)\n",
    "  mt = re.sub('^PR$', 'PREP', mt)\n",
    "  mt = re.sub('^S$', 'NOUN', mt)\n",
    "  mt = re.sub('^V$', 'VERB', mt)\n",
    "  mt = re.sub('^A$', 'ADJ', mt)\n",
    "  new_mystem_tags.append(mt)"
   ]
  },
  {
   "cell_type": "code",
   "execution_count": 20,
   "metadata": {
    "colab": {
     "base_uri": "https://localhost:8080/",
     "height": 34
    },
    "id": "ZCak7Ol79ZEu",
    "outputId": "960fa91c-703c-479d-bf77-dd8aa92a96dc"
   },
   "outputs": [
    {
     "data": {
      "text/plain": [
       "0.9104477611940298"
      ]
     },
     "execution_count": 20,
     "metadata": {
      "tags": []
     },
     "output_type": "execute_result"
    }
   ],
   "source": [
    "accuracy_score(good[1], new_mystem_tags)"
   ]
  },
  {
   "cell_type": "markdown",
   "metadata": {
    "id": "SWNHdshERn07"
   },
   "source": [
    "## **SpaCy**"
   ]
  },
  {
   "cell_type": "code",
   "execution_count": 37,
   "metadata": {
    "id": "AOaIeZwK--iQ"
   },
   "outputs": [],
   "source": [
    "spacy_tags = []\n",
    "nlp = spacy.load(\"en_core_web_sm\")\n",
    "s = ''\n",
    "for i in good_eng[0]:\n",
    "  s += i + ' '\n",
    "doc = nlp(s)\n",
    "for token in doc:\n",
    "    spacy_tags.append(token.pos_)"
   ]
  },
  {
   "cell_type": "code",
   "execution_count": 41,
   "metadata": {
    "id": "wbQjwMgjTTUQ"
   },
   "outputs": [],
   "source": [
    "new_spacy_tags = []\n",
    "for sp in spacy_tags:\n",
    "  sp = re.sub('^PROPN$', 'PRON', sp)\n",
    "  sp = re.sub('^ADP$', 'PREP', sp)\n",
    "  sp = re.sub('^AUX$', 'VERB', sp)\n",
    "  sp = re.sub('^SCONJ$', 'CONJ', sp)\n",
    "  sp = re.sub('^CCONJ$', 'CONJ', sp)\n",
    "  new_spacy_tags.append(sp)"
   ]
  },
  {
   "cell_type": "code",
   "execution_count": 42,
   "metadata": {
    "colab": {
     "base_uri": "https://localhost:8080/",
     "height": 34
    },
    "id": "7jXNBm7zV8xL",
    "outputId": "ffd64c5e-bf99-455b-d703-d408cb1dfca8"
   },
   "outputs": [
    {
     "data": {
      "text/plain": [
       "0.6050420168067226"
      ]
     },
     "execution_count": 42,
     "metadata": {
      "tags": []
     },
     "output_type": "execute_result"
    }
   ],
   "source": [
    "accuracy_score(good_eng[1], new_spacy_tags)"
   ]
  },
  {
   "cell_type": "markdown",
   "metadata": {
    "id": "rTv1l2jtWOc0"
   },
   "source": [
    "## **Flair**"
   ]
  },
  {
   "cell_type": "code",
   "execution_count": 52,
   "metadata": {
    "colab": {
     "base_uri": "https://localhost:8080/",
     "height": 118
    },
    "id": "hmuJqX3aWJvQ",
    "outputId": "005d5415-8344-46ae-fef1-aebb77b5b0d3"
   },
   "outputs": [
    {
     "name": "stdout",
     "output_type": "stream",
     "text": [
      "2020-10-14 23:08:58,611 loading file /root/.flair/models/pos-multi-v0.1.pt\n",
      "2020-10-14 23:08:59,835 https://nlp.informatik.hu-berlin.de/resources/models/ner/en-ner-conll03-v0.4.pt not found in cache, downloading to /tmp/tmpc6mcwaxi\n"
     ]
    },
    {
     "name": "stderr",
     "output_type": "stream",
     "text": [
      "100%|██████████| 432197603/432197603 [00:18<00:00, 23224394.28B/s]"
     ]
    },
    {
     "name": "stdout",
     "output_type": "stream",
     "text": [
      "2020-10-14 23:09:18,806 copying /tmp/tmpc6mcwaxi to cache at /root/.flair/models/en-ner-conll03-v0.4.pt\n"
     ]
    },
    {
     "name": "stderr",
     "output_type": "stream",
     "text": [
      "\n"
     ]
    },
    {
     "name": "stdout",
     "output_type": "stream",
     "text": [
      "2020-10-14 23:09:20,973 removing temp file /tmp/tmpc6mcwaxi\n",
      "2020-10-14 23:09:21,044 loading file /root/.flair/models/en-ner-conll03-v0.4.pt\n"
     ]
    }
   ],
   "source": [
    "tagger = SequenceTagger.load('pos-multi')\n",
    "tagger = SequenceTagger.load('ner')"
   ]
  },
  {
   "cell_type": "code",
   "execution_count": 54,
   "metadata": {
    "colab": {
     "base_uri": "https://localhost:8080/",
     "height": 162
    },
    "id": "yDENqptSXcQS",
    "outputId": "4d7f164f-28b2-464a-9ac0-f7d2c90a37a6"
   },
   "outputs": [
    {
     "ename": "NameError",
     "evalue": "ignored",
     "output_type": "error",
     "traceback": [
      "\u001b[0;31m---------------------------------------------------------------------------\u001b[0m",
      "\u001b[0;31mNameError\u001b[0m                                 Traceback (most recent call last)",
      "\u001b[0;32m<ipython-input-54-ac557b9c87d7>\u001b[0m in \u001b[0;36m<module>\u001b[0;34m()\u001b[0m\n\u001b[0;32m----> 1\u001b[0;31m \u001b[0msentence\u001b[0m \u001b[0;34m=\u001b[0m \u001b[0mSentence\u001b[0m\u001b[0;34m(\u001b[0m\u001b[0ms\u001b[0m\u001b[0;34m)\u001b[0m\u001b[0;34m\u001b[0m\u001b[0;34m\u001b[0m\u001b[0m\n\u001b[0m",
      "\u001b[0;31mNameError\u001b[0m: name 'Sentence' is not defined"
     ]
    }
   ],
   "source": [
    "sentence = Sentence(s)"
   ]
  },
  {
   "cell_type": "code",
   "execution_count": null,
   "metadata": {
    "id": "nUZmXAPBYWGj"
   },
   "outputs": [],
   "source": []
  }
 ],
 "metadata": {
  "colab": {
   "collapsed_sections": [],
   "name": "hw_2",
   "provenance": []
  },
  "kernelspec": {
   "display_name": "Python 3 (ipykernel)",
   "language": "python",
   "name": "python3"
  },
  "language_info": {
   "codemirror_mode": {
    "name": "ipython",
    "version": 3
   },
   "file_extension": ".py",
   "mimetype": "text/x-python",
   "name": "python",
   "nbconvert_exporter": "python",
   "pygments_lexer": "ipython3",
   "version": "3.7.1"
  }
 },
 "nbformat": 4,
 "nbformat_minor": 1
}

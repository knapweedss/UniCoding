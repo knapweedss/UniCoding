{
 "cells": [
  {
   "cell_type": "markdown",
   "metadata": {},
   "source": [
    "# Часть 0"
   ]
  },
  {
   "cell_type": "markdown",
   "metadata": {},
   "source": [
    "### Подключимся к приложению"
   ]
  },
  {
   "cell_type": "code",
   "execution_count": 1,
   "metadata": {},
   "outputs": [],
   "source": [
    "import os\n",
    "import isodate\n",
    "from pprint import pprint\n",
    "import google_auth_oauthlib.flow\n",
    "import googleapiclient.discovery\n",
    "import googleapiclient.errors\n"
   ]
  },
  {
   "cell_type": "code",
   "execution_count": 2,
   "metadata": {},
   "outputs": [],
   "source": [
    "client_secrets_file = \"client_secret.json.json\""
   ]
  },
  {
   "cell_type": "code",
   "execution_count": 3,
   "metadata": {},
   "outputs": [],
   "source": [
    "scopes = [\"https://www.googleapis.com/auth/youtube.readonly\", 'https://www.googleapis.com/auth/youtube.force-ssl']"
   ]
  },
  {
   "cell_type": "code",
   "execution_count": 4,
   "metadata": {},
   "outputs": [],
   "source": [
    "os.environ[\"OAUTHLIB_INSECURE_TRANSPORT\"] = \"1\""
   ]
  },
  {
   "cell_type": "code",
   "execution_count": 5,
   "metadata": {},
   "outputs": [
    {
     "name": "stdout",
     "output_type": "stream",
     "text": [
      "Please visit this URL to authorize this application: https://accounts.google.com/o/oauth2/auth?response_type=code&client_id=554521698307-vnhq5jei3ie56hdpuegl2rei60mkebb9.apps.googleusercontent.com&redirect_uri=urn%3Aietf%3Awg%3Aoauth%3A2.0%3Aoob&scope=https%3A%2F%2Fwww.googleapis.com%2Fauth%2Fyoutube.readonly+https%3A%2F%2Fwww.googleapis.com%2Fauth%2Fyoutube.force-ssl&state=yKywLLTFac7Ra5zFlfa87L6TtEw7kD&prompt=consent&access_type=offline\n",
      "Enter the authorization code: 4/zQGjNdfj16wTHrDejH12FaWBbEJ0a9LbbkQ9ivXoux_Qu9opKRtGsB4\n"
     ]
    }
   ],
   "source": [
    "api_service_name = \"youtube\"\n",
    "api_version = \"v3\"\n",
    "client_secrets_file = \"client_secret.json\"\n",
    "\n",
    "flow = google_auth_oauthlib.flow.InstalledAppFlow.from_client_secrets_file(client_secrets_file, scopes)\n",
    "credentials = flow.run_console()\n",
    "youtube = googleapiclient.discovery.build(api_service_name, api_version, credentials=credentials)"
   ]
  },
  {
   "cell_type": "markdown",
   "metadata": {},
   "source": [
    "# Часть 1 "
   ]
  },
  {
   "cell_type": "markdown",
   "metadata": {},
   "source": [
    "Сначала достанем ссылку на канал"
   ]
  },
  {
   "cell_type": "code",
   "execution_count": 6,
   "metadata": {},
   "outputs": [],
   "source": [
    "request = youtube.channels().list(\n",
    "    part=\"contentDetails\",\n",
    "    id=\"UCluKJdAf2X7d721bpL6XkWQ\"\n",
    ")\n",
    "response = request.execute()"
   ]
  },
  {
   "cell_type": "code",
   "execution_count": 7,
   "metadata": {},
   "outputs": [],
   "source": [
    "url = response['items'][0]['contentDetails']['relatedPlaylists']['uploads']"
   ]
  },
  {
   "cell_type": "markdown",
   "metadata": {},
   "source": [
    "Теперь нам нужна итерация по страницам"
   ]
  },
  {
   "cell_type": "code",
   "execution_count": 8,
   "metadata": {},
   "outputs": [],
   "source": [
    "next_page_token = ''\n",
    "video_ids = []  #  id видео\n",
    "for token in range(6):\n",
    "    request = youtube.playlistItems().list(\n",
    "    part=\"contentDetails\",\n",
    "    playlistId= url,\n",
    "    maxResults=50,\n",
    "    pageToken = next_page_token\n",
    "    )\n",
    "    \n",
    "    response = request.execute()\n",
    "    for i in range(len(response['items'])):\n",
    "        video = (response['items'][i]['contentDetails']['videoId'])\n",
    "        video_ids.append(video)\n",
    "    \n",
    "    next_page_token = response['nextPageToken']  \n"
   ]
  },
  {
   "cell_type": "code",
   "execution_count": 9,
   "metadata": {},
   "outputs": [
    {
     "data": {
      "text/plain": [
       "300"
      ]
     },
     "execution_count": 9,
     "metadata": {},
     "output_type": "execute_result"
    }
   ],
   "source": [
    "len(set(video_ids))  #  убедимся, что мы достали > 250 уникальных id видео "
   ]
  },
  {
   "cell_type": "markdown",
   "metadata": {},
   "source": [
    "Достанем метаинформацию, сначала посмотрим без итерации, как что достать "
   ]
  },
  {
   "cell_type": "code",
   "execution_count": 10,
   "metadata": {},
   "outputs": [],
   "source": [
    "request = youtube.videos().list(\n",
    "    part=\"statistics\",\n",
    "    id=video_ids[0]\n",
    ")\n",
    "response = request.execute()\n"
   ]
  },
  {
   "cell_type": "code",
   "execution_count": 11,
   "metadata": {},
   "outputs": [
    {
     "data": {
      "text/plain": [
       "'21677'"
      ]
     },
     "execution_count": 11,
     "metadata": {},
     "output_type": "execute_result"
    }
   ],
   "source": [
    "response['items'][0]['statistics']['viewCount']  #  просмотры"
   ]
  },
  {
   "cell_type": "code",
   "execution_count": 12,
   "metadata": {},
   "outputs": [
    {
     "data": {
      "text/plain": [
       "'3212'"
      ]
     },
     "execution_count": 12,
     "metadata": {},
     "output_type": "execute_result"
    }
   ],
   "source": [
    "response['items'][0]['statistics']['likeCount']  #  лайки "
   ]
  },
  {
   "cell_type": "code",
   "execution_count": 13,
   "metadata": {},
   "outputs": [
    {
     "data": {
      "text/plain": [
       "'19'"
      ]
     },
     "execution_count": 13,
     "metadata": {},
     "output_type": "execute_result"
    }
   ],
   "source": [
    "response['items'][0]['statistics']['dislikeCount']  #  дизлайки "
   ]
  },
  {
   "cell_type": "code",
   "execution_count": 14,
   "metadata": {},
   "outputs": [
    {
     "data": {
      "text/plain": [
       "'151'"
      ]
     },
     "execution_count": 14,
     "metadata": {},
     "output_type": "execute_result"
    }
   ],
   "source": [
    "response['items'][0]['statistics']['commentCount']  #  количество комментов"
   ]
  },
  {
   "cell_type": "code",
   "execution_count": 15,
   "metadata": {},
   "outputs": [
    {
     "name": "stdout",
     "output_type": "stream",
     "text": [
      "'Философия - Иммануил Кант [The School of Life]'\n"
     ]
    }
   ],
   "source": [
    "# заголовок\n",
    "request = youtube.videos().list(\n",
    "    part=\"snippet\",\n",
    "    id=video_ids[-1]\n",
    ")\n",
    "response = request.execute()\n",
    "pprint(response['items'][0]['snippet']['localized']['title'])"
   ]
  },
  {
   "cell_type": "code",
   "execution_count": 16,
   "metadata": {},
   "outputs": [
    {
     "data": {
      "text/plain": [
       "'2018-12-31'"
      ]
     },
     "execution_count": 16,
     "metadata": {},
     "output_type": "execute_result"
    }
   ],
   "source": [
    "#  дата публикации\n",
    "import datetime\n",
    "from datetime import date\n",
    "a = response['items'][0]['snippet']['publishedAt'][0:10]\n",
    "a"
   ]
  },
  {
   "cell_type": "code",
   "execution_count": 17,
   "metadata": {},
   "outputs": [
    {
     "data": {
      "text/plain": [
       "'ru'"
      ]
     },
     "execution_count": 17,
     "metadata": {},
     "output_type": "execute_result"
    }
   ],
   "source": [
    "# язык аудио по умолчанию\n",
    "\n",
    "response['items'][0]['snippet']['defaultAudioLanguage']"
   ]
  },
  {
   "cell_type": "code",
   "execution_count": 18,
   "metadata": {},
   "outputs": [],
   "source": [
    "request = youtube.videos().list(\n",
    "    part=\"contentDetails\",\n",
    "    id=video_ids[0]\n",
    ")\n",
    "response = request.execute()\n"
   ]
  },
  {
   "cell_type": "code",
   "execution_count": 19,
   "metadata": {},
   "outputs": [],
   "source": [
    "# достанем длину видео\n",
    "a = response['items'][0]['contentDetails']['duration']  "
   ]
  },
  {
   "cell_type": "code",
   "execution_count": 20,
   "metadata": {},
   "outputs": [
    {
     "data": {
      "text/plain": [
       "197"
      ]
     },
     "execution_count": 20,
     "metadata": {},
     "output_type": "execute_result"
    }
   ],
   "source": [
    "# переведем в секунды\n",
    "date = isodate.parse_duration(a)  \n",
    "seconds = date.seconds\n",
    "seconds"
   ]
  },
  {
   "cell_type": "markdown",
   "metadata": {},
   "source": [
    "### Запишем все в цикл "
   ]
  },
  {
   "cell_type": "code",
   "execution_count": 21,
   "metadata": {},
   "outputs": [],
   "source": [
    "views, likes, dislikes= [], [], []\n",
    "comments, times, lang = [], [], []\n",
    "title, piblished_time = [], []\n"
   ]
  },
  {
   "cell_type": "code",
   "execution_count": 22,
   "metadata": {},
   "outputs": [],
   "source": [
    "import time\n",
    "import tqdm"
   ]
  },
  {
   "cell_type": "code",
   "execution_count": 23,
   "metadata": {},
   "outputs": [],
   "source": [
    "s = 0  #  счетчик\n",
    "while s < len(video_ids):\n",
    "    for i in range(len(video_ids)):\n",
    "        request = youtube.videos().list(\n",
    "        part=\"statistics\",\n",
    "        id=video_ids[s]\n",
    "        )\n",
    "        response = request.execute()\n",
    "        #time.sleep(1)\n",
    "        \n",
    "        views.append(response['items'][0]['statistics']['viewCount'])\n",
    "        likes.append(response['items'][0]['statistics']['likeCount'])\n",
    "        dislikes.append(response['items'][0]['statistics']['dislikeCount'])\n",
    "        comments.append(response['items'][0]['statistics']['commentCount'])\n",
    "\n",
    "        request = youtube.videos().list(\n",
    "        part=\"contentDetails\",\n",
    "        id=video_ids[s]\n",
    "        )\n",
    "        response = request.execute()  \n",
    "        a = response['items'][0]['contentDetails']['duration'] \n",
    "        date = isodate.parse_duration(a)  \n",
    "        seconds = date.seconds\n",
    "        times.append(seconds)\n",
    "        \n",
    "        request = youtube.videos().list(\n",
    "        part=\"snippet\",\n",
    "        id=video_ids[s]\n",
    "        )\n",
    "        response = request.execute() \n",
    "        lang.append(response['items'][0]['snippet']['defaultAudioLanguage'])\n",
    "        title.append(response['items'][0]['snippet']['localized']['title'])\n",
    "        piblished_time.append(response['items'][0]['snippet']['publishedAt'][0:10])\n",
    "        \n",
    "        s += 1\n",
    "        "
   ]
  },
  {
   "cell_type": "markdown",
   "metadata": {},
   "source": [
    "# Часть 2"
   ]
  },
  {
   "cell_type": "markdown",
   "metadata": {},
   "source": [
    "### создадим базу данных "
   ]
  },
  {
   "cell_type": "code",
   "execution_count": 24,
   "metadata": {},
   "outputs": [],
   "source": [
    "import sqlite3"
   ]
  },
  {
   "cell_type": "code",
   "execution_count": 25,
   "metadata": {},
   "outputs": [],
   "source": [
    "db = sqlite3.connect('Youtube_p2.db')\n",
    "cur = db.cursor()"
   ]
  },
  {
   "cell_type": "code",
   "execution_count": 26,
   "metadata": {},
   "outputs": [],
   "source": [
    "cur.execute(\"\"\"\n",
    "CREATE TABLE tags (\n",
    "    id INTEGER PRIMARY KEY AUTOINCREMENT,\n",
    "    tag    TEXT\n",
    ");\n",
    "\"\"\")\n",
    "\n",
    "cur.execute(\"\"\"\n",
    "CREATE TABLE video_to_tags (\n",
    "    id_video    INTEGER,\n",
    "    id_tag    INTEGER\n",
    ");\n",
    "\"\"\")\n",
    "\n",
    "cur.execute(\"\"\"\n",
    "CREATE TABLE video_meta (\n",
    "    id INTEGER PRIMARY KEY AUTOINCREMENT,\n",
    "    youtube_id    TEXT,\n",
    "    likeCount INT,\n",
    "    dislikeCount INT,\n",
    "    commentCount INT,\n",
    "    viewCount INT,\n",
    "    defaultAudioLanguage TEXT,\n",
    "    title TEXT,\n",
    "    duration INT,\n",
    "    published_time INT\n",
    ");\n",
    "\"\"\")\n",
    "\n",
    "cur.execute(\"\"\"\n",
    "CREATE TABLE comments (\n",
    "    id_com INTEGER PRIMARY KEY AUTOINCREMENT,\n",
    "    author_id TEXT,\n",
    "    author_name TEXT,\n",
    "    likeCount INT,\n",
    "    text_of_comment TEXT,\n",
    "    publ_data TEXT,\n",
    "    upd_data TEXT,\n",
    "    replyCount INT\n",
    ");\n",
    "\"\"\")\n",
    "\n",
    "db.commit()"
   ]
  },
  {
   "cell_type": "markdown",
   "metadata": {},
   "source": [
    "# Часть 3"
   ]
  },
  {
   "cell_type": "markdown",
   "metadata": {},
   "source": [
    "### Заполним базу данных"
   ]
  },
  {
   "cell_type": "markdown",
   "metadata": {},
   "source": [
    "Сначала заполним таблицу video_meta с метаданными по видео"
   ]
  },
  {
   "cell_type": "code",
   "execution_count": 27,
   "metadata": {},
   "outputs": [],
   "source": [
    "vide = range(1 ,len(likes) + 1)  #  нужно для id"
   ]
  },
  {
   "cell_type": "code",
   "execution_count": 28,
   "metadata": {},
   "outputs": [
    {
     "data": {
      "text/html": [
       "<div>\n",
       "<style scoped>\n",
       "    .dataframe tbody tr th:only-of-type {\n",
       "        vertical-align: middle;\n",
       "    }\n",
       "\n",
       "    .dataframe tbody tr th {\n",
       "        vertical-align: top;\n",
       "    }\n",
       "\n",
       "    .dataframe thead th {\n",
       "        text-align: right;\n",
       "    }\n",
       "</style>\n",
       "<table border=\"1\" class=\"dataframe\">\n",
       "  <thead>\n",
       "    <tr style=\"text-align: right;\">\n",
       "      <th></th>\n",
       "      <th>id</th>\n",
       "      <th>video</th>\n",
       "      <th>likes</th>\n",
       "      <th>dislikes</th>\n",
       "      <th>comments</th>\n",
       "      <th>views</th>\n",
       "      <th>lang</th>\n",
       "      <th>title</th>\n",
       "      <th>times</th>\n",
       "      <th>published_time</th>\n",
       "    </tr>\n",
       "  </thead>\n",
       "  <tbody>\n",
       "    <tr>\n",
       "      <td>0</td>\n",
       "      <td>1</td>\n",
       "      <td>P1dGjaNxFqk</td>\n",
       "      <td>3212</td>\n",
       "      <td>19</td>\n",
       "      <td>151</td>\n",
       "      <td>21677</td>\n",
       "      <td>ru</td>\n",
       "      <td>Люби меня таким, какой я есть</td>\n",
       "      <td>197</td>\n",
       "      <td>2020-04-28</td>\n",
       "    </tr>\n",
       "    <tr>\n",
       "      <td>1</td>\n",
       "      <td>2</td>\n",
       "      <td>1K5C9aYZFZI</td>\n",
       "      <td>853</td>\n",
       "      <td>19</td>\n",
       "      <td>33</td>\n",
       "      <td>11876</td>\n",
       "      <td>ru</td>\n",
       "      <td>Почему Вы должны прочитать \"Клуб радости и уда...</td>\n",
       "      <td>252</td>\n",
       "      <td>2020-04-24</td>\n",
       "    </tr>\n",
       "  </tbody>\n",
       "</table>\n",
       "</div>"
      ],
      "text/plain": [
       "   id        video likes dislikes comments  views lang  \\\n",
       "0   1  P1dGjaNxFqk  3212       19      151  21677   ru   \n",
       "1   2  1K5C9aYZFZI   853       19       33  11876   ru   \n",
       "\n",
       "                                               title  times published_time  \n",
       "0                      Люби меня таким, какой я есть    197     2020-04-28  \n",
       "1  Почему Вы должны прочитать \"Клуб радости и уда...    252     2020-04-24  "
      ]
     },
     "execution_count": 28,
     "metadata": {},
     "output_type": "execute_result"
    }
   ],
   "source": [
    "import pandas as pd\n",
    "\n",
    "df1 = pd.DataFrame({\n",
    "    'id' : vide,\n",
    "    'video': video_ids,\n",
    "    'likes' : likes,\n",
    "    'dislikes': dislikes,\n",
    "    'comments': comments,\n",
    "    'views' : views,\n",
    "    'lang': lang,\n",
    "    'title' : title,\n",
    "    'times' : times,\n",
    "    'published_time' : piblished_time\n",
    "                  })\n",
    "df1.head(2)"
   ]
  },
  {
   "cell_type": "code",
   "execution_count": 29,
   "metadata": {},
   "outputs": [],
   "source": [
    "df1.to_sql( 'video_meta' , db, if_exists='replace', index = False)\n",
    "cur.execute('''  \n",
    "SELECT * FROM video_meta\n",
    "          ''')\n",
    "db.commit()"
   ]
  },
  {
   "cell_type": "markdown",
   "metadata": {},
   "source": [
    "Теперь заполним таблицы tags, video_to_tags, sqlite_sequence"
   ]
  },
  {
   "cell_type": "code",
   "execution_count": 30,
   "metadata": {},
   "outputs": [],
   "source": [
    "cur.execute('SELECT video, id FROM video_meta')\n",
    "videos = {key: val for key, val in cur.fetchall()}"
   ]
  },
  {
   "cell_type": "code",
   "execution_count": 31,
   "metadata": {},
   "outputs": [],
   "source": [
    "cur.execute('SELECT tag, id FROM tags')\n",
    "tags = {key: val for key, val in cur.fetchall()}\n",
    "t_idx = 0 if len(tags) == 0 else max(tags.values())\n",
    "\n",
    "tags_to_insert = []\n",
    "for vid in video_ids:\n",
    "    request = youtube.videos().list(\n",
    "        part=\"snippet\",\n",
    "        id=vid\n",
    "    )\n",
    "    response = request.execute()\n",
    "    snippet = response.get('items', [0])[0].get('snippet', {})\n",
    "    these_tags = snippet.get('tags')\n",
    "    save_tags = []\n",
    "    for t in these_tags:\n",
    "        if t not in tags:\n",
    "            tags[t] = t_idx + 1\n",
    "            t_idx = t_idx + 1\n",
    "            tags_to_insert.append((t_idx, t))\n",
    "        save_tags.append((videos[vid], tags[t]))\n",
    "    cur.executemany(\"INSERT INTO video_to_tags VALUES (?, ?)\", save_tags)\n",
    "cur.executemany(\"INSERT INTO tags VALUES (?, ?)\", tags_to_insert)\n",
    "db.commit()"
   ]
  },
  {
   "cell_type": "markdown",
   "metadata": {},
   "source": [
    "# Часть 4"
   ]
  },
  {
   "cell_type": "markdown",
   "metadata": {},
   "source": [
    "### Визуализация по видео. График 1. WordCloud"
   ]
  },
  {
   "cell_type": "markdown",
   "metadata": {},
   "source": [
    "Достанем теги из базы данных, преобразуем в нужный формат и удалим лишние знаки"
   ]
  },
  {
   "cell_type": "code",
   "execution_count": 32,
   "metadata": {},
   "outputs": [],
   "source": [
    "from collections import Counter"
   ]
  },
  {
   "cell_type": "code",
   "execution_count": 33,
   "metadata": {},
   "outputs": [],
   "source": [
    "tags_all = [ ]\n",
    "\n",
    "for row in cur.execute('SELECT tag FROM tags'):\n",
    "    tags_all.append(str(row).replace(')', '').replace('(', '').replace('(', '').replace(\"'\", '').replace(\",\", ''))"
   ]
  },
  {
   "cell_type": "code",
   "execution_count": 34,
   "metadata": {},
   "outputs": [],
   "source": [
    "a = Counter(tags_all)"
   ]
  },
  {
   "cell_type": "markdown",
   "metadata": {},
   "source": [
    "Построим вордклауд по тегам"
   ]
  },
  {
   "cell_type": "code",
   "execution_count": 35,
   "metadata": {},
   "outputs": [
    {
     "data": {
      "text/plain": [
       "<Figure size 1000x1000 with 1 Axes>"
      ]
     },
     "metadata": {},
     "output_type": "display_data"
    }
   ],
   "source": [
    "from wordcloud import WordCloud\n",
    "import matplotlib.pyplot as plt\n",
    "\n",
    "wordcloud = WordCloud(background_color='white').fit_words(a)\n",
    "# отобразим вордклауд\n",
    "plt.figure(figsize=(10,10))\n",
    "plt.imshow(wordcloud, interpolation='bilinear')\n",
    "plt.axis(\"off\")\n",
    "plt.show()\n"
   ]
  },
  {
   "cell_type": "markdown",
   "metadata": {},
   "source": [
    "### Визуализация по видео. График 2. "
   ]
  },
  {
   "cell_type": "markdown",
   "metadata": {},
   "source": [
    "### Построим график зависимости количества просмотров от времени"
   ]
  },
  {
   "cell_type": "code",
   "execution_count": 36,
   "metadata": {},
   "outputs": [],
   "source": [
    "import numpy as np\n",
    "import seaborn as sns"
   ]
  },
  {
   "cell_type": "code",
   "execution_count": 37,
   "metadata": {},
   "outputs": [],
   "source": [
    "years = []\n",
    "for row in cur.execute('SELECT published_time FROM video_meta'):\n",
    "    years.append(row[0])\n"
   ]
  },
  {
   "cell_type": "markdown",
   "metadata": {},
   "source": [
    "Создадим датафрейм, чтобы можно было по простому доставать метаданные и конвертировать их "
   ]
  },
  {
   "cell_type": "code",
   "execution_count": 38,
   "metadata": {},
   "outputs": [
    {
     "data": {
      "text/html": [
       "<div>\n",
       "<style scoped>\n",
       "    .dataframe tbody tr th:only-of-type {\n",
       "        vertical-align: middle;\n",
       "    }\n",
       "\n",
       "    .dataframe tbody tr th {\n",
       "        vertical-align: top;\n",
       "    }\n",
       "\n",
       "    .dataframe thead th {\n",
       "        text-align: right;\n",
       "    }\n",
       "</style>\n",
       "<table border=\"1\" class=\"dataframe\">\n",
       "  <thead>\n",
       "    <tr style=\"text-align: right;\">\n",
       "      <th></th>\n",
       "      <th>views</th>\n",
       "      <th>likes</th>\n",
       "    </tr>\n",
       "  </thead>\n",
       "  <tbody>\n",
       "    <tr>\n",
       "      <td>0</td>\n",
       "      <td>21677</td>\n",
       "      <td>3212</td>\n",
       "    </tr>\n",
       "    <tr>\n",
       "      <td>1</td>\n",
       "      <td>11876</td>\n",
       "      <td>853</td>\n",
       "    </tr>\n",
       "  </tbody>\n",
       "</table>\n",
       "</div>"
      ],
      "text/plain": [
       "   views likes\n",
       "0  21677  3212\n",
       "1  11876   853"
      ]
     },
     "execution_count": 38,
     "metadata": {},
     "output_type": "execute_result"
    }
   ],
   "source": [
    "df2 = pd.DataFrame({\n",
    "    'views' : views,\n",
    "    'likes' : likes\n",
    "                  })\n",
    "df2.head(2)\n"
   ]
  },
  {
   "cell_type": "code",
   "execution_count": 39,
   "metadata": {},
   "outputs": [],
   "source": [
    "import datetime\n",
    "from datetime import date\n",
    "\n",
    "xdata = []  #  список со временем\n",
    "ydata = []  #  список с лайками формата int\n",
    "for y in years:\n",
    "    q = y.split('-')\n",
    "    xdata.append(date(int(q[0]), int(q[1]), int(q[2])))\n",
    "for d in df2['views']:\n",
    "    ydata.append(int(d))"
   ]
  },
  {
   "cell_type": "code",
   "execution_count": 40,
   "metadata": {},
   "outputs": [
    {
     "name": "stderr",
     "output_type": "stream",
     "text": [
      "/Users/mariadolgodvorova/opt/anaconda3/lib/python3.6/site-packages/pandas/plotting/_matplotlib/converter.py:103: FutureWarning: Using an implicitly registered datetime converter for a matplotlib plotting method. The converter was registered by pandas on import. Future versions of pandas will require you to explicitly register matplotlib converters.\n",
      "\n",
      "To register the converters:\n",
      "\t>>> from pandas.plotting import register_matplotlib_converters\n",
      "\t>>> register_matplotlib_converters()\n",
      "  warnings.warn(msg, FutureWarning)\n",
      "/Users/mariadolgodvorova/opt/anaconda3/lib/python3.6/site-packages/ipykernel_launcher.py:24: UserWarning: Matplotlib is currently using module://ipykernel.pylab.backend_inline, which is a non-GUI backend, so cannot show the figure.\n"
     ]
    },
    {
     "data": {
      "image/png": "[encoded data removed]",
      "text/plain": [
       "<Figure size 1332x756 with 1 Axes>"
      ]
     },
     "metadata": {
      "needs_background": "light"
     },
     "output_type": "display_data"
    }
   ],
   "source": [
    "import pylab\n",
    "import matplotlib.dates\n",
    "\n",
    "# Преобразуем даты в числовой формат\n",
    "xdata_float = matplotlib.dates.date2num(xdata)\n",
    "# Вызовем subplot явно, чтобы получить экземпляр класса AxesSubplot\n",
    "axes = pylab.subplot(1, 1, 1)\n",
    "axes.xaxis.set_major_formatter(matplotlib.dates.DateFormatter(\"%Y\"))\n",
    "pylab.plot_date(xdata_float, ydata, \n",
    "                linestyle = \"-\",\n",
    "                color = \"g\", \n",
    "                fmt=\"b-\")\n",
    "\n",
    "# в самом начале из списка с датами я взяла последний элемент - это 2018-12-29\n",
    "# даты публикаций начинаются с 2018-12-29 и мы строим график с этой даты\n",
    "pylab.xlim(xmin=matplotlib.dates.date2num(date(2018, 12, 29)))\n",
    "\n",
    "pylab.title('График зависимости количества просмотров от времени')\n",
    "pylab.grid()\n",
    "\n",
    "\n",
    "fig = matplotlib.pyplot.gcf()\n",
    "fig.set_size_inches(18.5, 10.5)\n",
    "fig.show()"
   ]
  },
  {
   "cell_type": "markdown",
   "metadata": {},
   "source": [
    "### Визуализация по видео. График 3. "
   ]
  },
  {
   "cell_type": "markdown",
   "metadata": {},
   "source": [
    "### Построим график зависимости количества лайков от времени"
   ]
  },
  {
   "cell_type": "code",
   "execution_count": 41,
   "metadata": {},
   "outputs": [],
   "source": [
    "ldata = [] \n",
    "for l in df2['likes']:\n",
    "    ldata.append(int(l))"
   ]
  },
  {
   "cell_type": "code",
   "execution_count": 42,
   "metadata": {},
   "outputs": [
    {
     "name": "stderr",
     "output_type": "stream",
     "text": [
      "/Users/mariadolgodvorova/opt/anaconda3/lib/python3.6/site-packages/ipykernel_launcher.py:23: UserWarning: Matplotlib is currently using module://ipykernel.pylab.backend_inline, which is a non-GUI backend, so cannot show the figure.\n"
     ]
    },
    {
     "data": {
      "image/png": "[encoded data removed]",
      "text/plain": [
       "<Figure size 1332x756 with 1 Axes>"
      ]
     },
     "metadata": {
      "needs_background": "light"
     },
     "output_type": "display_data"
    }
   ],
   "source": [
    "import pylab\n",
    "import matplotlib.dates\n",
    "\n",
    "# Преобразуем даты в числовой формат\n",
    "xdata_float = matplotlib.dates.date2num(xdata)\n",
    "# Вызовем subplot явно, чтобы получить экземпляр класса AxesSubplot\n",
    "axes = pylab.subplot(1, 1, 1)\n",
    "axes.xaxis.set_major_formatter(matplotlib.dates.DateFormatter(\"%Y\"))\n",
    "pylab.plot_date(xdata_float, ldata, \n",
    "    linestyle = \"-\", \n",
    "    marker = \"o\", \n",
    "    color = \"k\", \n",
    "    markerfacecolor = \"m\")\n",
    "\n",
    "pylab.xlim(xmin=matplotlib.dates.date2num(date(2018, 12, 29)))\n",
    "\n",
    "\n",
    "pylab.title('График зависимости количества лайков от времени')\n",
    "pylab.grid()\n",
    "\n",
    "fig = matplotlib.pyplot.gcf()\n",
    "fig.set_size_inches(18.5, 10.5)\n",
    "fig.show();"
   ]
  },
  {
   "cell_type": "markdown",
   "metadata": {},
   "source": [
    "# Часть 5 "
   ]
  },
  {
   "cell_type": "markdown",
   "metadata": {},
   "source": [
    "https://www.youtube.com/watch?v=4NRXx6U8ABQ - взяла в качестве \"популярного международного видео\", мне кажется, здесь должна быть интересная статистика по языкам"
   ]
  },
  {
   "cell_type": "markdown",
   "metadata": {},
   "source": [
    "Сперва, как обычно, посмотрим без цикла, как достать информацию "
   ]
  },
  {
   "cell_type": "code",
   "execution_count": 43,
   "metadata": {},
   "outputs": [],
   "source": [
    "request = youtube.commentThreads().list(\n",
    "    part=\"snippet\",\n",
    "    videoId=\"4NRXx6U8ABQ\",\n",
    "    maxResults=50\n",
    ")\n",
    "response = request.execute()"
   ]
  },
  {
   "cell_type": "code",
   "execution_count": 44,
   "metadata": {},
   "outputs": [
    {
     "data": {
      "text/plain": [
       "'QURTSl9pMWRicGlOdnFlN3dteTZZMGdURV9HMHczdkRhdFNVcGw4aTNEcjhZWllMN2docUN0b0prZFlLTzZsaTNLajI3aTJyWmxobFZWUmwxTUtvcy1rZ2JkdTJsblFiN2NMUEVFckhwcEU0ZVJ6MTcwblJub003UXN5cEJjNmQ1aGs='"
      ]
     },
     "execution_count": 44,
     "metadata": {},
     "output_type": "execute_result"
    }
   ],
   "source": [
    "# следующая страница\n",
    "response['nextPageToken']"
   ]
  },
  {
   "cell_type": "code",
   "execution_count": 45,
   "metadata": {},
   "outputs": [
    {
     "data": {
      "text/plain": [
       "'Ugxdd4kRPpuVXMWSEft4AaABAg'"
      ]
     },
     "execution_count": 45,
     "metadata": {},
     "output_type": "execute_result"
    }
   ],
   "source": [
    "# id \n",
    "response['items'][0]['snippet']['topLevelComment']['id']"
   ]
  },
  {
   "cell_type": "code",
   "execution_count": 46,
   "metadata": {},
   "outputs": [
    {
     "data": {
      "text/plain": [
       "'charliecoustic'"
      ]
     },
     "execution_count": 46,
     "metadata": {},
     "output_type": "execute_result"
    }
   ],
   "source": [
    "# имя оставившего комментарий\n",
    "response['items'][0]['snippet']['topLevelComment']['snippet']['authorDisplayName']"
   ]
  },
  {
   "cell_type": "code",
   "execution_count": 47,
   "metadata": {},
   "outputs": [
    {
     "data": {
      "text/plain": [
       "0"
      ]
     },
     "execution_count": 47,
     "metadata": {},
     "output_type": "execute_result"
    }
   ],
   "source": [
    "# количество лайков\n",
    "response['items'][0]['snippet']['topLevelComment']['snippet']['likeCount']"
   ]
  },
  {
   "cell_type": "code",
   "execution_count": 48,
   "metadata": {},
   "outputs": [
    {
     "data": {
      "text/plain": [
       "'I wanted to hear the song clearly<br />His car: bruhhhhhhhhhhhh'"
      ]
     },
     "execution_count": 48,
     "metadata": {},
     "output_type": "execute_result"
    }
   ],
   "source": [
    "# текст коммента\n",
    "response['items'][0]['snippet']['topLevelComment']['snippet']['textDisplay']"
   ]
  },
  {
   "cell_type": "code",
   "execution_count": 49,
   "metadata": {},
   "outputs": [
    {
     "data": {
      "text/plain": [
       "'2020-04-29'"
      ]
     },
     "execution_count": 49,
     "metadata": {},
     "output_type": "execute_result"
    }
   ],
   "source": [
    "# дата публикации\n",
    "response['items'][0]['snippet']['topLevelComment']['snippet']['publishedAt'][0:10]"
   ]
  },
  {
   "cell_type": "code",
   "execution_count": 50,
   "metadata": {},
   "outputs": [
    {
     "data": {
      "text/plain": [
       "'2020-04-29'"
      ]
     },
     "execution_count": 50,
     "metadata": {},
     "output_type": "execute_result"
    }
   ],
   "source": [
    "# дата апдейта\n",
    "response['items'][0]['snippet']['topLevelComment']['snippet']['updatedAt'][0:10]"
   ]
  },
  {
   "cell_type": "code",
   "execution_count": 51,
   "metadata": {},
   "outputs": [
    {
     "data": {
      "text/plain": [
       "0"
      ]
     },
     "execution_count": 51,
     "metadata": {},
     "output_type": "execute_result"
    }
   ],
   "source": [
    "# количество ответов\n",
    "response['items'][0]['snippet']['totalReplyCount']"
   ]
  },
  {
   "cell_type": "markdown",
   "metadata": {},
   "source": [
    "### Запишем все в цикл"
   ]
  },
  {
   "cell_type": "code",
   "execution_count": 52,
   "metadata": {},
   "outputs": [],
   "source": [
    "next_page_token = ''\n",
    "\n",
    "author_id = []  \n",
    "author_name = []\n",
    "likeCount = []\n",
    "text_of_comment = []\n",
    "publ_data = []\n",
    "upd_data = []\n",
    "replyCount = []\n",
    "\n",
    "\n",
    "for token in range(20):\n",
    "    request = youtube.commentThreads().list(\n",
    "    part=\"snippet\",\n",
    "    videoId=\"4NRXx6U8ABQ\",\n",
    "    maxResults=50,\n",
    "    pageToken = next_page_token\n",
    "    )   \n",
    "    response = request.execute()\n",
    "    \n",
    "    s = 0\n",
    "    for i in range(len(response['items'])):\n",
    "        author_id.append(response['items'][s]['snippet']['topLevelComment']['id'])\n",
    "        author_name.append(response['items'][s]['snippet']['topLevelComment']['snippet']['authorDisplayName'])\n",
    "        likeCount.append(response['items'][s]['snippet']['topLevelComment']['snippet']['likeCount'])\n",
    "        text_of_comment.append(response['items'][s]['snippet']['topLevelComment']['snippet']['textDisplay'])\n",
    "        publ_data.append(response['items'][s]['snippet']['topLevelComment']['snippet']['publishedAt'][0:10])\n",
    "        upd_data.append(response['items'][s]['snippet']['topLevelComment']['snippet']['updatedAt'][0:10])\n",
    "        replyCount.append(response['items'][s]['snippet']['totalReplyCount'])\n",
    "        \n",
    "        s += 1\n",
    "    next_page_token = response['nextPageToken'] "
   ]
  },
  {
   "cell_type": "code",
   "execution_count": 53,
   "metadata": {},
   "outputs": [
    {
     "data": {
      "text/plain": [
       "1000"
      ]
     },
     "execution_count": 53,
     "metadata": {},
     "output_type": "execute_result"
    }
   ],
   "source": [
    "len(author_id)  #  убедимся, что комментов 1000"
   ]
  },
  {
   "cell_type": "markdown",
   "metadata": {},
   "source": [
    "# Часть 6"
   ]
  },
  {
   "cell_type": "markdown",
   "metadata": {},
   "source": [
    "Дозапишем в базу данных комменты, удобнее сделать это, предварительно создав DataFrame"
   ]
  },
  {
   "cell_type": "code",
   "execution_count": 54,
   "metadata": {},
   "outputs": [],
   "source": [
    "id_com = range(len(author_id))"
   ]
  },
  {
   "cell_type": "code",
   "execution_count": 55,
   "metadata": {},
   "outputs": [
    {
     "data": {
      "text/html": [
       "<div>\n",
       "<style scoped>\n",
       "    .dataframe tbody tr th:only-of-type {\n",
       "        vertical-align: middle;\n",
       "    }\n",
       "\n",
       "    .dataframe tbody tr th {\n",
       "        vertical-align: top;\n",
       "    }\n",
       "\n",
       "    .dataframe thead th {\n",
       "        text-align: right;\n",
       "    }\n",
       "</style>\n",
       "<table border=\"1\" class=\"dataframe\">\n",
       "  <thead>\n",
       "    <tr style=\"text-align: right;\">\n",
       "      <th></th>\n",
       "      <th>id_com</th>\n",
       "      <th>author_id</th>\n",
       "      <th>author_name</th>\n",
       "      <th>likeCount</th>\n",
       "      <th>text_of_comment</th>\n",
       "      <th>publ_data</th>\n",
       "      <th>upd_data</th>\n",
       "      <th>replyCount</th>\n",
       "    </tr>\n",
       "  </thead>\n",
       "  <tbody>\n",
       "    <tr>\n",
       "      <td>0</td>\n",
       "      <td>0</td>\n",
       "      <td>Ugxdd4kRPpuVXMWSEft4AaABAg</td>\n",
       "      <td>charliecoustic</td>\n",
       "      <td>0</td>\n",
       "      <td>I wanted to hear the song clearly&lt;br /&gt;His car...</td>\n",
       "      <td>2020-04-29</td>\n",
       "      <td>2020-04-29</td>\n",
       "      <td>0</td>\n",
       "    </tr>\n",
       "    <tr>\n",
       "      <td>1</td>\n",
       "      <td>1</td>\n",
       "      <td>UgzopJsUzkUmJD3bhg94AaABAg</td>\n",
       "      <td>MISTA BRAILAN</td>\n",
       "      <td>0</td>\n",
       "      <td>im from shazam</td>\n",
       "      <td>2020-04-29</td>\n",
       "      <td>2020-04-29</td>\n",
       "      <td>0</td>\n",
       "    </tr>\n",
       "  </tbody>\n",
       "</table>\n",
       "</div>"
      ],
      "text/plain": [
       "   id_com                   author_id     author_name  likeCount  \\\n",
       "0       0  Ugxdd4kRPpuVXMWSEft4AaABAg  charliecoustic          0   \n",
       "1       1  UgzopJsUzkUmJD3bhg94AaABAg   MISTA BRAILAN          0   \n",
       "\n",
       "                                     text_of_comment   publ_data    upd_data  \\\n",
       "0  I wanted to hear the song clearly<br />His car...  2020-04-29  2020-04-29   \n",
       "1                                     im from shazam  2020-04-29  2020-04-29   \n",
       "\n",
       "   replyCount  \n",
       "0           0  \n",
       "1           0  "
      ]
     },
     "execution_count": 55,
     "metadata": {},
     "output_type": "execute_result"
    }
   ],
   "source": [
    "df4 = pd.DataFrame({\n",
    "    'id_com' : id_com,\n",
    "    'author_id' : author_id,\n",
    "    'author_name' : author_name,\n",
    "    'likeCount' : likeCount,\n",
    "    'text_of_comment' : text_of_comment,\n",
    "    'publ_data' : publ_data,\n",
    "    'upd_data' : upd_data,\n",
    "    'replyCount' : replyCount\n",
    "                  })\n",
    "df4.head(2)"
   ]
  },
  {
   "cell_type": "code",
   "execution_count": 56,
   "metadata": {},
   "outputs": [],
   "source": [
    "df4.to_sql( 'comments' , db, if_exists='replace', index = False)\n",
    "cur.execute('''  \n",
    "SELECT * FROM comments\n",
    "          ''')\n",
    "db.commit()"
   ]
  },
  {
   "cell_type": "markdown",
   "metadata": {},
   "source": [
    "# Часть 7"
   ]
  },
  {
   "cell_type": "markdown",
   "metadata": {},
   "source": [
    "### Статистика по комментариям"
   ]
  },
  {
   "cell_type": "code",
   "execution_count": 57,
   "metadata": {},
   "outputs": [],
   "source": [
    "#! pip install langdetect"
   ]
  },
  {
   "cell_type": "code",
   "execution_count": 67,
   "metadata": {},
   "outputs": [],
   "source": [
    "com_text = []\n",
    "like = []\n",
    "for row in cur.execute('SELECT text_of_comment FROM comments'):\n",
    "    com_text.append(row)\n",
    "for row in cur.execute('SELECT likeCount FROM comments'):\n",
    "    like.append(int(str(row).replace(')', '').replace('(', '').replace('(', '').replace(\"'\", '').replace(\",\", ''))) \n",
    "  "
   ]
  },
  {
   "cell_type": "code",
   "execution_count": 68,
   "metadata": {},
   "outputs": [],
   "source": [
    "reply = []\n",
    "for row in cur.execute('SELECT replyCount FROM comments'):\n",
    "    reply.append(int(str(row).replace(')', '').replace('(', '').replace('(', '').replace(\"'\", '').replace(\",\", '')))"
   ]
  },
  {
   "cell_type": "code",
   "execution_count": 69,
   "metadata": {},
   "outputs": [],
   "source": [
    "from langdetect import detect"
   ]
  },
  {
   "cell_type": "code",
   "execution_count": 76,
   "metadata": {},
   "outputs": [],
   "source": [
    "languages = []\n",
    "l_likes = []\n",
    "smiles = []\n",
    "length = []\n",
    "s = 0\n",
    "\n",
    "for i in com_text:\n",
    "    try:\n",
    "        languages.append(detect(str(i)))\n",
    "        l_likes.append(like[s])\n",
    "        length.append(len(str(i)))\n",
    "        s+=1\n",
    "    except Exception:  #  избежать ошибки, когда в весь коммент из смайликов\n",
    "        smiles.append(str(i))\n",
    "        s+=1\n",
    "        "
   ]
  },
  {
   "cell_type": "code",
   "execution_count": 81,
   "metadata": {},
   "outputs": [
    {
     "data": {
      "text/html": [
       "<div>\n",
       "<style scoped>\n",
       "    .dataframe tbody tr th:only-of-type {\n",
       "        vertical-align: middle;\n",
       "    }\n",
       "\n",
       "    .dataframe tbody tr th {\n",
       "        vertical-align: top;\n",
       "    }\n",
       "\n",
       "    .dataframe thead th {\n",
       "        text-align: right;\n",
       "    }\n",
       "</style>\n",
       "<table border=\"1\" class=\"dataframe\">\n",
       "  <thead>\n",
       "    <tr style=\"text-align: right;\">\n",
       "      <th></th>\n",
       "      <th>lang</th>\n",
       "      <th>likeCount</th>\n",
       "      <th>leng</th>\n",
       "    </tr>\n",
       "  </thead>\n",
       "  <tbody>\n",
       "    <tr>\n",
       "      <td>0</td>\n",
       "      <td>en</td>\n",
       "      <td>0</td>\n",
       "      <td>68</td>\n",
       "    </tr>\n",
       "    <tr>\n",
       "      <td>1</td>\n",
       "      <td>en</td>\n",
       "      <td>0</td>\n",
       "      <td>19</td>\n",
       "    </tr>\n",
       "  </tbody>\n",
       "</table>\n",
       "</div>"
      ],
      "text/plain": [
       "  lang  likeCount  leng\n",
       "0   en          0    68\n",
       "1   en          0    19"
      ]
     },
     "execution_count": 81,
     "metadata": {},
     "output_type": "execute_result"
    }
   ],
   "source": [
    "df_1 = pd.DataFrame({\n",
    "    'lang' : languages,\n",
    "    'likeCount' : l_likes,\n",
    "    'leng' : length\n",
    "                  })\n",
    "df_1.head(2)"
   ]
  },
  {
   "cell_type": "markdown",
   "metadata": {},
   "source": [
    "### График 4"
   ]
  },
  {
   "cell_type": "markdown",
   "metadata": {},
   "source": [
    "### Посмотрим на встречаемость языков в комментариях"
   ]
  },
  {
   "cell_type": "code",
   "execution_count": 92,
   "metadata": {},
   "outputs": [
    {
     "data": {
      "image/png": "[encoded data removed]",
      "text/plain": [
       "<Figure size 432x288 with 1 Axes>"
      ]
     },
     "metadata": {
      "needs_background": "light"
     },
     "output_type": "display_data"
    }
   ],
   "source": [
    "df_1['lang'].value_counts().plot.bar(color='green'); # барплот сразу из датафрейма\n",
    "plt.title('Встречаемость языков в комментариях')\n",
    "plt.xlabel('язык')\n",
    "plt.ylabel('количество комментариев');"
   ]
  },
  {
   "cell_type": "markdown",
   "metadata": {},
   "source": [
    "### График 5"
   ]
  },
  {
   "cell_type": "markdown",
   "metadata": {},
   "source": [
    "Посмотрим на длину комментариев в разных языках"
   ]
  },
  {
   "cell_type": "code",
   "execution_count": 111,
   "metadata": {},
   "outputs": [
    {
     "data": {
      "image/png": "[encoded data removed]",
      "text/plain": [
       "<Figure size 792x504 with 1 Axes>"
      ]
     },
     "metadata": {
      "needs_background": "light"
     },
     "output_type": "display_data"
    }
   ],
   "source": [
    "plt.figure(figsize=(11, 7))\n",
    "sns.boxplot(x=\"lang\", y=\"leng\", data=df_1)\n",
    "plt.ylim((0, 200))\n",
    "plt.ylabel('длина комментария')\n",
    "plt.xlabel('язык');"
   ]
  }
 ],
 "metadata": {
  "kernelspec": {
   "display_name": "Python 3 (ipykernel)",
   "language": "python",
   "name": "python3"
  },
  "language_info": {
   "codemirror_mode": {
    "name": "ipython",
    "version": 3
   },
   "file_extension": ".py",
   "mimetype": "text/x-python",
   "name": "python",
   "nbconvert_exporter": "python",
   "pygments_lexer": "ipython3",
   "version": "3.7.1"
  }
 },
 "nbformat": 4,
 "nbformat_minor": 2
}

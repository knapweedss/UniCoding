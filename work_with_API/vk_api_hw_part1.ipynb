{
 "cells": [
  {
   "cell_type": "markdown",
   "metadata": {},
   "source": [
    "# Часть 1"
   ]
  },
  {
   "cell_type": "code",
   "execution_count": 1,
   "metadata": {},
   "outputs": [],
   "source": [
    "import requests"
   ]
  },
  {
   "cell_type": "code",
   "execution_count": 2,
   "metadata": {},
   "outputs": [],
   "source": [
    "TOKEN = 'c44329c41a60efb54924ff9114b1991b92387152faa97d4bdc8b62cc27fb07f612ec86b9182c759d97e3c'"
   ]
  },
  {
   "cell_type": "markdown",
   "metadata": {},
   "source": [
    "## Сначала достанем id пользователей, чьи профили открыты,  не удалены и не забанены"
   ]
  },
  {
   "cell_type": "markdown",
   "metadata": {},
   "source": [
    "Программа заносит в список id пользователей, с которыми мы будем работать в дальнейшем, поскольку их профили открыты, не забанены и не удалены, соответственно, скорее всего на их стене есть посты. Итерация осуществляется с пользователя с id 2104080 по id 2107000, лучше взять больше пользователей, потому что у многих сейчас закрыты профили"
   ]
  },
  {
   "cell_type": "code",
   "execution_count": 3,
   "metadata": {},
   "outputs": [
    {
     "name": "stderr",
     "output_type": "stream",
     "text": [
      "100%|██████████| 920/920 [17:30<00:00,  1.14s/it]\n"
     ]
    }
   ],
   "source": [
    "# использовала time, когда меня блочили, но это происходило не каждый раз, когда я запускала прогу ¯\\_(ツ)_/¯\n",
    "import time  \n",
    "from tqdm import tqdm \n",
    "\n",
    "user_ids = []  #  список с id пользователей\n",
    "sex = []  #  пол \n",
    "\n",
    "\n",
    "for i in tqdm(range(2104080, 2105000)):  #  для итерации по id пользователей\n",
    "    data = requests.get(\n",
    "        'https://api.vk.com/method/users.get', \n",
    "        params={\n",
    "            \"user_ids\": i,\n",
    "            'count': 50,\n",
    "            \"fields\" : 'sex',\n",
    "            \"v\":\"5.92\",\n",
    "            \"access_token\": TOKEN\n",
    "        \n",
    "        }\n",
    "        ).json()\n",
    "\n",
    "    time.sleep(1)  #  чтобы не было 6 ошибки\n",
    "    \n",
    "    try:\n",
    "        if data['response'][0]['first_name'] != 'DELETED' :  #  проверка, что страница существует\n",
    "            if data['response'][0]['is_closed'] != True:  #  проверка, что профиль открыт\n",
    "                \n",
    "                user_ids.append(data['response'][0]['id'])\n",
    "                sex.append(data['response'][0]['sex'])\n",
    "                  \n",
    "                \n",
    "        else:\n",
    "             pass\n",
    "            \n",
    "    except KeyError:  \n",
    "        pass\n",
    "    \n",
    "    \n"
   ]
  },
  {
   "cell_type": "code",
   "execution_count": 4,
   "metadata": {},
   "outputs": [
    {
     "data": {
      "text/plain": [
       "474"
      ]
     },
     "execution_count": 4,
     "metadata": {},
     "output_type": "execute_result"
    }
   ],
   "source": [
    "len(user_ids) # посмотрим, сколько у нас пользователей "
   ]
  },
  {
   "cell_type": "code",
   "execution_count": 6,
   "metadata": {},
   "outputs": [
    {
     "data": {
      "text/plain": [
       "474"
      ]
     },
     "execution_count": 6,
     "metadata": {},
     "output_type": "execute_result"
    }
   ],
   "source": [
    "len(sex)  # проверим, что пол указан у всех"
   ]
  },
  {
   "cell_type": "markdown",
   "metadata": {},
   "source": [
    "## Теперь обкачаем стену каждого из пользователя"
   ]
  },
  {
   "cell_type": "markdown",
   "metadata": {},
   "source": [
    "Программа осуществляет итерацию по списку с id пользователей из предыдущей программы, достает текст поста, время, количество лайков, количество репостов и заносит их в соответствующие списки. "
   ]
  },
  {
   "cell_type": "code",
   "execution_count": 11,
   "metadata": {},
   "outputs": [],
   "source": [
    "from datetime import datetime"
   ]
  },
  {
   "cell_type": "code",
   "execution_count": 13,
   "metadata": {},
   "outputs": [
    {
     "name": "stderr",
     "output_type": "stream",
     "text": [
      "100%|██████████| 474/474 [10:33<00:00,  1.34s/it]\n"
     ]
    }
   ],
   "source": [
    "q = 0  #  счетчик для итерации по индексам в списке user_ids\n",
    "\n",
    "posts = []  #  записи со стены\n",
    "times = []  #  время\n",
    "likes = []  #  количество лайков\n",
    "reposts = []  #  количество репостов\n",
    "owner = []  #  user_ids\n",
    "\n",
    "\n",
    "for user in tqdm(range(len(user_ids))): \n",
    "    \n",
    "    data = requests.get(\n",
    "        'https://api.vk.com/method/wall.get', \n",
    "        params={\n",
    "            \"owner_id\": user_ids[q], \n",
    "            \"count\": 30,\n",
    "            \"filter\": \"owner\",   #  взять только записи, оставленные владельцем страницы\n",
    "            \"extended\": 1,  \n",
    "            \"v\":\"5.92\",\n",
    "            \"access_token\": TOKEN\n",
    "        \n",
    "                }\n",
    "         ).json()\n",
    "    \n",
    "    time.sleep(1)  #  избежать слишком много запросов в секунду\n",
    "\n",
    "    try:\n",
    "        if data['response']['count'] != 0:  \n",
    "            s = 0  # счетчик для итерации по индексам\n",
    "            while s < 30:\n",
    "                try:\n",
    "                    if data['response']['items'][s]['text'] != '':  #  пустые тексты не нужны\n",
    "                        \n",
    "                        posts.append(data['response']['items'][s]['text'])  #  текст  поста\n",
    "                        \n",
    "                        unixtime = data['response']['items'][s]['date']  \n",
    "                        utc = str(datetime.fromtimestamp(unixtime))\n",
    "                        times.append(utc)  #  запишем время \n",
    "                        \n",
    "                        likes.append(data['response']['items'][s]['likes']['count'])  #  количество лайков\n",
    "                        \n",
    "                        reposts.append(data['response']['items'][s]['reposts']['count'])  #  количество репостов\n",
    "                        \n",
    "                        owner.append(data['response']['items'][s]['owner_id'])\n",
    "                        \n",
    "                \n",
    "                        s = s + 1\n",
    "                        \n",
    "                    else:\n",
    "                        s = s + 1\n",
    "                        \n",
    "                except IndexError:  #  избежать IndexError\n",
    "                    s = s + 1\n",
    "    except KeyError:  #  избежать KeyError\n",
    "            pass\n",
    "            \n",
    "    \n",
    "    \n",
    "    q = q + 1"
   ]
  },
  {
   "cell_type": "code",
   "execution_count": 151,
   "metadata": {},
   "outputs": [
    {
     "data": {
      "text/plain": [
       "3119"
      ]
     },
     "execution_count": 151,
     "metadata": {},
     "output_type": "execute_result"
    }
   ],
   "source": [
    "len(posts)  #  посмотрим, сколько текстов"
   ]
  },
  {
   "cell_type": "markdown",
   "metadata": {},
   "source": [
    "# Часть 2"
   ]
  },
  {
   "cell_type": "markdown",
   "metadata": {},
   "source": [
    "## Лемматизируем каждый пост"
   ]
  },
  {
   "cell_type": "code",
   "execution_count": 152,
   "metadata": {},
   "outputs": [],
   "source": [
    "from pymystem3 import Mystem"
   ]
  },
  {
   "cell_type": "code",
   "execution_count": 153,
   "metadata": {},
   "outputs": [],
   "source": [
    "m = Mystem()"
   ]
  },
  {
   "cell_type": "code",
   "execution_count": 154,
   "metadata": {},
   "outputs": [],
   "source": [
    "s = 0  #  счетчик\n",
    "lems = []  #  леммы\n",
    "\n",
    "while s < len(posts):\n",
    "    for post in posts:\n",
    "        lemmas = m.lemmatize(posts[s])\n",
    "        lems.append(''.join(lemmas))  #  соберем обратно \n",
    "        s = s + 1"
   ]
  },
  {
   "cell_type": "code",
   "execution_count": 155,
   "metadata": {},
   "outputs": [
    {
     "data": {
      "text/plain": [
       "'никогда не пропускать концерт ддт в москва. а в этот год пропускать из-за учеба!\\nпоехать вот в казань послушать «история звук», очень круто. обязательно сходить если еще не. правда, не сыграть «предчувствие гражданский война» и «правда на правда», который играть в москва. немного жаль что не послушать вживый этот песня, но все-равный это наверное хороший программа ддт за последний год\\n'"
      ]
     },
     "execution_count": 155,
     "metadata": {},
     "output_type": "execute_result"
    }
   ],
   "source": [
    "lems[0]  #  посмотрим, все ли ок"
   ]
  },
  {
   "cell_type": "markdown",
   "metadata": {},
   "source": [
    "## Очистим от стоп-слов "
   ]
  },
  {
   "cell_type": "code",
   "execution_count": 156,
   "metadata": {},
   "outputs": [],
   "source": [
    "from nltk.corpus import stopwords\n",
    "from nltk.tokenize import word_tokenize\n",
    "# загружаем нужный список стоп-слов\n",
    "sw = stopwords.words('russian')"
   ]
  },
  {
   "cell_type": "code",
   "execution_count": 157,
   "metadata": {},
   "outputs": [],
   "source": [
    "s = 0  #  счетчик\n",
    "filtered = []  #  текст без стоп-слов\n",
    "\n",
    "while s < len(lems):\n",
    "    for lemma in lems:\n",
    "        words = [w.lower() for w in word_tokenize(lems[s]) if w.isalpha()]\n",
    "        filt = [w for w in words if w not in sw]\n",
    "        filtered.append(filt)\n",
    "        s = s + 1"
   ]
  },
  {
   "cell_type": "code",
   "execution_count": 158,
   "metadata": {},
   "outputs": [
    {
     "data": {
      "text/plain": [
       "['пропускать', 'концерт', 'ддт', 'москва', 'год', 'пропускать', 'учеба']"
      ]
     },
     "execution_count": 158,
     "metadata": {},
     "output_type": "execute_result"
    }
   ],
   "source": [
    "filtered[0][0:7]  #  посмотрим, все ли ок"
   ]
  },
  {
   "cell_type": "markdown",
   "metadata": {},
   "source": [
    "## Изменим формат данных лемматизированного текста, чтобы не возникало ошибки при внесении в БД"
   ]
  },
  {
   "cell_type": "code",
   "execution_count": 159,
   "metadata": {},
   "outputs": [],
   "source": [
    "filtered_ok = []\n",
    "s = 0\n",
    "while s< len(filtered):\n",
    "    for i in range(len(filtered)):\n",
    "        filtered_ok.append(str(filtered[s]))  \n",
    "        s += 1"
   ]
  },
  {
   "cell_type": "code",
   "execution_count": 160,
   "metadata": {},
   "outputs": [
    {
     "data": {
      "text/plain": [
       "\"['пропускать', 'концерт', 'ддт', 'москва', 'год', 'пропускать', 'учеба', 'поехать', 'казань', 'послушать', 'история', 'звук', 'очень', 'круто', 'обязательно', 'сходить', 'правда', 'сыграть', 'предчувствие', 'гражданский', 'война', 'правда', 'правда', 'который', 'играть', 'москва', 'немного', 'жаль', 'послушать', 'вживый', 'песня', 'это', 'наверное', 'хороший', 'программа', 'ддт', 'последний', 'год']\""
      ]
     },
     "execution_count": 160,
     "metadata": {},
     "output_type": "execute_result"
    }
   ],
   "source": [
    "filtered_ok[0]  #  посмотрим, все ли ок"
   ]
  },
  {
   "cell_type": "markdown",
   "metadata": {},
   "source": [
    "## Создадим DataFrame  для таблицы с текстами"
   ]
  },
  {
   "cell_type": "markdown",
   "metadata": {},
   "source": [
    "Но сначала для удобства создадим списки с годом, месяцем и днем поста, поскольку эти параметры потом нужны будут для анализа данных по графикам"
   ]
  },
  {
   "cell_type": "code",
   "execution_count": 161,
   "metadata": {},
   "outputs": [],
   "source": [
    "q = 0  #  счетчик\n",
    "year = []\n",
    "month = []\n",
    "day = [] \n",
    "\n",
    "while q < len(times):\n",
    "    for i in range(len(times)):\n",
    "        year.append(str(times[q][:4]))  #  год\n",
    "        month.append(str(times[q][5:7]))  #  месяц\n",
    "        day.append(str(times[q][8:10]))  #  день\n",
    "        q = q + 1"
   ]
  },
  {
   "cell_type": "code",
   "execution_count": 162,
   "metadata": {},
   "outputs": [],
   "source": [
    "import pandas as pd"
   ]
  },
  {
   "cell_type": "code",
   "execution_count": 163,
   "metadata": {},
   "outputs": [
    {
     "data": {
      "text/html": [
       "<div>\n",
       "<style scoped>\n",
       "    .dataframe tbody tr th:only-of-type {\n",
       "        vertical-align: middle;\n",
       "    }\n",
       "\n",
       "    .dataframe tbody tr th {\n",
       "        vertical-align: top;\n",
       "    }\n",
       "\n",
       "    .dataframe thead th {\n",
       "        text-align: right;\n",
       "    }\n",
       "</style>\n",
       "<table border=\"1\" class=\"dataframe\">\n",
       "  <thead>\n",
       "    <tr style=\"text-align: right;\">\n",
       "      <th></th>\n",
       "      <th>id</th>\n",
       "      <th>texts</th>\n",
       "      <th>lemmas</th>\n",
       "      <th>time</th>\n",
       "      <th>year</th>\n",
       "      <th>month</th>\n",
       "      <th>day</th>\n",
       "      <th>liked</th>\n",
       "      <th>reposted</th>\n",
       "    </tr>\n",
       "  </thead>\n",
       "  <tbody>\n",
       "    <tr>\n",
       "      <td>0</td>\n",
       "      <td>2104080</td>\n",
       "      <td>Никогда не пропускаю концерты ДДТ в Москве. А ...</td>\n",
       "      <td>['пропускать', 'концерт', 'ддт', 'москва', 'го...</td>\n",
       "      <td>2017-12-14 03:17:09</td>\n",
       "      <td>2017</td>\n",
       "      <td>12</td>\n",
       "      <td>14</td>\n",
       "      <td>87</td>\n",
       "      <td>2</td>\n",
       "    </tr>\n",
       "    <tr>\n",
       "      <td>1</td>\n",
       "      <td>2104080</td>\n",
       "      <td>Выпустился из университета Глазго, специальнос...</td>\n",
       "      <td>['выпуститься', 'университет', 'глазго', 'спец...</td>\n",
       "      <td>2017-12-01 23:27:18</td>\n",
       "      <td>2017</td>\n",
       "      <td>12</td>\n",
       "      <td>01</td>\n",
       "      <td>192</td>\n",
       "      <td>1</td>\n",
       "    </tr>\n",
       "    <tr>\n",
       "      <td>2</td>\n",
       "      <td>2104080</td>\n",
       "      <td>Провели конгресс муниципальных кандидатов. Уже...</td>\n",
       "      <td>['проводить', 'конгресс', 'муниципальный', 'ка...</td>\n",
       "      <td>2017-04-30 05:12:44</td>\n",
       "      <td>2017</td>\n",
       "      <td>04</td>\n",
       "      <td>30</td>\n",
       "      <td>67</td>\n",
       "      <td>3</td>\n",
       "    </tr>\n",
       "    <tr>\n",
       "      <td>3</td>\n",
       "      <td>2104081</td>\n",
       "      <td>Толковый словарь новонахичеванского диалекта и...</td>\n",
       "      <td>['толковый', 'словарь', 'новонахичеванский', '...</td>\n",
       "      <td>2019-07-26 19:21:30</td>\n",
       "      <td>2019</td>\n",
       "      <td>07</td>\n",
       "      <td>26</td>\n",
       "      <td>3</td>\n",
       "      <td>0</td>\n",
       "    </tr>\n",
       "    <tr>\n",
       "      <td>4</td>\n",
       "      <td>2104081</td>\n",
       "      <td>http://vk.com/tanki_online</td>\n",
       "      <td>['http']</td>\n",
       "      <td>2014-06-24 23:09:58</td>\n",
       "      <td>2014</td>\n",
       "      <td>06</td>\n",
       "      <td>24</td>\n",
       "      <td>2</td>\n",
       "      <td>0</td>\n",
       "    </tr>\n",
       "    <tr>\n",
       "      <td>5</td>\n",
       "      <td>2104081</td>\n",
       "      <td>http://support.kaspersky.ru/viruses/deblocker</td>\n",
       "      <td>['http']</td>\n",
       "      <td>2011-01-23 16:50:25</td>\n",
       "      <td>2011</td>\n",
       "      <td>01</td>\n",
       "      <td>23</td>\n",
       "      <td>1</td>\n",
       "      <td>0</td>\n",
       "    </tr>\n",
       "    <tr>\n",
       "      <td>6</td>\n",
       "      <td>2104083</td>\n",
       "      <td>Да там была жесть!</td>\n",
       "      <td>['жесть']</td>\n",
       "      <td>2015-11-09 23:33:32</td>\n",
       "      <td>2015</td>\n",
       "      <td>11</td>\n",
       "      <td>09</td>\n",
       "      <td>0</td>\n",
       "      <td>0</td>\n",
       "    </tr>\n",
       "    <tr>\n",
       "      <td>7</td>\n",
       "      <td>2104091</td>\n",
       "      <td>В темноте, слепец - самый надёжный проводник. ...</td>\n",
       "      <td>['темнота', 'слепец', 'самый', 'надежный', 'пр...</td>\n",
       "      <td>2020-03-28 23:23:22</td>\n",
       "      <td>2020</td>\n",
       "      <td>03</td>\n",
       "      <td>28</td>\n",
       "      <td>23</td>\n",
       "      <td>3</td>\n",
       "    </tr>\n",
       "    <tr>\n",
       "      <td>8</td>\n",
       "      <td>2104091</td>\n",
       "      <td>Благодарю сердечно Вас друзья и родные за позд...</td>\n",
       "      <td>['благодарить', 'сердечно', 'друг', 'родные', ...</td>\n",
       "      <td>2019-10-06 20:51:05</td>\n",
       "      <td>2019</td>\n",
       "      <td>10</td>\n",
       "      <td>06</td>\n",
       "      <td>3</td>\n",
       "      <td>0</td>\n",
       "    </tr>\n",
       "    <tr>\n",
       "      <td>9</td>\n",
       "      <td>2104091</td>\n",
       "      <td>Respect ; )</td>\n",
       "      <td>['respect']</td>\n",
       "      <td>2019-04-25 15:00:52</td>\n",
       "      <td>2019</td>\n",
       "      <td>04</td>\n",
       "      <td>25</td>\n",
       "      <td>16</td>\n",
       "      <td>1</td>\n",
       "    </tr>\n",
       "  </tbody>\n",
       "</table>\n",
       "</div>"
      ],
      "text/plain": [
       "        id                                              texts  \\\n",
       "0  2104080  Никогда не пропускаю концерты ДДТ в Москве. А ...   \n",
       "1  2104080  Выпустился из университета Глазго, специальнос...   \n",
       "2  2104080  Провели конгресс муниципальных кандидатов. Уже...   \n",
       "3  2104081  Толковый словарь новонахичеванского диалекта и...   \n",
       "4  2104081                         http://vk.com/tanki_online   \n",
       "5  2104081      http://support.kaspersky.ru/viruses/deblocker   \n",
       "6  2104083                                 Да там была жесть!   \n",
       "7  2104091  В темноте, слепец - самый надёжный проводник. ...   \n",
       "8  2104091  Благодарю сердечно Вас друзья и родные за позд...   \n",
       "9  2104091                                        Respect ; )   \n",
       "\n",
       "                                              lemmas                 time  \\\n",
       "0  ['пропускать', 'концерт', 'ддт', 'москва', 'го...  2017-12-14 03:17:09   \n",
       "1  ['выпуститься', 'университет', 'глазго', 'спец...  2017-12-01 23:27:18   \n",
       "2  ['проводить', 'конгресс', 'муниципальный', 'ка...  2017-04-30 05:12:44   \n",
       "3  ['толковый', 'словарь', 'новонахичеванский', '...  2019-07-26 19:21:30   \n",
       "4                                           ['http']  2014-06-24 23:09:58   \n",
       "5                                           ['http']  2011-01-23 16:50:25   \n",
       "6                                          ['жесть']  2015-11-09 23:33:32   \n",
       "7  ['темнота', 'слепец', 'самый', 'надежный', 'пр...  2020-03-28 23:23:22   \n",
       "8  ['благодарить', 'сердечно', 'друг', 'родные', ...  2019-10-06 20:51:05   \n",
       "9                                        ['respect']  2019-04-25 15:00:52   \n",
       "\n",
       "   year month day  liked  reposted  \n",
       "0  2017    12  14     87         2  \n",
       "1  2017    12  01    192         1  \n",
       "2  2017    04  30     67         3  \n",
       "3  2019    07  26      3         0  \n",
       "4  2014    06  24      2         0  \n",
       "5  2011    01  23      1         0  \n",
       "6  2015    11  09      0         0  \n",
       "7  2020    03  28     23         3  \n",
       "8  2019    10  06      3         0  \n",
       "9  2019    04  25     16         1  "
      ]
     },
     "execution_count": 163,
     "metadata": {},
     "output_type": "execute_result"
    }
   ],
   "source": [
    "df1 = pd.DataFrame({\n",
    "    'id' : owner,\n",
    "    'texts': posts,\n",
    "    'lemmas' : filtered_ok,\n",
    "    'time': times,\n",
    "    'year': year,\n",
    "    'month' : month,\n",
    "    'day': day,\n",
    "    'liked' : likes,\n",
    "    'reposted' : reposts,\n",
    "                  })\n",
    "df1.head(10)"
   ]
  },
  {
   "cell_type": "markdown",
   "metadata": {},
   "source": [
    "## Создадим DataFrame  для таблицы с пользователями"
   ]
  },
  {
   "cell_type": "markdown",
   "metadata": {},
   "source": [
    "Сначала сделаем более удобную запись пола - 'м' и 'ж', вместо 2 и 1"
   ]
  },
  {
   "cell_type": "code",
   "execution_count": 164,
   "metadata": {},
   "outputs": [
    {
     "data": {
      "text/plain": [
       "474"
      ]
     },
     "execution_count": 164,
     "metadata": {},
     "output_type": "execute_result"
    }
   ],
   "source": [
    "q = 0\n",
    "gender = []\n",
    "while q < len(sex):\n",
    "    for i in sex:\n",
    "        if sex[q] == 2:\n",
    "            gender.append('м')\n",
    "            q +=1\n",
    "        else:\n",
    "            gender.append('ж')\n",
    "            q+=1\n",
    "len(gender)"
   ]
  },
  {
   "cell_type": "code",
   "execution_count": 165,
   "metadata": {},
   "outputs": [
    {
     "data": {
      "text/html": [
       "<div>\n",
       "<style scoped>\n",
       "    .dataframe tbody tr th:only-of-type {\n",
       "        vertical-align: middle;\n",
       "    }\n",
       "\n",
       "    .dataframe tbody tr th {\n",
       "        vertical-align: top;\n",
       "    }\n",
       "\n",
       "    .dataframe thead th {\n",
       "        text-align: right;\n",
       "    }\n",
       "</style>\n",
       "<table border=\"1\" class=\"dataframe\">\n",
       "  <thead>\n",
       "    <tr style=\"text-align: right;\">\n",
       "      <th></th>\n",
       "      <th>users</th>\n",
       "      <th>gender</th>\n",
       "    </tr>\n",
       "  </thead>\n",
       "  <tbody>\n",
       "    <tr>\n",
       "      <td>0</td>\n",
       "      <td>2104080</td>\n",
       "      <td>м</td>\n",
       "    </tr>\n",
       "    <tr>\n",
       "      <td>1</td>\n",
       "      <td>2104081</td>\n",
       "      <td>м</td>\n",
       "    </tr>\n",
       "  </tbody>\n",
       "</table>\n",
       "</div>"
      ],
      "text/plain": [
       "     users gender\n",
       "0  2104080      м\n",
       "1  2104081      м"
      ]
     },
     "execution_count": 165,
     "metadata": {},
     "output_type": "execute_result"
    }
   ],
   "source": [
    "df = pd.DataFrame({\n",
    "    'users': user_ids,\n",
    "    'gender' : gender,\n",
    "\n",
    "                  })\n",
    "df.head(2)"
   ]
  },
  {
   "cell_type": "markdown",
   "metadata": {},
   "source": [
    "## Занесем в базу данных "
   ]
  },
  {
   "cell_type": "markdown",
   "metadata": {},
   "source": [
    "База данных содержит 2 таблицы - text и users. Таблицы связаны по айди пользователей "
   ]
  },
  {
   "cell_type": "code",
   "execution_count": 166,
   "metadata": {
    "scrolled": true
   },
   "outputs": [],
   "source": [
    "import sqlite3\n",
    "conn = sqlite3.connect('HomeworkApi.db')  \n",
    "\n",
    "df1.to_sql( 'texts' , conn, if_exists='replace')\n",
    "c = conn.cursor()\n",
    "c.execute('''  SELECT * FROM texts\n",
    "         ''')\n",
    "\n",
    "df.to_sql( 'users' , conn, if_exists='replace')\n",
    "c = conn.cursor()\n",
    "c.execute('''  SELECT * FROM users\n",
    "         ''')\n",
    "\n",
    "conn.commit()"
   ]
  },
  {
   "cell_type": "markdown",
   "metadata": {},
   "source": [
    "# Часть 3\n",
    "\n",
    "Я построила немного больше графиков, чем нужно, потому что графики 4 и 5 были простыми, но я их оставила, потому что визуализация очень красивая. Всего 7 графиков, последний из них с запросом к БД"
   ]
  },
  {
   "cell_type": "markdown",
   "metadata": {},
   "source": [
    "## Построим графики"
   ]
  },
  {
   "cell_type": "code",
   "execution_count": 167,
   "metadata": {},
   "outputs": [],
   "source": [
    "import numpy as np\n",
    "import seaborn as sns\n",
    "import matplotlib.pyplot as plt"
   ]
  },
  {
   "cell_type": "markdown",
   "metadata": {},
   "source": [
    "### График 1"
   ]
  },
  {
   "cell_type": "markdown",
   "metadata": {},
   "source": [
    "Посмотрим, как зависит количество лайков от репостов. Ожидается, что чем больше репостов, тем больше лайков"
   ]
  },
  {
   "cell_type": "code",
   "execution_count": 168,
   "metadata": {},
   "outputs": [
    {
     "data": {
      "image/png": "[encoded data removed]",
      "text/plain": [
       "<Figure size 432x288 with 1 Axes>"
      ]
     },
     "metadata": {
      "needs_background": "light"
     },
     "output_type": "display_data"
    }
   ],
   "source": [
    "sns.barplot(x=\"reposted\", y=\"liked\", data=df1);"
   ]
  },
  {
   "cell_type": "markdown",
   "metadata": {},
   "source": [
    "Гипотеза не совсем подтвердилась, ожидалось, что наибольшее количество лайков будет у постов с 15 репостами, но обычно лайков больше у постов с 10 репостами. Однако, если посмотреть в среднем, то посты с < 5 репостами собирают обычно меньше лайков, чем те, где репостов >=5 (кроме 6, но это, скорее, просто в выборке так вышло)"
   ]
  },
  {
   "cell_type": "markdown",
   "metadata": {},
   "source": [
    "### График 2"
   ]
  },
  {
   "cell_type": "markdown",
   "metadata": {},
   "source": [
    "Узнаем, как зависит количество репостов от года в нашей выборке, интересно посмотреть, на какой год приходится наибольшее количество репостов "
   ]
  },
  {
   "cell_type": "code",
   "execution_count": 169,
   "metadata": {},
   "outputs": [
    {
     "data": {
      "image/png": "[encoded data removed]",
      "text/plain": [
       "<Figure size 360x360 with 1 Axes>"
      ]
     },
     "metadata": {
      "needs_background": "light"
     },
     "output_type": "display_data"
    }
   ],
   "source": [
    "sns.catplot(x=\"reposted\", y=\"year\", data=df1);"
   ]
  },
  {
   "cell_type": "markdown",
   "metadata": {},
   "source": [
    "Как видно из графика, наибольшее количество репостов (15) было в 2017 году. "
   ]
  },
  {
   "cell_type": "markdown",
   "metadata": {},
   "source": [
    "### График 3"
   ]
  },
  {
   "cell_type": "markdown",
   "metadata": {},
   "source": [
    "Посмотрим на то, как зависит количество лайков от месяца публикации поста, сгруппируем по месяцу"
   ]
  },
  {
   "cell_type": "code",
   "execution_count": 170,
   "metadata": {},
   "outputs": [
    {
     "data": {
      "image/png": "[encoded data removed]",
      "text/plain": [
       "<Figure size 360x360 with 1 Axes>"
      ]
     },
     "metadata": {
      "needs_background": "light"
     },
     "output_type": "display_data"
    }
   ],
   "source": [
    "sns.catplot(x=\"month\", y=\"liked\", kind=\"boxen\",\n",
    "            data=df1.sort_values(\"month\"));"
   ]
  },
  {
   "cell_type": "markdown",
   "metadata": {},
   "source": [
    "Можно заметить, что выбросы есть почти в каждом месяце года, особенно заметные в апреле и декабре"
   ]
  },
  {
   "cell_type": "markdown",
   "metadata": {},
   "source": [
    "### Графики 4 и 5"
   ]
  },
  {
   "cell_type": "markdown",
   "metadata": {},
   "source": [
    "Посмотрим график по дням и месяцам (еще эти графики очень красивые)"
   ]
  },
  {
   "cell_type": "code",
   "execution_count": 171,
   "metadata": {},
   "outputs": [
    {
     "data": {
      "image/png": "[encoded data removed]",
      "text/plain": [
       "<Figure size 432x432 with 1 Axes>"
      ]
     },
     "metadata": {
      "needs_background": "light"
     },
     "output_type": "display_data"
    }
   ],
   "source": [
    "f, ax = plt.subplots(figsize=(6, 6))\n",
    "cmap = sns.cubehelix_palette(as_cmap=True, dark=0, light=1, reverse=True)\n",
    "sns.kdeplot(df1['day'], df1['month'], cmap=cmap, n_levels=60, shade=True);"
   ]
  },
  {
   "cell_type": "markdown",
   "metadata": {},
   "source": [
    "Больше всего пересечений приходится примерно на 15 день 4 месяца"
   ]
  },
  {
   "cell_type": "markdown",
   "metadata": {},
   "source": [
    "То же, но с другим дизайном:"
   ]
  },
  {
   "cell_type": "code",
   "execution_count": 172,
   "metadata": {},
   "outputs": [
    {
     "data": {
      "image/png": "[encoded data removed]",
      "text/plain": [
       "<Figure size 432x432 with 3 Axes>"
      ]
     },
     "metadata": {
      "needs_background": "light"
     },
     "output_type": "display_data"
    }
   ],
   "source": [
    "sns.jointplot(x=\"day\", y=\"month\", data=df1, kind=\"kde\");"
   ]
  },
  {
   "cell_type": "markdown",
   "metadata": {},
   "source": [
    "### График 6"
   ]
  },
  {
   "cell_type": "markdown",
   "metadata": {},
   "source": [
    "Построим вордклауд"
   ]
  },
  {
   "cell_type": "code",
   "execution_count": 173,
   "metadata": {},
   "outputs": [
    {
     "data": {
      "image/png": "[encoded data removed]",
      "text/plain": [
       "<Figure size 432x288 with 1 Axes>"
      ]
     },
     "metadata": {
      "needs_background": "light"
     },
     "output_type": "display_data"
    }
   ],
   "source": [
    "from wordcloud import WordCloud\n",
    "\n",
    "w = []  #  словарь для лемм\n",
    "q = 0\n",
    "text = df1['lemmas']\n",
    "\n",
    "while q < len(text):\n",
    "    for i in text:\n",
    "        w.append(text[q])\n",
    "        q += 1\n",
    "        \n",
    "a = str(w)\n",
    "wordcloud = WordCloud().generate(a)\n",
    "# отобразим вордклауд\n",
    "plt.imshow(wordcloud, interpolation='bilinear')\n",
    "plt.axis(\"off\")\n",
    "plt.show()"
   ]
  },
  {
   "cell_type": "markdown",
   "metadata": {},
   "source": [
    "### График 7"
   ]
  },
  {
   "cell_type": "markdown",
   "metadata": {},
   "source": [
    "Построим зависимость количества лайков, сгруппировав по id"
   ]
  },
  {
   "cell_type": "code",
   "execution_count": 174,
   "metadata": {},
   "outputs": [],
   "source": [
    "import sqlite3\n",
    "lik = []\n",
    "conn = sqlite3.connect('HomeworkApi.db')\n",
    "for row in c.execute('SELECT liked FROM texts GROUP BY id'):\n",
    "    lik.append(row)"
   ]
  },
  {
   "cell_type": "code",
   "execution_count": 175,
   "metadata": {},
   "outputs": [
    {
     "data": {
      "text/plain": [
       "314"
      ]
     },
     "execution_count": 175,
     "metadata": {},
     "output_type": "execute_result"
    }
   ],
   "source": [
    "len(lik)"
   ]
  },
  {
   "cell_type": "code",
   "execution_count": 176,
   "metadata": {},
   "outputs": [
    {
     "data": {
      "text/plain": [
       "314"
      ]
     },
     "execution_count": 176,
     "metadata": {},
     "output_type": "execute_result"
    }
   ],
   "source": [
    "#  проверка id\n",
    "q = 0\n",
    "a = []\n",
    "while q < len(user_ids):\n",
    "    for i in sex:\n",
    "        if user_ids[q] in owner:\n",
    "            a.append(sex[q])\n",
    "            q +=1\n",
    "        else:\n",
    "            \n",
    "            q+=1\n",
    "len(a)   "
   ]
  },
  {
   "cell_type": "code",
   "execution_count": 177,
   "metadata": {},
   "outputs": [
    {
     "data": {
      "text/html": [
       "<div>\n",
       "<style scoped>\n",
       "    .dataframe tbody tr th:only-of-type {\n",
       "        vertical-align: middle;\n",
       "    }\n",
       "\n",
       "    .dataframe tbody tr th {\n",
       "        vertical-align: top;\n",
       "    }\n",
       "\n",
       "    .dataframe thead th {\n",
       "        text-align: right;\n",
       "    }\n",
       "</style>\n",
       "<table border=\"1\" class=\"dataframe\">\n",
       "  <thead>\n",
       "    <tr style=\"text-align: right;\">\n",
       "      <th></th>\n",
       "      <th>лайки</th>\n",
       "      <th>пол</th>\n",
       "    </tr>\n",
       "  </thead>\n",
       "  <tbody>\n",
       "    <tr>\n",
       "      <td>0</td>\n",
       "      <td>(87,)</td>\n",
       "      <td>2</td>\n",
       "    </tr>\n",
       "    <tr>\n",
       "      <td>1</td>\n",
       "      <td>(3,)</td>\n",
       "      <td>2</td>\n",
       "    </tr>\n",
       "  </tbody>\n",
       "</table>\n",
       "</div>"
      ],
      "text/plain": [
       "   лайки  пол\n",
       "0  (87,)    2\n",
       "1   (3,)    2"
      ]
     },
     "execution_count": 177,
     "metadata": {},
     "output_type": "execute_result"
    }
   ],
   "source": [
    "df4 = pd.DataFrame({\n",
    "    'лайки': lik,\n",
    "    'пол' : a,\n",
    "\n",
    "                  })\n",
    "df4.head(2)"
   ]
  },
  {
   "cell_type": "code",
   "execution_count": 1,
   "metadata": {},
   "outputs": [
    {
     "ename": "NameError",
     "evalue": "name 'sns' is not defined",
     "output_type": "error",
     "traceback": [
      "\u001b[0;31m---------------------------------------------------------------------------\u001b[0m",
      "\u001b[0;31mNameError\u001b[0m                                 Traceback (most recent call last)",
      "\u001b[0;32m/var/folders/59/t8z5t_s524gf4yn3281hsnfr0000gn/T/ipykernel_97189/1990428173.py\u001b[0m in \u001b[0;36m<module>\u001b[0;34m\u001b[0m\n\u001b[0;32m----> 1\u001b[0;31m sns.catplot(x=\"gender\", y=\"likes\", size=7,\n\u001b[0m\u001b[1;32m      2\u001b[0m             data=df4.sort_values(\"gender\"));\n",
      "\u001b[0;31mNameError\u001b[0m: name 'sns' is not defined"
     ]
    }
   ],
   "source": [
    "sns.catplot(x=\"gender\", y=\"likes\", size=7,\n",
    "            data=df4.sort_values(\"gender\"));"
   ]
  },
  {
   "cell_type": "code",
   "execution_count": null,
   "metadata": {},
   "outputs": [],
   "source": []
  }
 ],
 "metadata": {
  "kernelspec": {
   "display_name": "Python 3 (ipykernel)",
   "language": "python",
   "name": "python3"
  },
  "language_info": {
   "codemirror_mode": {
    "name": "ipython",
    "version": 3
   },
   "file_extension": ".py",
   "mimetype": "text/x-python",
   "name": "python",
   "nbconvert_exporter": "python",
   "pygments_lexer": "ipython3",
   "version": "3.7.1"
  }
 },
 "nbformat": 4,
 "nbformat_minor": 2
}

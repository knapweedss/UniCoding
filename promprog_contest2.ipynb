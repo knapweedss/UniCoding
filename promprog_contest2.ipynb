{
 "cells": [
  {
   "cell_type": "markdown",
   "id": "f0392316",
   "metadata": {},
   "source": [
    "# Класс Matix"
   ]
  },
  {
   "cell_type": "markdown",
   "id": "243cfa79",
   "metadata": {},
   "source": [
    "Реализуйте класс Matrix. Он должен содержать:\n",
    "Конструктор от списка списков. Гарантируется, что списки состоят из чисел, не пусты и все имеют одинаковый размер. Конструктор должен копировать содержимое списка списков, т.е. при изменении списков, от которых была сконструирована матрица, содержимое матрицы изменяться не должно.\n",
    "Метод __str__ переводящий матрицу в строку. При этом элементы внутри одной строки должны быть разделены знаками табуляции, а строки — переносами строк. При этом после каждой строки не должно быть символа табуляции и в конце не должно быть переноса строки.\n",
    "Метод size без аргументов, возвращающий кортеж вида (число строк, число столбцов)"
   ]
  },
  {
   "cell_type": "code",
   "execution_count": 1,
   "id": "9f1bfb1e",
   "metadata": {},
   "outputs": [],
   "source": [
    "from sys import stdin\n",
    "from copy import deepcopy\n",
    " \n",
    " \n",
    "class Matrix:\n",
    "    def __init__(self, matrix):\n",
    "        self.matrix = deepcopy(matrix)\n",
    " \n",
    "    def __str__(self): \n",
    "        string = ''\n",
    "        for i in self.matrix:\n",
    "            a = '\\t'.join(map(str, i))\n",
    "            string += ''.join(a) + '\\n'\n",
    "        return string[:-1]\n",
    "\n",
    "    def size(self):  \n",
    "        return (len(self.matrix), len(self.matrix[0]))\n",
    "exec(stdin.read())"
   ]
  },
  {
   "cell_type": "code",
   "execution_count": 2,
   "id": "a23110c4",
   "metadata": {},
   "outputs": [
    {
     "name": "stdout",
     "output_type": "stream",
     "text": [
      "True\n"
     ]
    }
   ],
   "source": [
    "m1 = Matrix([[1, 0, 0], [1, 1, 1], [0, 0, 0]])\n",
    "m2 = Matrix([[1, 0, 0], [1, 1, 1], [0, 0, 0]])\n",
    "print(str(m1) == str(m2))"
   ]
  },
  {
   "cell_type": "code",
   "execution_count": 3,
   "id": "5e199d58",
   "metadata": {},
   "outputs": [
    {
     "name": "stdout",
     "output_type": "stream",
     "text": [
      "2\t10\t0\n",
      "0\t1\t10000\n"
     ]
    }
   ],
   "source": [
    "m = Matrix([[2,10, 0], [0, 1, 10000]])\n",
    "print(m)"
   ]
  },
  {
   "cell_type": "code",
   "execution_count": 4,
   "id": "4921dfdc",
   "metadata": {},
   "outputs": [
    {
     "name": "stdout",
     "output_type": "stream",
     "text": [
      "-10\t20\t50\t2443\n",
      "-5235\t12\t4324\t4234\n"
     ]
    }
   ],
   "source": [
    "m = Matrix([[-10, 20, 50, 2443], [-5235, 12, 4324, 4234]])\n",
    "print(m)"
   ]
  },
  {
   "cell_type": "code",
   "execution_count": 5,
   "id": "c36eefda",
   "metadata": {},
   "outputs": [
    {
     "name": "stdout",
     "output_type": "stream",
     "text": [
      "1\t1\t1\n",
      "0\t100\t10\n"
     ]
    }
   ],
   "source": [
    "# Task 1 check 3\n",
    "m = Matrix([[1, 1, 1], [0, 100, 10]])\n",
    "print(str(m)) "
   ]
  },
  {
   "cell_type": "markdown",
   "id": "42f72e30",
   "metadata": {},
   "source": [
    "# Добавить, умножить"
   ]
  },
  {
   "cell_type": "markdown",
   "id": "58b89127",
   "metadata": {},
   "source": [
    "Добавьте в предыдущий класс следующие методы:\n",
    "- __add__ принимающий вторую матрицу того же размера и возвращающий сумму матриц\n",
    "- __mul__ принимающий число типа int или float и возвращающий матрицу, умноженную на скаляр\n",
    "- __rmul__ делающий то же самое, что и __mul__. Этот метод будет вызван в том случае, аргумент находится справа. Можно написать __rmul__ = __mul__\n",
    "- Например:\n",
    "В этом случае вызовется __mul__: Matrix([[0, 1], [1, 0]) * 10\n",
    "В этом случае вызовется __rmul__ (так как у int не определен __mul__ для матрицы справа): 10 * Matrix([[0, 1], [1, 0])\n",
    "Разумеется, данные методы не должны менять содержимое матрицы.\n"
   ]
  },
  {
   "cell_type": "code",
   "execution_count": 6,
   "id": "cb19b9bd",
   "metadata": {},
   "outputs": [],
   "source": [
    "from sys import stdin\n",
    "from copy import deepcopy\n",
    " \n",
    " \n",
    "class Matrix:\n",
    "    def __init__(self, matrix):\n",
    "        self.matrix = deepcopy(matrix)\n",
    " \n",
    "    def __str__(self): \n",
    "        string = ''\n",
    "        for i in self.matrix:\n",
    "            a = '\\t'.join(map(str, i))\n",
    "            string += ''.join(a) + '\\n'\n",
    "        return string[:-1]\n",
    "\n",
    "    def size(self):  \n",
    "        return (len(self.matrix), len(self.matrix[0]))\n",
    "    \n",
    "    def __add__(self, other):           \n",
    "        result = [[self.matrix[i][j] + other.matrix[i][j]  for j in range\n",
    "                            (len(self.matrix[0]))] for i in range(len(self.matrix))] \n",
    "        return Matrix(result)\n",
    "    \n",
    "    def __mul__(self, other):\n",
    "        if isinstance(other, int) or isinstance(other, float):\n",
    "            result = []\n",
    "            for i  in self.matrix:\n",
    "                result.append([other * j for j in i])\n",
    "        return Matrix(result)\n",
    "    \n",
    "    __rmul__ = __mul__\n",
    "    \n",
    "exec(stdin.read())"
   ]
  },
  {
   "cell_type": "code",
   "execution_count": 7,
   "id": "58443745",
   "metadata": {},
   "outputs": [
    {
     "name": "stdout",
     "output_type": "stream",
     "text": [
      "(3, 2)\n"
     ]
    }
   ],
   "source": [
    "m = Matrix([[10, 10], [0, 0], [1, 1]])\n",
    "print(m.size())"
   ]
  },
  {
   "cell_type": "code",
   "execution_count": 8,
   "id": "57a9823b",
   "metadata": {},
   "outputs": [
    {
     "name": "stdout",
     "output_type": "stream",
     "text": [
      "1\t1\t0\n",
      "20\t1\t-1\n",
      "-1\t-2\t1\n"
     ]
    }
   ],
   "source": [
    "m1 = Matrix([[1, 0, 0], [0, 1, 0], [0, 0, 1]])\n",
    "m2 = Matrix([[0, 1, 0], [20, 0, -1], [-1, -2, 0]])\n",
    "print(str(m1 + m2))"
   ]
  },
  {
   "cell_type": "code",
   "execution_count": 9,
   "id": "5d87d987",
   "metadata": {},
   "outputs": [
    {
     "name": "stdout",
     "output_type": "stream",
     "text": [
      "15\t15\t0\n",
      "0\t30\t150\n",
      "150\t225\t450\n",
      "15\t15\t0\n",
      "0\t30\t150\n",
      "150\t225\t450\n"
     ]
    }
   ],
   "source": [
    "# Task 2 check 3\n",
    "m = Matrix([[1, 1, 0], [0, 2, 10], [10, 15, 30]])\n",
    "alpha = 15\n",
    "print(m * alpha)\n",
    "print(alpha * m)"
   ]
  },
  {
   "cell_type": "markdown",
   "id": "6ca88e19",
   "metadata": {},
   "source": [
    "# Ошибки, транспонирование"
   ]
  },
  {
   "cell_type": "markdown",
   "id": "2403994e",
   "metadata": {},
   "source": [
    "Добавьте в программу из задачи B класс MatrixError, содержащий внутри self поля matrix1 и matrix2 (ссылки на матрицы).\n",
    "В класс Matrix внесите следующие изменения:\n",
    "- Добавьте в метод __add__ проверку на ошибки в размере входных данных чтобы при попытке сложить матрицы разных размеров было выброшено исключение MatrixError таким образом, чтобы matrix1 поле MatrixError стало первым аргументом __add__ (просто self), а matrix2 — вторым (второй операнд для сложения).\n",
    "- Реализуйте метод transpose, транспонирующий матрицу и возвращающую результат (данный метод модифицирует экземпляр класса Matrix)"
   ]
  },
  {
   "cell_type": "code",
   "execution_count": 35,
   "id": "0bbc6103",
   "metadata": {},
   "outputs": [],
   "source": [
    "from sys import stdin\n",
    "from copy import deepcopy\n",
    "\n",
    "class MatrixError(BaseException):\n",
    "    def __init__(self, Matrix, other):\n",
    "        self.matrix1 = Matrix\n",
    "        self.matrix2 = other\n",
    " \n",
    "class Matrix:\n",
    "    def __init__(self, matrix):\n",
    "        self.matrix = deepcopy(matrix)\n",
    " \n",
    "    def __str__(self): \n",
    "        string = ''\n",
    "        for i in self.matrix:\n",
    "            a = '\\t'.join(map(str, i))\n",
    "            string += ''.join(a) + '\\n'\n",
    "        return string[:-1]\n",
    "\n",
    "    def size(self):  \n",
    "        return (len(self.matrix), len(self.matrix[0]))\n",
    "    \n",
    "    def __add__(self, other):\n",
    "        if len(self.matrix) == len(other.matrix):\n",
    "            for i in self.matrix:\n",
    "                if len(i) != len(self.matrix[0]):\n",
    "                    raise MatrixError(self, other)\n",
    "                    \n",
    "            for j in other.matrix:\n",
    "                if len(i) != len(self.matrix[0]):\n",
    "                    raise MatrixError(self, other)\n",
    "                    \n",
    "            result = [[self.matrix[i][j] + other.matrix[i][j]  for j in range\n",
    "                            (len(self.matrix[0]))] for i in range(len(self.matrix))] \n",
    "            return Matrix(result)\n",
    "        \n",
    "        else:\n",
    "            raise MatrixError(self, other)\n",
    "    \n",
    "    def __mul__(self, other):\n",
    "        if isinstance(other, int) or isinstance(other, float):\n",
    "            result = []\n",
    "            for i  in self.matrix:\n",
    "                result.append([other * j for j in i])\n",
    "        return Matrix(result)\n",
    "    \n",
    "    def transpose(self):\n",
    "        transposed_Matrix = list(zip(*self.matrix))\n",
    "        self.matrix = transposed_Matrix\n",
    "        return Matrix(transposed_Matrix)\n",
    " \n",
    "    def transposed(self):\n",
    "        transposed_Matrix = list(zip(*self.matrix))\n",
    "        return Matrix(transposed_Matrix)\n",
    "    \n",
    "    __rmul__ = __mul__\n",
    "    \n",
    "exec(stdin.read())"
   ]
  },
  {
   "cell_type": "code",
   "execution_count": 36,
   "id": "deaf288f",
   "metadata": {},
   "outputs": [
    {
     "name": "stdout",
     "output_type": "stream",
     "text": [
      "10\t10\n",
      "0\t0\n",
      "1\t1\n",
      "10\t0\t1\n",
      "10\t0\t1\n",
      "10\t10\n",
      "0\t0\n",
      "1\t1\n"
     ]
    }
   ],
   "source": [
    "# Task 3 check 3\n",
    "m = Matrix([[10, 10], [0, 0], [1, 1]])\n",
    "print(m)\n",
    "print(Matrix.transposed(m))\n",
    "print(m)"
   ]
  },
  {
   "cell_type": "code",
   "execution_count": 37,
   "id": "3bd37957",
   "metadata": {},
   "outputs": [
    {
     "name": "stdout",
     "output_type": "stream",
     "text": [
      "10\t10\n",
      "0\t0\n",
      "1\t1\n",
      "10\t0\t1\n",
      "10\t0\t1\n",
      "10\t0\t1\n",
      "10\t0\t1\n"
     ]
    }
   ],
   "source": [
    "# Task 3 check 2\n",
    "m = Matrix([[10, 10], [0, 0], [1, 1]])\n",
    "print(m)\n",
    "m1 = m.transpose()\n",
    "print(m)\n",
    "print(m1)"
   ]
  },
  {
   "cell_type": "code",
   "execution_count": 38,
   "id": "87d9a9f9",
   "metadata": {},
   "outputs": [
    {
     "name": "stdout",
     "output_type": "stream",
     "text": [
      "1\t1\t0\n",
      "20\t1\t-1\n",
      "-1\t-2\t1\n",
      "1\t0\t0\n",
      "0\t1\t0\n",
      "0\t0\t1\n",
      "0\t1\t0\n",
      "20\t0\t-1\n"
     ]
    }
   ],
   "source": [
    "# Task 3 check 1\n",
    "# Check exception to add method\n",
    "m1 = Matrix([[1, 0, 0], [0, 1, 0], [0, 0, 1]])\n",
    "m2 = Matrix([[0, 1, 0], [20, 0, -1], [-1, -2, 0]])\n",
    "print(m1 + m2)\n",
    "\n",
    "m2 = Matrix([[0, 1, 0], [20, 0, -1]])\n",
    "try:\n",
    "    m = m1 + m2\n",
    "    print('WA\\n' + str(m))\n",
    "except MatrixError as e:\n",
    "    print(e.matrix1)\n",
    "    print(e.matrix2)"
   ]
  },
  {
   "cell_type": "markdown",
   "id": "5fba32ee",
   "metadata": {},
   "source": [
    "# Умножение"
   ]
  },
  {
   "cell_type": "markdown",
   "id": "4a2a2f12",
   "metadata": {},
   "source": [
    "Внесите следующие изменения в предыдущую программу:\n",
    "Измените метод __mul__ таким образом, чтобы матрицы можно было умножать как на скаляры, так и на другие матрицы. В случае, если две матрицы перемножить невозможно, то тогда выбросьте ошибку MatrixError. Первая матрице в ошибке – это self, вторая – это второй операнд умножения."
   ]
  },
  {
   "cell_type": "code",
   "execution_count": 83,
   "id": "0c95b402",
   "metadata": {},
   "outputs": [],
   "source": [
    "from sys import stdin\n",
    "from copy import deepcopy\n",
    "\n",
    "class MatrixError(BaseException):\n",
    "    def __init__(self, Matrix, other):\n",
    "        self.matrix1 = Matrix\n",
    "        self.matrix2 = other\n",
    " \n",
    "class Matrix:\n",
    "    def __init__(self, matrix):\n",
    "        self.matrix = deepcopy(matrix)\n",
    " \n",
    "    def __str__(self): \n",
    "        string = ''\n",
    "        for i in self.matrix:\n",
    "            a = '\\t'.join(map(str, i))\n",
    "            string += ''.join(a) + '\\n'\n",
    "        return string[:-1]\n",
    "\n",
    "    def size(self):  \n",
    "        return (len(self.matrix), len(self.matrix[0]))\n",
    "    \n",
    "    def __add__(self, other):\n",
    "        if len(self.matrix) == len(other.matrix):\n",
    "            for i in self.matrix:\n",
    "                if len(i) != len(self.matrix[0]):\n",
    "                    raise MatrixError(self, other)\n",
    "                    \n",
    "            for j in other.matrix:\n",
    "                if len(i) != len(self.matrix[0]):\n",
    "                    raise MatrixError(self, other)\n",
    "                    \n",
    "            result = [[self.matrix[i][j] + other.matrix[i][j]  for j in range\n",
    "                            (len(self.matrix[0]))] for i in range(len(self.matrix))] \n",
    "            return Matrix(result)\n",
    "        \n",
    "        else:\n",
    "            raise MatrixError(self, other)\n",
    "    \n",
    "    def __mul__(self, other):\n",
    "        if isinstance(other, int) or isinstance(other, float):\n",
    "            result = deepcopy(self)\n",
    "            for i in range(self.size()[0]):\n",
    "                for j in range(self.size()[1]):\n",
    "                    result.matrix[i][j] *= other\n",
    "        else:\n",
    "            if (self.size()[1] == other.size()[0]):\n",
    "                result = Matrix([[0 for i in range(other.size()[1])] for j in range(self.size()[0])])\n",
    "                for i in range(len(self.matrix)):\n",
    "                    for j in range(len(other.matrix[0])):\n",
    "                        for m in range(len(other.matrix)):\n",
    "                            result.matrix[i][j] += self.matrix[i][m] * other.matrix[m][j]\n",
    "            else:\n",
    "                raise MatrixError(self, other)\n",
    "        return result\n",
    "    \n",
    "    def transpose(self):\n",
    "        transposed_Matrix = list(zip(*self.matrix))\n",
    "        self.matrix = transposed_Matrix\n",
    "        return Matrix(transposed_Matrix)\n",
    " \n",
    "    def transposed(self):\n",
    "        transposed_Matrix = list(zip(*self.matrix))\n",
    "        return Matrix(transposed_Matrix)\n",
    "    \n",
    "    __rmul__ = __mul__\n",
    "    \n",
    "exec(stdin.read())"
   ]
  },
  {
   "cell_type": "code",
   "execution_count": 84,
   "id": "835c0fd3",
   "metadata": {},
   "outputs": [
    {
     "name": "stdout",
     "output_type": "stream",
     "text": [
      "2.5\t1.0\t5.0\n",
      "-0.25\t-0.125\t9.0\n",
      "-11.0\t-1.25\t-0.0625\n",
      "67.5\t30.0\n",
      "126.5\t44.5\n",
      "-21.375\t-22.3125\n"
     ]
    }
   ],
   "source": [
    "# Task 4 check 2\n",
    "mid = Matrix([[1, 0, 0],[0, 1, 0],[0, 0, 1]])\n",
    "m1 = Matrix([[3, 2], [-10, 0], [14, 5]])\n",
    "m2 = Matrix([[5, 2, 10], [-0.5, -0.25, 18], [-22, -2.5, -0.125]])\n",
    "print(0.5 * m2)\n",
    "print(m2 * (0.5 * mid * m1))"
   ]
  },
  {
   "cell_type": "code",
   "execution_count": 85,
   "id": "b4cd0d4a",
   "metadata": {},
   "outputs": [
    {
     "name": "stdout",
     "output_type": "stream",
     "text": [
      "25\t10\t50\n",
      "-2.5\t-1.25\t90\n",
      "-110\t-12.5\t-0.625\n",
      "16200\t7200\n",
      "30360.0\t10680.0\n",
      "-5130.0\t-5355.0\n"
     ]
    }
   ],
   "source": [
    "# Task 4 check 3\n",
    "mid = Matrix([[1, 0, 0],[0, 1, 0],[0, 0, 1]])\n",
    "m1 = Matrix([[3, 2], [-10, 0], [14, 5]])\n",
    "m2 = Matrix([[5, 2, 10], [-0.5, -0.25, 18], [-22, -2.5, -0.125]])\n",
    "print(5 * m2)\n",
    "print(m2 * (120 * mid * m1))\n",
    "\n"
   ]
  }
 ],
 "metadata": {
  "kernelspec": {
   "display_name": "Python 3 (ipykernel)",
   "language": "python",
   "name": "python3"
  },
  "language_info": {
   "codemirror_mode": {
    "name": "ipython",
    "version": 3
   },
   "file_extension": ".py",
   "mimetype": "text/x-python",
   "name": "python",
   "nbconvert_exporter": "python",
   "pygments_lexer": "ipython3",
   "version": "3.7.1"
  }
 },
 "nbformat": 4,
 "nbformat_minor": 5
}

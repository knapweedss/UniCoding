{
 "cells": [
  {
   "cell_type": "markdown",
   "id": "be0e5835",
   "metadata": {},
   "source": [
    "### Долгодворова Маша, БКЛ193"
   ]
  },
  {
   "cell_type": "code",
   "execution_count": 1,
   "id": "9bf2f7ee",
   "metadata": {},
   "outputs": [],
   "source": [
    "import re\n",
    "import numpy as np\n",
    "import matplotlib.pyplot as plt\n",
    "import scipy\n",
    "from sklearn.cluster import KMeans\n",
    "import scipy.cluster.hierarchy as hcluster"
   ]
  },
  {
   "cell_type": "code",
   "execution_count": 2,
   "id": "f7f1333d",
   "metadata": {},
   "outputs": [],
   "source": [
    "with open(\"HW2_igrat'.txt\", encoding='utf-8') as f:\n",
    "    text = f.read()"
   ]
  },
  {
   "cell_type": "code",
   "execution_count": 3,
   "id": "b420ef8b",
   "metadata": {},
   "outputs": [],
   "source": [
    "verb = text.partition('_')[0]"
   ]
  },
  {
   "cell_type": "code",
   "execution_count": 4,
   "id": "a6a85ace",
   "metadata": {},
   "outputs": [],
   "source": [
    "nouns = re.findall(r'(?:_)([а-яё]*)', text)"
   ]
  },
  {
   "cell_type": "markdown",
   "id": "6d960411",
   "metadata": {},
   "source": [
    "Я взяла модель, обученную на корпусе Тайги (tayga_upos_skipgram_300_2_2019)"
   ]
  },
  {
   "cell_type": "code",
   "execution_count": 5,
   "id": "395b13e3",
   "metadata": {},
   "outputs": [],
   "source": [
    "with open('model.txt', encoding='utf-8') as fh:\n",
    "    model = fh.read().splitlines()"
   ]
  },
  {
   "cell_type": "code",
   "execution_count": 6,
   "id": "29e2975a",
   "metadata": {},
   "outputs": [],
   "source": [
    "verb_v = []\n",
    "for i in model:\n",
    "    if verb+'_VERB' in i and i.startswith(verb):\n",
    "        verb_v.append(i)"
   ]
  },
  {
   "cell_type": "code",
   "execution_count": 7,
   "id": "8c52a789",
   "metadata": {},
   "outputs": [],
   "source": [
    "nouns_v = []\n",
    "for i in model:\n",
    "    for j in nouns:\n",
    "        if j+'_NOUN' in i and i.startswith(j):\n",
    "            nouns_v.append(i)"
   ]
  },
  {
   "cell_type": "code",
   "execution_count": 8,
   "id": "c29806da",
   "metadata": {},
   "outputs": [],
   "source": [
    "verb_v = ''.join(verb_v).split()\n",
    "verb_v[0] = verb"
   ]
  },
  {
   "cell_type": "code",
   "execution_count": 9,
   "id": "889cc12f",
   "metadata": {},
   "outputs": [],
   "source": [
    "nouns_v = [i.replace('_NOUN', '') for i in nouns_v if '_NOUN' in i]\n",
    "nouns_v = [''.join(i).split() for i in nouns_v]"
   ]
  },
  {
   "cell_type": "code",
   "execution_count": 10,
   "id": "d0327127",
   "metadata": {},
   "outputs": [],
   "source": [
    "result = []\n",
    "for i in nouns_v:\n",
    "    res = []\n",
    "    for j in range(1, len(i)):\n",
    "        s = round(float(i[j]) + float(verb_v[j]), 100)\n",
    "        res.append(s)\n",
    "    result.append(res)"
   ]
  },
  {
   "cell_type": "markdown",
   "id": "98661196",
   "metadata": {},
   "source": [
    "### Иерархическая кластеризация"
   ]
  },
  {
   "cell_type": "code",
   "execution_count": 11,
   "id": "d5c5d701",
   "metadata": {},
   "outputs": [
    {
     "data": {
      "image/png": "[encoded data removed]",
      "text/plain": [
       "<Figure size 1080x720 with 1 Axes>"
      ]
     },
     "metadata": {
      "needs_background": "light"
     },
     "output_type": "display_data"
    }
   ],
   "source": [
    "X = np.array(result)\n",
    "Z = hcluster.linkage(X)\n",
    "plt.figure(figsize=(15, 10))\n",
    "dn = hcluster.dendrogram(Z)\n",
    "plt.show()"
   ]
  },
  {
   "cell_type": "code",
   "execution_count": 12,
   "id": "1e6d9553",
   "metadata": {},
   "outputs": [
    {
     "name": "stdout",
     "output_type": "stream",
     "text": [
      "Estimated number of clusters: 56\n"
     ]
    }
   ],
   "source": [
    "clusters = hcluster.fcluster(Z, 1.06)\n",
    "print('Estimated number of clusters: %d' % len(set(clusters)))"
   ]
  },
  {
   "cell_type": "code",
   "execution_count": 13,
   "id": "6b87aa1b",
   "metadata": {},
   "outputs": [
    {
     "name": "stdout",
     "output_type": "stream",
     "text": [
      "Estimated number of clusters: 1\n"
     ]
    }
   ],
   "source": [
    "clusters = hcluster.fcluster(Z, 1.2)\n",
    "print('Estimated number of clusters: %d' % len(set(clusters)))"
   ]
  },
  {
   "cell_type": "code",
   "execution_count": 14,
   "id": "3782dd01",
   "metadata": {},
   "outputs": [
    {
     "name": "stdout",
     "output_type": "stream",
     "text": [
      "Estimated number of clusters: 63\n"
     ]
    }
   ],
   "source": [
    "clusters = hcluster.fcluster(Z, 0.9)\n",
    "print('Estimated number of clusters: %d' % len(set(clusters)))"
   ]
  },
  {
   "cell_type": "code",
   "execution_count": 15,
   "id": "271441df",
   "metadata": {},
   "outputs": [
    {
     "name": "stdout",
     "output_type": "stream",
     "text": [
      "Estimated number of clusters: 93\n"
     ]
    }
   ],
   "source": [
    "clusters = hcluster.fcluster(Z, 0.6)\n",
    "print('Estimated number of clusters: %d' % len(set(clusters)))"
   ]
  },
  {
   "cell_type": "code",
   "execution_count": 16,
   "id": "27c4a849",
   "metadata": {},
   "outputs": [
    {
     "name": "stdout",
     "output_type": "stream",
     "text": [
      "Estimated number of clusters: 63\n",
      "[16 12 20 36 23  4 12 30 31 28 27  4 39 16 16 16 43  3 12 14 12 32 38 16\n",
      " 15 50 12 14 44 12 14 16 14 58  5  5 24 22 41 57  3 33 15 16 47 40  8  9\n",
      "  3  9  1 29 19 16 56 16 21 48 35 10  2  2  3 59 43 16 10 16 17 34  7 42\n",
      " 16 13 10 11 10 49 13 45 54 11 11 10 46  8 11 53 11 25 10  8 16 61  7 60\n",
      "  9  1 10  9  8 18  8 26  6  6 37 11 55 51 62 52 63]\n"
     ]
    }
   ],
   "source": [
    "clusters = hcluster.fclusterdata(X, 0.9)\n",
    "print('Estimated number of clusters: %d' % len(set(clusters)))\n",
    "print(clusters)"
   ]
  },
  {
   "cell_type": "markdown",
   "id": "0a1f2942",
   "metadata": {},
   "source": [
    "###  К-средних (KMeans)"
   ]
  },
  {
   "cell_type": "code",
   "execution_count": 17,
   "id": "01dc5cd1",
   "metadata": {},
   "outputs": [
    {
     "data": {
      "text/plain": [
       "array([5, 7, 7, 8, 8, 8, 7, 7, 2, 8, 8, 8, 2, 5, 5, 5, 2, 6, 7, 8, 7, 8,\n",
       "       5, 5, 8, 8, 7, 8, 8, 7, 8, 5, 8, 8, 2, 5, 2, 5, 8, 2, 6, 8, 5, 5,\n",
       "       0, 2, 2, 4, 6, 4, 2, 5, 5, 5, 1, 5, 2, 2, 8, 1, 2, 2, 6, 2, 2, 5,\n",
       "       3, 5, 5, 1, 4, 8, 5, 5, 1, 1, 3, 3, 5, 2, 2, 1, 1, 3, 2, 2, 1, 4,\n",
       "       1, 4, 3, 2, 5, 0, 4, 1, 4, 2, 1, 4, 2, 5, 2, 4, 4, 4, 3, 1, 2, 1,\n",
       "       2, 3, 8], dtype=int32)"
      ]
     },
     "execution_count": 17,
     "metadata": {},
     "output_type": "execute_result"
    }
   ],
   "source": [
    "kmeans = KMeans(n_clusters=9).fit(X)\n",
    "kmeans.labels_"
   ]
  },
  {
   "cell_type": "markdown",
   "id": "7440260b",
   "metadata": {},
   "source": [
    "Выбрала 9, поскольку в словарях максимально 11 значений (из того, что я нашла), но модель, которую я взяла, обучена на не такой большой выборке (в сравнении с другими), поэтому решила взять немного меньше кластеров"
   ]
  },
  {
   "cell_type": "code",
   "execution_count": 18,
   "id": "f59cf1ee",
   "metadata": {},
   "outputs": [],
   "source": [
    "array = kmeans.cluster_centers_"
   ]
  },
  {
   "cell_type": "code",
   "execution_count": 19,
   "id": "0d791327",
   "metadata": {},
   "outputs": [
    {
     "data": {
      "text/plain": [
       "array([6, 7, 8], dtype=int32)"
      ]
     },
     "execution_count": 19,
     "metadata": {},
     "output_type": "execute_result"
    }
   ],
   "source": [
    "sample = result[17:20]\n",
    "kmeans.predict(sample)"
   ]
  },
  {
   "cell_type": "code",
   "execution_count": 20,
   "id": "e48e39de",
   "metadata": {},
   "outputs": [
    {
     "data": {
      "text/plain": [
       "array([ 0.08338669, -0.54203666, -0.04645689, -0.06773267,  0.30666623,\n",
       "       -0.27514734, -0.36507736,  0.31013284,  0.13047652, -0.23580394])"
      ]
     },
     "execution_count": 20,
     "metadata": {},
     "output_type": "execute_result"
    }
   ],
   "source": [
    "array[0][0:10]"
   ]
  },
  {
   "cell_type": "code",
   "execution_count": null,
   "id": "8337d255",
   "metadata": {},
   "outputs": [],
   "source": []
  }
 ],
 "metadata": {
  "kernelspec": {
   "display_name": "Python 3 (ipykernel)",
   "language": "python",
   "name": "python3"
  },
  "language_info": {
   "codemirror_mode": {
    "name": "ipython",
    "version": 3
   },
   "file_extension": ".py",
   "mimetype": "text/x-python",
   "name": "python",
   "nbconvert_exporter": "python",
   "pygments_lexer": "ipython3",
   "version": "3.7.1"
  }
 },
 "nbformat": 4,
 "nbformat_minor": 5
}

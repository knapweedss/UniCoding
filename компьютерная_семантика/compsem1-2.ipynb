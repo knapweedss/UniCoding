{
 "cells": [
  {
   "cell_type": "markdown",
   "metadata": {},
   "source": [
    "# Лика Джиоева 182"
   ]
  },
  {
   "cell_type": "code",
   "execution_count": 214,
   "metadata": {},
   "outputs": [],
   "source": [
    "import nltk"
   ]
  },
  {
   "cell_type": "code",
   "execution_count": 215,
   "metadata": {},
   "outputs": [],
   "source": [
    "from nltk.corpus import wordnet as wn"
   ]
  },
  {
   "cell_type": "code",
   "execution_count": 216,
   "metadata": {},
   "outputs": [],
   "source": [
    "import networkx as nx"
   ]
  },
  {
   "cell_type": "code",
   "execution_count": 217,
   "metadata": {},
   "outputs": [],
   "source": [
    "import matplotlib.pyplot as plt"
   ]
  },
  {
   "cell_type": "code",
   "execution_count": 218,
   "metadata": {},
   "outputs": [
    {
     "name": "stdout",
     "output_type": "stream",
     "text": [
      "[Synset('insect.n.01'), Synset('worm.n.02')]\n"
     ]
    }
   ],
   "source": [
    "insect_synsets = wn.synsets('insect')\n",
    "print (insect_synsets)"
   ]
  },
  {
   "cell_type": "code",
   "execution_count": 219,
   "metadata": {},
   "outputs": [],
   "source": [
    "insect_exemplar = wn.synset('insect.n.01')"
   ]
  },
  {
   "cell_type": "markdown",
   "metadata": {},
   "source": [
    "Все гипонимы синсета insect.n.01"
   ]
  },
  {
   "cell_type": "code",
   "execution_count": 220,
   "metadata": {},
   "outputs": [
    {
     "name": "stdout",
     "output_type": "stream",
     "text": [
      "[Synset('beetle.n.01'), Synset('bird_louse.n.01'), Synset('bug.n.01'), Synset('collembolan.n.01'), Synset('defoliator.n.01'), Synset('dictyopterous_insect.n.01'), Synset('dipterous_insect.n.01'), Synset('earwig.n.01'), Synset('ephemerid.n.01'), Synset('ephemeron.n.01'), Synset('flea.n.01'), Synset('gallfly.n.03'), Synset('hemipterous_insect.n.01'), Synset('heteropterous_insect.n.01'), Synset('holometabola.n.01'), Synset('homopterous_insect.n.01'), Synset('hymenopterous_insect.n.01'), Synset('imago.n.02'), Synset('leaf_miner.n.01'), Synset('lepidopterous_insect.n.01'), Synset('louse.n.01'), Synset('mecopteran.n.01'), Synset('neuropteron.n.01'), Synset('odonate.n.01'), Synset('orthopterous_insect.n.01'), Synset('phasmid.n.01'), Synset('pollinator.n.01'), Synset('proturan.n.01'), Synset('psocopterous_insect.n.01'), Synset('pupa.n.01'), Synset('queen.n.01'), Synset('social_insect.n.01'), Synset('stonefly.n.01'), Synset('termite.n.01'), Synset('thysanopter.n.01'), Synset('thysanuran_insect.n.01'), Synset('trichopterous_insect.n.01'), Synset('web_spinner.n.01'), Synset('worker.n.03')]\n"
     ]
    }
   ],
   "source": [
    "print (insect_exemplar.hyponyms())"
   ]
  },
  {
   "cell_type": "code",
   "execution_count": 221,
   "metadata": {},
   "outputs": [],
   "source": [
    "insect_nodes = []\n",
    "for i in insect_exemplar.hyponyms():\n",
    "    insect_nodes.append(i.name())"
   ]
  },
  {
   "cell_type": "code",
   "execution_count": 222,
   "metadata": {},
   "outputs": [
    {
     "data": {
      "text/plain": [
       "39"
      ]
     },
     "execution_count": 222,
     "metadata": {},
     "output_type": "execute_result"
    }
   ],
   "source": [
    "len(insect_nodes)"
   ]
  },
  {
   "cell_type": "code",
   "execution_count": 226,
   "metadata": {},
   "outputs": [],
   "source": [
    "sigh = []\n",
    "for i1 in insect_exemplar.hyponyms():\n",
    "    for i2 in insect_exemplar.hyponyms():\n",
    "        if i1 != i2:\n",
    "            wt = 0\n",
    "            for j in wn.langs():\n",
    "                for k in i1.lemma_names(j):\n",
    "                    for l in i2.lemma_names(j):\n",
    "                        if k == l:\n",
    "                            wt += 1\n",
    "            if wt != 0:\n",
    "                sigh.append((i1.name(), i2.name(), float(wt)))        "
   ]
  },
  {
   "cell_type": "code",
   "execution_count": 227,
   "metadata": {
    "scrolled": true
   },
   "outputs": [
    {
     "data": {
      "text/plain": [
       "[('beetle.n.01', 'bug.n.01', 1.0),\n",
       " ('bird_louse.n.01', 'louse.n.01', 6.0),\n",
       " ('bug.n.01', 'beetle.n.01', 1.0),\n",
       " ('bug.n.01', 'flea.n.01', 2.0),\n",
       " ('bug.n.01', 'hemipterous_insect.n.01', 13.0),\n",
       " ('bug.n.01', 'louse.n.01', 2.0),\n",
       " ('bug.n.01', 'thysanopter.n.01', 1.0),\n",
       " ('bug.n.01', 'thysanuran_insect.n.01', 1.0),\n",
       " ('bug.n.01', 'trichopterous_insect.n.01', 1.0),\n",
       " ('ephemerid.n.01', 'ephemeron.n.01', 2.0),\n",
       " ('ephemeron.n.01', 'ephemerid.n.01', 2.0),\n",
       " ('flea.n.01', 'bug.n.01', 2.0),\n",
       " ('flea.n.01', 'louse.n.01', 5.0),\n",
       " ('hemipterous_insect.n.01', 'bug.n.01', 13.0),\n",
       " ('louse.n.01', 'bird_louse.n.01', 6.0),\n",
       " ('louse.n.01', 'bug.n.01', 2.0),\n",
       " ('louse.n.01', 'flea.n.01', 5.0),\n",
       " ('thysanopter.n.01', 'bug.n.01', 1.0),\n",
       " ('thysanopter.n.01', 'thysanuran_insect.n.01', 1.0),\n",
       " ('thysanopter.n.01', 'trichopterous_insect.n.01', 1.0),\n",
       " ('thysanuran_insect.n.01', 'bug.n.01', 1.0),\n",
       " ('thysanuran_insect.n.01', 'thysanopter.n.01', 1.0),\n",
       " ('thysanuran_insect.n.01', 'trichopterous_insect.n.01', 1.0),\n",
       " ('trichopterous_insect.n.01', 'bug.n.01', 1.0),\n",
       " ('trichopterous_insect.n.01', 'thysanopter.n.01', 1.0),\n",
       " ('trichopterous_insect.n.01', 'thysanuran_insect.n.01', 1.0)]"
      ]
     },
     "execution_count": 227,
     "metadata": {},
     "output_type": "execute_result"
    }
   ],
   "source": [
    "sigh"
   ]
  },
  {
   "cell_type": "code",
   "execution_count": 228,
   "metadata": {},
   "outputs": [],
   "source": [
    "G = nx.Graph()\n",
    "G.add_nodes_from(insect_nodes)\n",
    "G.add_weighted_edges_from(sigh)"
   ]
  },
  {
   "cell_type": "code",
   "execution_count": 229,
   "metadata": {},
   "outputs": [],
   "source": [
    "elarge = [(u, v) for (u, v, d) in G.edges(data=True) if d['weight'] > 2.0]\n",
    "esmall = [(u, v) for (u, v, d) in G.edges(data=True) if d['weight'] <= 2.0]"
   ]
  },
  {
   "cell_type": "markdown",
   "metadata": {},
   "source": [
    "Граф, где узлы -- гипонимы синсета X, а рёбра отражают колексификацию узлов. Толщина ребра отражает частоту колексификации."
   ]
  },
  {
   "cell_type": "code",
   "execution_count": 231,
   "metadata": {},
   "outputs": [
    {
     "data": {
      "image/png": "[encoded data removed]",
      "text/plain": [
       "<Figure size 1080x1080 with 1 Axes>"
      ]
     },
     "metadata": {},
     "output_type": "display_data"
    }
   ],
   "source": [
    "pos = nx.shell_layout(G)\n",
    "plt.figure(figsize=(15, 15))\n",
    "nx.draw_networkx_nodes(G, pos, node_size=50)\n",
    "nx.draw_networkx_edges(G, pos, edgelist=elarge, width=4)\n",
    "nx.draw_networkx_edges(G, pos, edgelist=esmall, width=4, alpha=0.5, edge_color='b', style='dashed')\n",
    "nx.draw_networkx_labels(G, pos, font_size=11, font_family='sans-serif')\n",
    "\n",
    "plt.axis('off')\n",
    "plt.show()"
   ]
  },
  {
   "cell_type": "markdown",
   "metadata": {},
   "source": [
    "Сколько получилось связных компонент?"
   ]
  },
  {
   "cell_type": "code",
   "execution_count": 232,
   "metadata": {},
   "outputs": [
    {
     "data": {
      "text/plain": [
       "30"
      ]
     },
     "execution_count": 232,
     "metadata": {},
     "output_type": "execute_result"
    }
   ],
   "source": [
    "cc = sorted(nx.connected_components(G))\n",
    "len(cc)"
   ]
  },
  {
   "cell_type": "markdown",
   "metadata": {},
   "source": [
    "Коэффициент ассортативности и плотность графа"
   ]
  },
  {
   "cell_type": "code",
   "execution_count": 233,
   "metadata": {},
   "outputs": [
    {
     "name": "stdout",
     "output_type": "stream",
     "text": [
      "-0.33705080545229243\n"
     ]
    }
   ],
   "source": [
    "print(nx.degree_pearson_correlation_coefficient(G))"
   ]
  },
  {
   "cell_type": "code",
   "execution_count": 234,
   "metadata": {},
   "outputs": [
    {
     "name": "stdout",
     "output_type": "stream",
     "text": [
      "0.017543859649122806\n"
     ]
    }
   ],
   "source": [
    "print(nx.density(G))"
   ]
  },
  {
   "cell_type": "code",
   "execution_count": 235,
   "metadata": {},
   "outputs": [],
   "source": [
    "number_edges = len(G.edges())"
   ]
  },
  {
   "cell_type": "code",
   "execution_count": 236,
   "metadata": {
    "scrolled": true
   },
   "outputs": [],
   "source": [
    "weights = list(G.degree(weight='weight'))"
   ]
  },
  {
   "cell_type": "code",
   "execution_count": 237,
   "metadata": {},
   "outputs": [],
   "source": [
    "trying = []\n",
    "for i in weights:\n",
    "    new = i[1] / number_edges\n",
    "    trying.append((i[0], new))"
   ]
  },
  {
   "cell_type": "markdown",
   "metadata": {},
   "source": [
    "Как распределились взвешенные степени узлов?"
   ]
  },
  {
   "cell_type": "code",
   "execution_count": 238,
   "metadata": {
    "scrolled": true
   },
   "outputs": [
    {
     "data": {
      "text/plain": [
       "[('beetle.n.01', 0.07692307692307693),\n",
       " ('bird_louse.n.01', 0.46153846153846156),\n",
       " ('bug.n.01', 1.6153846153846154),\n",
       " ('collembolan.n.01', 0.0),\n",
       " ('defoliator.n.01', 0.0),\n",
       " ('dictyopterous_insect.n.01', 0.0),\n",
       " ('dipterous_insect.n.01', 0.0),\n",
       " ('earwig.n.01', 0.0),\n",
       " ('ephemerid.n.01', 0.15384615384615385),\n",
       " ('ephemeron.n.01', 0.15384615384615385),\n",
       " ('flea.n.01', 0.5384615384615384),\n",
       " ('gallfly.n.03', 0.0),\n",
       " ('hemipterous_insect.n.01', 1.0),\n",
       " ('heteropterous_insect.n.01', 0.0),\n",
       " ('holometabola.n.01', 0.0),\n",
       " ('homopterous_insect.n.01', 0.0),\n",
       " ('hymenopterous_insect.n.01', 0.0),\n",
       " ('imago.n.02', 0.0),\n",
       " ('leaf_miner.n.01', 0.0),\n",
       " ('lepidopterous_insect.n.01', 0.0),\n",
       " ('louse.n.01', 1.0),\n",
       " ('mecopteran.n.01', 0.0),\n",
       " ('neuropteron.n.01', 0.0),\n",
       " ('odonate.n.01', 0.0),\n",
       " ('orthopterous_insect.n.01', 0.0),\n",
       " ('phasmid.n.01', 0.0),\n",
       " ('pollinator.n.01', 0.0),\n",
       " ('proturan.n.01', 0.0),\n",
       " ('psocopterous_insect.n.01', 0.0),\n",
       " ('pupa.n.01', 0.0),\n",
       " ('queen.n.01', 0.0),\n",
       " ('social_insect.n.01', 0.0),\n",
       " ('stonefly.n.01', 0.0),\n",
       " ('termite.n.01', 0.0),\n",
       " ('thysanopter.n.01', 0.23076923076923078),\n",
       " ('thysanuran_insect.n.01', 0.23076923076923078),\n",
       " ('trichopterous_insect.n.01', 0.23076923076923078),\n",
       " ('web_spinner.n.01', 0.0),\n",
       " ('worker.n.03', 0.0)]"
      ]
     },
     "execution_count": 238,
     "metadata": {},
     "output_type": "execute_result"
    }
   ],
   "source": [
    "trying"
   ]
  },
  {
   "cell_type": "markdown",
   "metadata": {},
   "source": [
    "Метрики важности"
   ]
  },
  {
   "cell_type": "code",
   "execution_count": 239,
   "metadata": {
    "scrolled": true
   },
   "outputs": [
    {
     "name": "stdout",
     "output_type": "stream",
     "text": [
      "bug.n.01\n",
      "louse.n.01\n",
      "thysanopter.n.01\n",
      "thysanuran_insect.n.01\n",
      "trichopterous_insect.n.01\n",
      "flea.n.01\n",
      "beetle.n.01\n",
      "bird_louse.n.01\n",
      "ephemerid.n.01\n",
      "ephemeron.n.01\n",
      "hemipterous_insect.n.01\n",
      "collembolan.n.01\n",
      "defoliator.n.01\n",
      "dictyopterous_insect.n.01\n",
      "dipterous_insect.n.01\n",
      "earwig.n.01\n",
      "gallfly.n.03\n",
      "heteropterous_insect.n.01\n",
      "holometabola.n.01\n",
      "homopterous_insect.n.01\n",
      "hymenopterous_insect.n.01\n",
      "imago.n.02\n",
      "leaf_miner.n.01\n",
      "lepidopterous_insect.n.01\n",
      "mecopteran.n.01\n",
      "neuropteron.n.01\n",
      "odonate.n.01\n",
      "orthopterous_insect.n.01\n",
      "phasmid.n.01\n",
      "pollinator.n.01\n",
      "proturan.n.01\n",
      "psocopterous_insect.n.01\n",
      "pupa.n.01\n",
      "queen.n.01\n",
      "social_insect.n.01\n",
      "stonefly.n.01\n",
      "termite.n.01\n",
      "web_spinner.n.01\n",
      "worker.n.03\n"
     ]
    }
   ],
   "source": [
    "deg = nx.degree_centrality(G)\n",
    "for nodeid in sorted(deg, key=deg.get, reverse=True):\n",
    "    print(nodeid)"
   ]
  },
  {
   "cell_type": "code",
   "execution_count": 240,
   "metadata": {
    "scrolled": true
   },
   "outputs": [
    {
     "name": "stdout",
     "output_type": "stream",
     "text": [
      "bug.n.01\n",
      "louse.n.01\n",
      "flea.n.01\n",
      "thysanopter.n.01\n",
      "thysanuran_insect.n.01\n",
      "trichopterous_insect.n.01\n",
      "beetle.n.01\n",
      "hemipterous_insect.n.01\n",
      "bird_louse.n.01\n",
      "ephemerid.n.01\n",
      "ephemeron.n.01\n",
      "collembolan.n.01\n",
      "defoliator.n.01\n",
      "dictyopterous_insect.n.01\n",
      "dipterous_insect.n.01\n",
      "earwig.n.01\n",
      "gallfly.n.03\n",
      "heteropterous_insect.n.01\n",
      "holometabola.n.01\n",
      "homopterous_insect.n.01\n",
      "hymenopterous_insect.n.01\n",
      "imago.n.02\n",
      "leaf_miner.n.01\n",
      "lepidopterous_insect.n.01\n",
      "mecopteran.n.01\n",
      "neuropteron.n.01\n",
      "odonate.n.01\n",
      "orthopterous_insect.n.01\n",
      "phasmid.n.01\n",
      "pollinator.n.01\n",
      "proturan.n.01\n",
      "psocopterous_insect.n.01\n",
      "pupa.n.01\n",
      "queen.n.01\n",
      "social_insect.n.01\n",
      "stonefly.n.01\n",
      "termite.n.01\n",
      "web_spinner.n.01\n",
      "worker.n.03\n"
     ]
    }
   ],
   "source": [
    "cl = nx.closeness_centrality(G)\n",
    "for nodeid in sorted(cl, key=cl.get, reverse=True):\n",
    "    print(nodeid)"
   ]
  },
  {
   "cell_type": "code",
   "execution_count": 241,
   "metadata": {
    "scrolled": true
   },
   "outputs": [
    {
     "name": "stdout",
     "output_type": "stream",
     "text": [
      "bug.n.01\n",
      "louse.n.01\n",
      "beetle.n.01\n",
      "bird_louse.n.01\n",
      "collembolan.n.01\n",
      "defoliator.n.01\n",
      "dictyopterous_insect.n.01\n",
      "dipterous_insect.n.01\n",
      "earwig.n.01\n",
      "ephemerid.n.01\n",
      "ephemeron.n.01\n",
      "flea.n.01\n",
      "gallfly.n.03\n",
      "hemipterous_insect.n.01\n",
      "heteropterous_insect.n.01\n",
      "holometabola.n.01\n",
      "homopterous_insect.n.01\n",
      "hymenopterous_insect.n.01\n",
      "imago.n.02\n",
      "leaf_miner.n.01\n",
      "lepidopterous_insect.n.01\n",
      "mecopteran.n.01\n",
      "neuropteron.n.01\n",
      "odonate.n.01\n",
      "orthopterous_insect.n.01\n",
      "phasmid.n.01\n",
      "pollinator.n.01\n",
      "proturan.n.01\n",
      "psocopterous_insect.n.01\n",
      "pupa.n.01\n",
      "queen.n.01\n",
      "social_insect.n.01\n",
      "stonefly.n.01\n",
      "termite.n.01\n",
      "thysanopter.n.01\n",
      "thysanuran_insect.n.01\n",
      "trichopterous_insect.n.01\n",
      "web_spinner.n.01\n",
      "worker.n.03\n"
     ]
    }
   ],
   "source": [
    "b = nx.betweenness_centrality(G)\n",
    "for nodeid in sorted(b, key=b.get, reverse=True):\n",
    "    print(nodeid)"
   ]
  },
  {
   "cell_type": "code",
   "execution_count": 242,
   "metadata": {
    "scrolled": true
   },
   "outputs": [
    {
     "name": "stdout",
     "output_type": "stream",
     "text": [
      "bug.n.01\n",
      "thysanopter.n.01\n",
      "thysanuran_insect.n.01\n",
      "trichopterous_insect.n.01\n",
      "louse.n.01\n",
      "flea.n.01\n",
      "beetle.n.01\n",
      "hemipterous_insect.n.01\n",
      "bird_louse.n.01\n",
      "ephemerid.n.01\n",
      "ephemeron.n.01\n",
      "collembolan.n.01\n",
      "defoliator.n.01\n",
      "dictyopterous_insect.n.01\n",
      "dipterous_insect.n.01\n",
      "earwig.n.01\n",
      "gallfly.n.03\n",
      "heteropterous_insect.n.01\n",
      "holometabola.n.01\n",
      "homopterous_insect.n.01\n",
      "hymenopterous_insect.n.01\n",
      "imago.n.02\n",
      "leaf_miner.n.01\n",
      "lepidopterous_insect.n.01\n",
      "mecopteran.n.01\n",
      "neuropteron.n.01\n",
      "odonate.n.01\n",
      "orthopterous_insect.n.01\n",
      "phasmid.n.01\n",
      "pollinator.n.01\n",
      "proturan.n.01\n",
      "psocopterous_insect.n.01\n",
      "pupa.n.01\n",
      "queen.n.01\n",
      "social_insect.n.01\n",
      "stonefly.n.01\n",
      "termite.n.01\n",
      "web_spinner.n.01\n",
      "worker.n.03\n"
     ]
    }
   ],
   "source": [
    "ei = nx.eigenvector_centrality(G)\n",
    "for nodeid in sorted(ei, key=ei.get, reverse=True):\n",
    "    print(nodeid)"
   ]
  },
  {
   "cell_type": "markdown",
   "metadata": {},
   "source": [
    "Можно сказать, что bug победитель по всем фронтам! Самый важный узел. У меня есть маленькая теория о том, что bug такой популярный, потому что самый...простой? Например, hemipterous_insect тоже в топе, хоть и не высоко. Кто такой hemipterous_insect? Да это же клоп! В народе bed bug (поэтому у них такая большая частота колексификации с bug). Louse, flea, beetle тоже высоко. А вот как объяснить важность thysanopter.n.01, thysanuran_insect.n.01 не знаю..."
   ]
  },
  {
   "cell_type": "code",
   "execution_count": 243,
   "metadata": {},
   "outputs": [],
   "source": [
    "from networkx.algorithms import community"
   ]
  },
  {
   "cell_type": "markdown",
   "metadata": {},
   "source": [
    "Сообщества (алгоритм girvan_newman)"
   ]
  },
  {
   "cell_type": "code",
   "execution_count": 244,
   "metadata": {
    "scrolled": true
   },
   "outputs": [
    {
     "name": "stdout",
     "output_type": "stream",
     "text": [
      "top level communities: [['beetle.n.01', 'bug.n.01', 'hemipterous_insect.n.01', 'thysanopter.n.01', 'thysanuran_insect.n.01', 'trichopterous_insect.n.01'], ['bird_louse.n.01', 'flea.n.01', 'louse.n.01'], ['collembolan.n.01'], ['defoliator.n.01'], ['dictyopterous_insect.n.01'], ['dipterous_insect.n.01'], ['earwig.n.01'], ['ephemerid.n.01', 'ephemeron.n.01'], ['gallfly.n.03'], ['heteropterous_insect.n.01'], ['holometabola.n.01'], ['homopterous_insect.n.01'], ['hymenopterous_insect.n.01'], ['imago.n.02'], ['leaf_miner.n.01'], ['lepidopterous_insect.n.01'], ['mecopteran.n.01'], ['neuropteron.n.01'], ['odonate.n.01'], ['orthopterous_insect.n.01'], ['phasmid.n.01'], ['pollinator.n.01'], ['proturan.n.01'], ['psocopterous_insect.n.01'], ['pupa.n.01'], ['queen.n.01'], ['social_insect.n.01'], ['stonefly.n.01'], ['termite.n.01'], ['web_spinner.n.01'], ['worker.n.03']]\n",
      "next level communities: [['beetle.n.01'], ['bird_louse.n.01', 'flea.n.01', 'louse.n.01'], ['bug.n.01', 'hemipterous_insect.n.01', 'thysanopter.n.01', 'thysanuran_insect.n.01', 'trichopterous_insect.n.01'], ['collembolan.n.01'], ['defoliator.n.01'], ['dictyopterous_insect.n.01'], ['dipterous_insect.n.01'], ['earwig.n.01'], ['ephemerid.n.01', 'ephemeron.n.01'], ['gallfly.n.03'], ['heteropterous_insect.n.01'], ['holometabola.n.01'], ['homopterous_insect.n.01'], ['hymenopterous_insect.n.01'], ['imago.n.02'], ['leaf_miner.n.01'], ['lepidopterous_insect.n.01'], ['mecopteran.n.01'], ['neuropteron.n.01'], ['odonate.n.01'], ['orthopterous_insect.n.01'], ['phasmid.n.01'], ['pollinator.n.01'], ['proturan.n.01'], ['psocopterous_insect.n.01'], ['pupa.n.01'], ['queen.n.01'], ['social_insect.n.01'], ['stonefly.n.01'], ['termite.n.01'], ['web_spinner.n.01'], ['worker.n.03']]\n"
     ]
    }
   ],
   "source": [
    "communities_generator = community.girvan_newman(G)\n",
    "top_level_communities = next(communities_generator)\n",
    "next_level_communities = next(communities_generator)\n",
    "print(\"top level communities:\", sorted(map(sorted, top_level_communities)))\n",
    "print(\"next level communities:\", sorted(map(sorted, next_level_communities)))"
   ]
  },
  {
   "cell_type": "markdown",
   "metadata": {},
   "source": [
    "Ощущение что сильно эти коммьюнити не поменялись (Но вроде так и должно быть)...Конечно же связанные с bug гипонимы вместе в первом top level community."
   ]
  },
  {
   "cell_type": "markdown",
   "metadata": {},
   "source": [
    "Алгоритм greedy_modularity_communities"
   ]
  },
  {
   "cell_type": "code",
   "execution_count": 245,
   "metadata": {
    "scrolled": true
   },
   "outputs": [
    {
     "data": {
      "text/plain": [
       "[frozenset({'beetle.n.01',\n",
       "            'bird_louse.n.01',\n",
       "            'bug.n.01',\n",
       "            'flea.n.01',\n",
       "            'hemipterous_insect.n.01',\n",
       "            'louse.n.01',\n",
       "            'thysanopter.n.01',\n",
       "            'thysanuran_insect.n.01',\n",
       "            'trichopterous_insect.n.01'}),\n",
       " frozenset({'ephemerid.n.01', 'ephemeron.n.01'}),\n",
       " frozenset({'collembolan.n.01'}),\n",
       " frozenset({'defoliator.n.01'}),\n",
       " frozenset({'dictyopterous_insect.n.01'}),\n",
       " frozenset({'dipterous_insect.n.01'}),\n",
       " frozenset({'earwig.n.01'}),\n",
       " frozenset({'gallfly.n.03'}),\n",
       " frozenset({'heteropterous_insect.n.01'}),\n",
       " frozenset({'holometabola.n.01'}),\n",
       " frozenset({'homopterous_insect.n.01'}),\n",
       " frozenset({'hymenopterous_insect.n.01'}),\n",
       " frozenset({'imago.n.02'}),\n",
       " frozenset({'leaf_miner.n.01'}),\n",
       " frozenset({'lepidopterous_insect.n.01'}),\n",
       " frozenset({'mecopteran.n.01'}),\n",
       " frozenset({'neuropteron.n.01'}),\n",
       " frozenset({'odonate.n.01'}),\n",
       " frozenset({'orthopterous_insect.n.01'}),\n",
       " frozenset({'phasmid.n.01'}),\n",
       " frozenset({'pollinator.n.01'}),\n",
       " frozenset({'proturan.n.01'}),\n",
       " frozenset({'psocopterous_insect.n.01'}),\n",
       " frozenset({'pupa.n.01'}),\n",
       " frozenset({'queen.n.01'}),\n",
       " frozenset({'social_insect.n.01'}),\n",
       " frozenset({'stonefly.n.01'}),\n",
       " frozenset({'termite.n.01'}),\n",
       " frozenset({'web_spinner.n.01'}),\n",
       " frozenset({'worker.n.03'})]"
      ]
     },
     "execution_count": 245,
     "metadata": {},
     "output_type": "execute_result"
    }
   ],
   "source": [
    "from networkx.algorithms.community import greedy_modularity_communities\n",
    "c = list(greedy_modularity_communities(G))\n",
    "sorted(c)"
   ]
  },
  {
   "cell_type": "markdown",
   "metadata": {},
   "source": [
    "Опять-таки, сверху уже хорошо известная мне компания с bug, так как плотность связей внутри нее больше."
   ]
  }
 ],
 "metadata": {
  "kernelspec": {
   "display_name": "Python 3 (ipykernel)",
   "language": "python",
   "name": "python3"
  },
  "language_info": {
   "codemirror_mode": {
    "name": "ipython",
    "version": 3
   },
   "file_extension": ".py",
   "mimetype": "text/x-python",
   "name": "python",
   "nbconvert_exporter": "python",
   "pygments_lexer": "ipython3",
   "version": "3.7.1"
  }
 },
 "nbformat": 4,
 "nbformat_minor": 2
}

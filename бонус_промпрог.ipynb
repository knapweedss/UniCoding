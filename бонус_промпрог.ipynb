{
 "cells": [
  {
   "cell_type": "markdown",
   "id": "7c0a526b",
   "metadata": {},
   "source": [
    "# Задача 1"
   ]
  },
  {
   "cell_type": "markdown",
   "id": "91ac94cb",
   "metadata": {},
   "source": [
    "Вам нужно написать декоратор strict_kwargs, который позволяет вызывать обернутую функцию только с именованными аргументами (все аргументы должны быть переданы как kwargs).  В противном случае он должен поднять исключение TypeError с сообщением \"Only kwargs allowed!\" В случае, когда все в порядке, декоратор просто выполняет функцию и возвращает ее результат.  "
   ]
  },
  {
   "cell_type": "code",
   "execution_count": 1,
   "id": "24b8be71",
   "metadata": {},
   "outputs": [],
   "source": [
    "def strict_kwargs(func):\n",
    "    def wrapper(*args, **kwargs):\n",
    "        if kwargs.__len__() > 0:\n",
    "            result = func(**kwargs)\n",
    "            return result\n",
    "        else:\n",
    "            raise TypeError(\"Only kwargs allowed!\")\n",
    "            #print('Type Error: Only kwargs allowed!')\n",
    "    return wrapper\n",
    "\n",
    "@strict_kwargs  \n",
    "def greet(username):  \n",
    "    return f\"Hello, {username}!\" "
   ]
  },
  {
   "cell_type": "code",
   "execution_count": 2,
   "id": "9ad056eb",
   "metadata": {},
   "outputs": [
    {
     "name": "stdout",
     "output_type": "stream",
     "text": [
      "Hello, Lena!\n"
     ]
    }
   ],
   "source": [
    "print(greet(username=\"Lena\"))  \n",
    "# Hello, Lena!  \n",
    "#print(greet(\"Lena\"))  \n",
    "# Type Error: Only kwargs allowed!"
   ]
  },
  {
   "cell_type": "markdown",
   "id": "e72b6a93",
   "metadata": {},
   "source": [
    "# Задача 2"
   ]
  },
  {
   "cell_type": "markdown",
   "id": "06fb918c",
   "metadata": {},
   "source": [
    "Вам нужно создать класс Person со следующими свойствами:\n",
    "- конструктор, принимающий параметр immune, по умолчанию равный False, если параметр immune равен True, то человек не заражается сам и не заражает других\n",
    "- атрибут infected, по умолчанию равный False\n",
    "- метод infect без параметров, который \"заражает\" человека, то есть меняет ему атрибут infected на True, если у него нет иммунитета\n",
    "- болезнь очень заразная, поэтому если заразился один человек, все остальные (кроме людей с иммунитетом) тоже становятся заражёнными: после вызова infect от любого из экземпляров без иммунитета, атрибут infect у всех людей без иммунитета должен возвращать True\n",
    "- метод класса cure без параметров, после вызова этого метода атрибут infected у всех экземпляров должен возвращать False"
   ]
  },
  {
   "cell_type": "code",
   "execution_count": 88,
   "id": "d502a43b",
   "metadata": {},
   "outputs": [],
   "source": [
    "class Person:\n",
    "    \n",
    "    people_infected = False\n",
    "    \n",
    "    def __init__(self, immune=False):\n",
    "        self.immune = immune\n",
    "        self._infected = False\n",
    "        \n",
    "    def infect(self):\n",
    "        if not self.immune:\n",
    "            Person.people_infected = True\n",
    "    \n",
    "    @property\n",
    "    def infected(self):\n",
    "        if self.immune:\n",
    "            return False\n",
    "        if Person.people_infected is False:\n",
    "            return self._infected\n",
    "        return Person.people_infected\n",
    "    \n",
    "    @classmethod\n",
    "    def cure(self):\n",
    "        self.people_infected = False"
   ]
  },
  {
   "cell_type": "code",
   "execution_count": 87,
   "id": "950ba4b1",
   "metadata": {},
   "outputs": [
    {
     "name": "stdout",
     "output_type": "stream",
     "text": [
      "False False False\n",
      "False False False\n",
      "True True False\n",
      "False False False\n"
     ]
    }
   ],
   "source": [
    "p1 = Person()  \n",
    "p2 = Person()  \n",
    "p3_immune = Person(immune=True)  \n",
    " \n",
    "# все здоровы  \n",
    "print(p1.infected, p2.infected, p3_immune.infected)  # False False False  \n",
    " \n",
    "# все здоровы  \n",
    "p3_immune.infect()  \n",
    "print(p1.infected, p2.infected, p3_immune.infected)  # False False False  \n",
    " \n",
    "# все, у кого нет иммунитета, заболели  \n",
    "p1.infect()  \n",
    "print(p1.infected, p2.infected, p3_immune.infected)  # True True False  \n",
    " \n",
    "# все опять здоровы  \n",
    "Person.cure()  \n",
    "print(p1.infected, p2.infected, p3_immune.infected)  # False False False"
   ]
  }
 ],
 "metadata": {
  "kernelspec": {
   "display_name": "Python 3 (ipykernel)",
   "language": "python",
   "name": "python3"
  },
  "language_info": {
   "codemirror_mode": {
    "name": "ipython",
    "version": 3
   },
   "file_extension": ".py",
   "mimetype": "text/x-python",
   "name": "python",
   "nbconvert_exporter": "python",
   "pygments_lexer": "ipython3",
   "version": "3.10.0"
  }
 },
 "nbformat": 4,
 "nbformat_minor": 5
}

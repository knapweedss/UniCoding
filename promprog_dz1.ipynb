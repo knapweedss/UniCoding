{
 "cells": [
  {
   "cell_type": "markdown",
   "id": "7eb3f42c",
   "metadata": {},
   "source": [
    "# Функции, аргументы, декораторы"
   ]
  },
  {
   "cell_type": "markdown",
   "id": "d796d481",
   "metadata": {},
   "source": [
    "### Задача 1"
   ]
  },
  {
   "cell_type": "markdown",
   "id": "1c6fda7e",
   "metadata": {},
   "source": [
    "Напишите функцию numbers_action, которая принимает неограниченное число позиционных аргументов чисел, а также аргумент operator, который может принимать значения ’sum’ и ’mul’, по умолчанию равен ’sum’. В зависимости от аргумента, функция либо складывает, либо перемножает все переданные числа. Гарантируется, что все аргументы всегда передаются правильно."
   ]
  },
  {
   "cell_type": "code",
   "execution_count": 2,
   "id": "be89a7c9",
   "metadata": {},
   "outputs": [],
   "source": [
    "def numbers_action(*args, operator='sum'):\n",
    "\n",
    "    if operator == 'mul':\n",
    "        args_mul = 1\n",
    "        for arg in args:\n",
    "            args_mul *= arg\n",
    "        print(args_mul)\n",
    "    else:\n",
    "        args_sum = 0\n",
    "        for arg in args:\n",
    "            args_sum += arg\n",
    "        print(args_sum)"
   ]
  },
  {
   "cell_type": "code",
   "execution_count": 3,
   "id": "61f30ec3",
   "metadata": {},
   "outputs": [
    {
     "name": "stdout",
     "output_type": "stream",
     "text": [
      "6\n"
     ]
    }
   ],
   "source": [
    "numbers_action(1,2,3, operator='mul')"
   ]
  },
  {
   "cell_type": "markdown",
   "id": "79455fdc",
   "metadata": {},
   "source": [
    "### Задача 2"
   ]
  },
  {
   "cell_type": "markdown",
   "id": "f89403b1",
   "metadata": {},
   "source": [
    "Напишите декоратор format_return, который превращает результат выполнения функции в строку формата \"Result of function <function name> with args <args в виде tuple>, kwargs <kwargs виде dict> is <result value>\"и возвращает его"
   ]
  },
  {
   "cell_type": "code",
   "execution_count": 4,
   "id": "d941bc67",
   "metadata": {},
   "outputs": [],
   "source": [
    "def format_return(func):\n",
    "    def wrapper(*args, **kwargs):\n",
    "        result = func(*args, **kwargs)\n",
    "        print(f'Result of function {func.__name__} with args {args}, kwargs {kwargs} is {result}')\n",
    "    return wrapper\n",
    "\n",
    "@format_return\n",
    "def division(a, b):\n",
    "    return a / b"
   ]
  },
  {
   "cell_type": "code",
   "execution_count": 5,
   "id": "b54be6e3",
   "metadata": {},
   "outputs": [
    {
     "name": "stdout",
     "output_type": "stream",
     "text": [
      "Result of function division with args (), kwargs {'a': 10, 'b': 2} is 5.0\n"
     ]
    }
   ],
   "source": [
    "division(a=10, b=2)"
   ]
  },
  {
   "cell_type": "code",
   "execution_count": 7,
   "id": "756959cf",
   "metadata": {},
   "outputs": [
    {
     "name": "stdout",
     "output_type": "stream",
     "text": [
      "Result of function division with args (10,), kwargs {'b': 13} is 0.7692307692307693\n"
     ]
    }
   ],
   "source": [
    "division(10, b=13)"
   ]
  },
  {
   "cell_type": "markdown",
   "id": "1dd52b1d",
   "metadata": {},
   "source": [
    "### Задача 3"
   ]
  },
  {
   "cell_type": "markdown",
   "id": "b7f0a324",
   "metadata": {},
   "source": [
    "Напишите декоратор slow_down, который делает так, что у задекорированной функции появляется дополнительный аргумент slow_down, по умолчанию равный 0, принимающий любые целые положительные значения. Если параметр не равен 0, то функция перед выполнением ждет заданное количество секунд и возвращает результат. Если параметр равен 0, то функция просто возвращает результат. Гарантируется, что slow_down, если передан, то всегда целый и положительный, дополнительно проверять не надо."
   ]
  },
  {
   "cell_type": "code",
   "execution_count": 16,
   "id": "5fc7526c",
   "metadata": {},
   "outputs": [],
   "source": [
    "import time\n",
    "def slow_down(func):\n",
    "    def wrapper(*args, slow_down=0, **kwargs):\n",
    "        start_time = time.time()\n",
    "        if slow_down != 0:\n",
    "            time.sleep(slow_down)\n",
    "        else:\n",
    "            pass\n",
    "        result = func(*args, **kwargs)\n",
    "        print(result)\n",
    "        print(\"--- %s seconds ---\" % (time.time() - start_time)) ## убедиться, в контесте убрать\n",
    "    return wrapper\n",
    "@slow_down\n",
    "def division(a, b):\n",
    "    return a / b"
   ]
  },
  {
   "cell_type": "code",
   "execution_count": 17,
   "id": "26386401",
   "metadata": {},
   "outputs": [
    {
     "name": "stdout",
     "output_type": "stream",
     "text": [
      "5.0\n",
      "--- 3.0060510635375977 seconds ---\n"
     ]
    }
   ],
   "source": [
    "division(10, 2, slow_down=3)"
   ]
  },
  {
   "cell_type": "code",
   "execution_count": 18,
   "id": "2af2603b",
   "metadata": {},
   "outputs": [
    {
     "name": "stdout",
     "output_type": "stream",
     "text": [
      "5.0\n",
      "--- 0.00028705596923828125 seconds ---\n"
     ]
    }
   ],
   "source": [
    "division(10, 2)"
   ]
  },
  {
   "cell_type": "markdown",
   "id": "89360d64",
   "metadata": {},
   "source": [
    "### Задача 4"
   ]
  },
  {
   "cell_type": "markdown",
   "id": "d4c41a8c",
   "metadata": {},
   "source": [
    "Напишите декоратор type_return, который приводит результат выполнения функции к типу, переданному в аргументе декоратора. Для простоты, считаем, что в аргументе всегда передается правильный callable типа, который гарантированно сработает без ошибок."
   ]
  },
  {
   "cell_type": "code",
   "execution_count": 24,
   "id": "284b1471",
   "metadata": {},
   "outputs": [],
   "source": [
    "def type_return(type):\n",
    "    def body(func):\n",
    "        def wrapper(*args, **kwargs):\n",
    "            result = func(*args, **kwargs)\n",
    "            return type(result)\n",
    "        return wrapper\n",
    "    return body\n",
    "@type_return(str)\n",
    "def division(a, b):\n",
    "    return a / b"
   ]
  },
  {
   "cell_type": "code",
   "execution_count": 25,
   "id": "6025e7bd",
   "metadata": {},
   "outputs": [
    {
     "data": {
      "text/plain": [
       "str"
      ]
     },
     "execution_count": 25,
     "metadata": {},
     "output_type": "execute_result"
    }
   ],
   "source": [
    "type(division(1, 2))"
   ]
  },
  {
   "cell_type": "code",
   "execution_count": 26,
   "id": "1d1a6d9d",
   "metadata": {},
   "outputs": [
    {
     "data": {
      "text/plain": [
       "'0.5'"
      ]
     },
     "execution_count": 26,
     "metadata": {},
     "output_type": "execute_result"
    }
   ],
   "source": [
    "division(1, 2)"
   ]
  }
 ],
 "metadata": {
  "kernelspec": {
   "display_name": "Python 3 (ipykernel)",
   "language": "python",
   "name": "python3"
  },
  "language_info": {
   "codemirror_mode": {
    "name": "ipython",
    "version": 3
   },
   "file_extension": ".py",
   "mimetype": "text/x-python",
   "name": "python",
   "nbconvert_exporter": "python",
   "pygments_lexer": "ipython3",
   "version": "3.7.1"
  }
 },
 "nbformat": 4,
 "nbformat_minor": 5
}
